{
 "cells": [
  {
   "cell_type": "code",
   "execution_count": null,
   "id": "c284d771",
   "metadata": {},
   "outputs": [],
   "source": []
  },
  {
   "cell_type": "code",
   "execution_count": 1,
   "id": "417b7d33",
   "metadata": {},
   "outputs": [
    {
     "name": "stdout",
     "output_type": "stream",
     "text": [
      "Requirement already satisfied: pydot in ./.local/lib/python3.8/site-packages (1.4.2)\n",
      "Requirement already satisfied: pyparsing>=2.1.4 in /usr/lib/python3/dist-packages (from pydot) (2.4.6)\n",
      "Note: you may need to restart the kernel to use updated packages.\n"
     ]
    }
   ],
   "source": [
    "pip install pydot"
   ]
  },
  {
   "cell_type": "code",
   "execution_count": null,
   "id": "ac293c90",
   "metadata": {},
   "outputs": [],
   "source": []
  },
  {
   "cell_type": "code",
   "execution_count": 2,
   "id": "80b52136",
   "metadata": {},
   "outputs": [
    {
     "name": "stdout",
     "output_type": "stream",
     "text": [
      "Requirement already satisfied: plotly in ./.local/lib/python3.8/site-packages (5.11.0)\n",
      "Requirement already satisfied: tenacity>=6.2.0 in ./.local/lib/python3.8/site-packages (from plotly) (8.1.0)\n",
      "Note: you may need to restart the kernel to use updated packages.\n"
     ]
    }
   ],
   "source": [
    "pip install plotly"
   ]
  },
  {
   "cell_type": "code",
   "execution_count": null,
   "id": "b09b0627",
   "metadata": {},
   "outputs": [],
   "source": []
  },
  {
   "cell_type": "code",
   "execution_count": 3,
   "id": "1a75b1bc",
   "metadata": {},
   "outputs": [
    {
     "name": "stdout",
     "output_type": "stream",
     "text": [
      "Requirement already up-to-date: kaleido in ./.local/lib/python3.8/site-packages (0.2.1)\n",
      "Note: you may need to restart the kernel to use updated packages.\n"
     ]
    }
   ],
   "source": [
    "pip install -U kaleido"
   ]
  },
  {
   "cell_type": "code",
   "execution_count": null,
   "id": "25a2a5ea",
   "metadata": {},
   "outputs": [],
   "source": []
  },
  {
   "cell_type": "markdown",
   "id": "f25781ce",
   "metadata": {},
   "source": [
    "### Učitavanje biblioteka"
   ]
  },
  {
   "cell_type": "code",
   "execution_count": 4,
   "id": "497439f2",
   "metadata": {},
   "outputs": [],
   "source": [
    "# Biblioteke za pripremu i vizualizaciju podataka\n",
    "import numpy as np\n",
    "import pandas as pd\n",
    "import plotly.offline as py\n",
    "import plotly.graph_objs as go\n",
    "import plotly.io as pio\n",
    "pio.renderers.default = \"png\"\n",
    "import matplotlib.pyplot as plt\n",
    "import random\n",
    "from sklearn.preprocessing import LabelEncoder\n",
    "\n",
    "# pip install scikit-surprise\n",
    "# Biblioteke za kreiranje modela i evaluaciju\n",
    "from surprise import Reader, Dataset\n",
    "from surprise.model_selection import train_test_split, cross_validate, GridSearchCV\n",
    "from surprise import accuracy"
   ]
  },
  {
   "cell_type": "code",
   "execution_count": null,
   "id": "bb63047e",
   "metadata": {},
   "outputs": [],
   "source": []
  },
  {
   "cell_type": "code",
   "execution_count": 5,
   "id": "ffa10422",
   "metadata": {},
   "outputs": [
    {
     "name": "stdout",
     "output_type": "stream",
     "text": [
      "Requirement already satisfied: keras in ./.local/lib/python3.8/site-packages (2.11.0)\n",
      "Note: you may need to restart the kernel to use updated packages.\n"
     ]
    }
   ],
   "source": [
    "pip install keras"
   ]
  },
  {
   "cell_type": "code",
   "execution_count": 6,
   "id": "354636e8",
   "metadata": {},
   "outputs": [
    {
     "name": "stdout",
     "output_type": "stream",
     "text": [
      "Requirement already satisfied: tensorflow in ./.local/lib/python3.8/site-packages (2.11.0)\n",
      "Requirement already satisfied: protobuf<3.20,>=3.9.2 in ./.local/lib/python3.8/site-packages (from tensorflow) (3.19.6)\n",
      "Requirement already satisfied: tensorflow-io-gcs-filesystem>=0.23.1; platform_machine != \"arm64\" or platform_system != \"Darwin\" in ./.local/lib/python3.8/site-packages (from tensorflow) (0.29.0)\n",
      "Requirement already satisfied: gast<=0.4.0,>=0.2.1 in ./.local/lib/python3.8/site-packages (from tensorflow) (0.4.0)\n",
      "Requirement already satisfied: google-pasta>=0.1.1 in ./.local/lib/python3.8/site-packages (from tensorflow) (0.2.0)\n",
      "Requirement already satisfied: setuptools in /usr/lib/python3/dist-packages (from tensorflow) (45.2.0)\n",
      "Requirement already satisfied: packaging in /usr/lib/python3/dist-packages (from tensorflow) (20.3)\n",
      "Requirement already satisfied: wrapt>=1.11.0 in ./.local/lib/python3.8/site-packages (from tensorflow) (1.14.1)\n",
      "Requirement already satisfied: tensorboard<2.12,>=2.11 in ./.local/lib/python3.8/site-packages (from tensorflow) (2.11.0)\n",
      "Requirement already satisfied: flatbuffers>=2.0 in ./.local/lib/python3.8/site-packages (from tensorflow) (23.1.4)\n",
      "Requirement already satisfied: grpcio<2.0,>=1.24.3 in ./.local/lib/python3.8/site-packages (from tensorflow) (1.51.1)\n",
      "Requirement already satisfied: h5py>=2.9.0 in ./.local/lib/python3.8/site-packages (from tensorflow) (3.7.0)\n",
      "Requirement already satisfied: numpy>=1.20 in ./.local/lib/python3.8/site-packages (from tensorflow) (1.22.2)\n",
      "Requirement already satisfied: six>=1.12.0 in /usr/lib/python3/dist-packages (from tensorflow) (1.14.0)\n",
      "Requirement already satisfied: termcolor>=1.1.0 in ./.local/lib/python3.8/site-packages (from tensorflow) (2.2.0)\n",
      "Requirement already satisfied: typing-extensions>=3.6.6 in ./.local/lib/python3.8/site-packages (from tensorflow) (4.0.1)\n",
      "Requirement already satisfied: absl-py>=1.0.0 in ./.local/lib/python3.8/site-packages (from tensorflow) (1.3.0)\n",
      "Requirement already satisfied: keras<2.12,>=2.11.0 in ./.local/lib/python3.8/site-packages (from tensorflow) (2.11.0)\n",
      "Requirement already satisfied: opt-einsum>=2.3.2 in ./.local/lib/python3.8/site-packages (from tensorflow) (3.3.0)\n",
      "Requirement already satisfied: tensorflow-estimator<2.12,>=2.11.0 in ./.local/lib/python3.8/site-packages (from tensorflow) (2.11.0)\n",
      "Requirement already satisfied: libclang>=13.0.0 in ./.local/lib/python3.8/site-packages (from tensorflow) (14.0.6)\n",
      "Requirement already satisfied: astunparse>=1.6.0 in ./.local/lib/python3.8/site-packages (from tensorflow) (1.6.3)\n",
      "Requirement already satisfied: markdown>=2.6.8 in /usr/lib/python3/dist-packages (from tensorboard<2.12,>=2.11->tensorflow) (3.1.1)\n",
      "Requirement already satisfied: requests<3,>=2.21.0 in /usr/lib/python3/dist-packages (from tensorboard<2.12,>=2.11->tensorflow) (2.22.0)\n",
      "Requirement already satisfied: tensorboard-data-server<0.7.0,>=0.6.0 in ./.local/lib/python3.8/site-packages (from tensorboard<2.12,>=2.11->tensorflow) (0.6.1)\n",
      "Requirement already satisfied: google-auth-oauthlib<0.5,>=0.4.1 in ./.local/lib/python3.8/site-packages (from tensorboard<2.12,>=2.11->tensorflow) (0.4.6)\n",
      "Requirement already satisfied: werkzeug>=1.0.1 in ./.local/lib/python3.8/site-packages (from tensorboard<2.12,>=2.11->tensorflow) (2.2.2)\n",
      "Requirement already satisfied: tensorboard-plugin-wit>=1.6.0 in ./.local/lib/python3.8/site-packages (from tensorboard<2.12,>=2.11->tensorflow) (1.8.1)\n",
      "Requirement already satisfied: google-auth<3,>=1.6.3 in ./.local/lib/python3.8/site-packages (from tensorboard<2.12,>=2.11->tensorflow) (2.15.0)\n",
      "Requirement already satisfied: wheel>=0.26 in /usr/lib/python3/dist-packages (from tensorboard<2.12,>=2.11->tensorflow) (0.34.2)\n",
      "Requirement already satisfied: requests-oauthlib>=0.7.0 in ./.local/lib/python3.8/site-packages (from google-auth-oauthlib<0.5,>=0.4.1->tensorboard<2.12,>=2.11->tensorflow) (1.3.1)\n",
      "Requirement already satisfied: MarkupSafe>=2.1.1 in ./.local/lib/python3.8/site-packages (from werkzeug>=1.0.1->tensorboard<2.12,>=2.11->tensorflow) (2.1.1)\n",
      "Requirement already satisfied: pyasn1-modules>=0.2.1 in ./.local/lib/python3.8/site-packages (from google-auth<3,>=1.6.3->tensorboard<2.12,>=2.11->tensorflow) (0.2.8)\n",
      "Requirement already satisfied: rsa<5,>=3.1.4; python_version >= \"3.6\" in ./.local/lib/python3.8/site-packages (from google-auth<3,>=1.6.3->tensorboard<2.12,>=2.11->tensorflow) (4.9)\n",
      "Requirement already satisfied: cachetools<6.0,>=2.0.0 in ./.local/lib/python3.8/site-packages (from google-auth<3,>=1.6.3->tensorboard<2.12,>=2.11->tensorflow) (5.2.0)\n",
      "Requirement already satisfied: oauthlib>=3.0.0 in /usr/lib/python3/dist-packages (from requests-oauthlib>=0.7.0->google-auth-oauthlib<0.5,>=0.4.1->tensorboard<2.12,>=2.11->tensorflow) (3.1.0)\n",
      "Requirement already satisfied: pyasn1<0.5.0,>=0.4.6 in ./.local/lib/python3.8/site-packages (from pyasn1-modules>=0.2.1->google-auth<3,>=1.6.3->tensorboard<2.12,>=2.11->tensorflow) (0.4.8)\n",
      "Note: you may need to restart the kernel to use updated packages.\n"
     ]
    }
   ],
   "source": [
    "pip install tensorflow"
   ]
  },
  {
   "cell_type": "code",
   "execution_count": null,
   "id": "87f037d1",
   "metadata": {},
   "outputs": [],
   "source": []
  },
  {
   "cell_type": "code",
   "execution_count": 7,
   "id": "5e0338e5",
   "metadata": {},
   "outputs": [
    {
     "name": "stderr",
     "output_type": "stream",
     "text": [
      "2023-07-02 15:25:05.074268: I tensorflow/core/platform/cpu_feature_guard.cc:193] This TensorFlow binary is optimized with oneAPI Deep Neural Network Library (oneDNN) to use the following CPU instructions in performance-critical operations:  AVX2 FMA\n",
      "To enable them in other operations, rebuild TensorFlow with the appropriate compiler flags.\n",
      "2023-07-02 15:25:05.497145: W tensorflow/compiler/xla/stream_executor/platform/default/dso_loader.cc:64] Could not load dynamic library 'libcudart.so.11.0'; dlerror: libcudart.so.11.0: cannot open shared object file: No such file or directory\n",
      "2023-07-02 15:25:05.497192: I tensorflow/compiler/xla/stream_executor/cuda/cudart_stub.cc:29] Ignore above cudart dlerror if you do not have a GPU set up on your machine.\n",
      "2023-07-02 15:25:06.772189: W tensorflow/compiler/xla/stream_executor/platform/default/dso_loader.cc:64] Could not load dynamic library 'libnvinfer.so.7'; dlerror: libnvinfer.so.7: cannot open shared object file: No such file or directory\n",
      "2023-07-02 15:25:06.772314: W tensorflow/compiler/xla/stream_executor/platform/default/dso_loader.cc:64] Could not load dynamic library 'libnvinfer_plugin.so.7'; dlerror: libnvinfer_plugin.so.7: cannot open shared object file: No such file or directory\n",
      "2023-07-02 15:25:06.772324: W tensorflow/compiler/tf2tensorrt/utils/py_utils.cc:38] TF-TRT Warning: Cannot dlopen some TensorRT libraries. If you would like to use Nvidia GPU with TensorRT, please make sure the missing libraries mentioned above are installed properly.\n",
      "/usr/lib/python3/dist-packages/requests/__init__.py:89: RequestsDependencyWarning:\n",
      "\n",
      "urllib3 (1.26.9) or chardet (3.0.4) doesn't match a supported version!\n",
      "\n"
     ]
    }
   ],
   "source": [
    "# Biblioteke za rad sa modelima zasnovanim na dubokom učenju\n",
    "from keras.layers import Embedding, Input, Flatten, dot, concatenate\n",
    "from keras.models import Model\n",
    "from tensorflow.keras.optimizers import Adam\n",
    "from IPython.display import SVG\n",
    "from keras.utils.vis_utils import model_to_dot\n",
    "#from tensorflow.keras.utils import model_to_dot"
   ]
  },
  {
   "cell_type": "code",
   "execution_count": null,
   "id": "47c72663",
   "metadata": {},
   "outputs": [],
   "source": []
  },
  {
   "cell_type": "markdown",
   "id": "2b7c351f",
   "metadata": {},
   "source": [
    "### Učitavanje skupa podataka"
   ]
  },
  {
   "cell_type": "code",
   "execution_count": 8,
   "id": "a64dd87e",
   "metadata": {},
   "outputs": [
    {
     "name": "stderr",
     "output_type": "stream",
     "text": [
      "/tmp/ipykernel_7433/3257419211.py:3: FutureWarning:\n",
      "\n",
      "The error_bad_lines argument has been deprecated and will be removed in a future version. Use on_bad_lines in the future.\n",
      "\n",
      "\n",
      "\n",
      "/tmp/ipykernel_7433/3257419211.py:3: FutureWarning:\n",
      "\n",
      "The warn_bad_lines argument has been deprecated and will be removed in a future version. Use on_bad_lines in the future.\n",
      "\n",
      "\n",
      "\n"
     ]
    }
   ],
   "source": [
    "# Učitavanje skupa podataka \n",
    "def loaddata(filename):\n",
    "    df = pd.read_csv(f'{filename}.csv',sep=',',error_bad_lines=False, warn_bad_lines=False, encoding='latin-1')\n",
    "    return df\n",
    "\n",
    "data = loaddata('skup_amazon/fashion')"
   ]
  },
  {
   "cell_type": "code",
   "execution_count": null,
   "id": "32dd081d",
   "metadata": {},
   "outputs": [],
   "source": []
  },
  {
   "cell_type": "markdown",
   "id": "7d4c8841",
   "metadata": {},
   "source": [
    "### Pretprocesiranje"
   ]
  },
  {
   "cell_type": "code",
   "execution_count": 9,
   "id": "848ba918",
   "metadata": {},
   "outputs": [
    {
     "data": {
      "text/html": [
       "<div>\n",
       "<style scoped>\n",
       "    .dataframe tbody tr th:only-of-type {\n",
       "        vertical-align: middle;\n",
       "    }\n",
       "\n",
       "    .dataframe tbody tr th {\n",
       "        vertical-align: top;\n",
       "    }\n",
       "\n",
       "    .dataframe thead th {\n",
       "        text-align: right;\n",
       "    }\n",
       "</style>\n",
       "<table border=\"1\" class=\"dataframe\">\n",
       "  <thead>\n",
       "    <tr style=\"text-align: right;\">\n",
       "      <th></th>\n",
       "      <th>reviewerID</th>\n",
       "      <th>asin</th>\n",
       "      <th>overall</th>\n",
       "    </tr>\n",
       "  </thead>\n",
       "  <tbody>\n",
       "    <tr>\n",
       "      <th>0</th>\n",
       "      <td>A1D4G1SNUZWQOT</td>\n",
       "      <td>7106116521</td>\n",
       "      <td>5</td>\n",
       "    </tr>\n",
       "    <tr>\n",
       "      <th>1</th>\n",
       "      <td>A3DDWDH9PX2YX2</td>\n",
       "      <td>7106116521</td>\n",
       "      <td>2</td>\n",
       "    </tr>\n",
       "    <tr>\n",
       "      <th>2</th>\n",
       "      <td>A2MWC41EW7XL15</td>\n",
       "      <td>7106116521</td>\n",
       "      <td>4</td>\n",
       "    </tr>\n",
       "  </tbody>\n",
       "</table>\n",
       "</div>"
      ],
      "text/plain": [
       "       reviewerID        asin  overall\n",
       "0  A1D4G1SNUZWQOT  7106116521        5\n",
       "1  A3DDWDH9PX2YX2  7106116521        2\n",
       "2  A2MWC41EW7XL15  7106116521        4"
      ]
     },
     "execution_count": 9,
     "metadata": {},
     "output_type": "execute_result"
    }
   ],
   "source": [
    "ratings = data.drop(['verified', 'reviewTime', 'unixReviewTime', 'reviewerName', 'reviewText', 'summary', 'vote', 'style/Color:', 'style/Size:', 'image/0', 'style/Metal Type:', 'image/1', 'image/2', 'image/3', 'image/4', 'image/5', 'image/6', 'image/7', 'image/8', 'image/9', 'image/10', 'image/11', 'image/12', 'image/13', 'style/Size Name:', 'style/Style:'], axis=1)\n",
    "ratings = ratings[['reviewerID','asin','overall']]\n",
    "ratings.head(3)"
   ]
  },
  {
   "cell_type": "code",
   "execution_count": null,
   "id": "c929a3dd",
   "metadata": {},
   "outputs": [],
   "source": []
  },
  {
   "cell_type": "code",
   "execution_count": 10,
   "id": "70ed511a",
   "metadata": {},
   "outputs": [],
   "source": [
    "def encode_user_item(df, user_col, item_col, rating_col):\n",
    "    \"\"\"Funkcija za enkoiranje korisnika i stavki\n",
    "    \n",
    "    Parametri:     \n",
    "        df (pd.DataFrame): Pandas dataframe - tabela sa interakcijama.\n",
    "        user_col (string): Naziv kolone koja predstavlja korisnika.\n",
    "        item_col (string): Naziv kolone koja predstavlja stavku.\n",
    "        rating_col (string): Naziv kolone koja predstavlja ocenu.\n",
    "    \n",
    "    Povratna vrednost: \n",
    "        encoded_df (pd.DataFrame): Modifikovan dataframe sa indeksima korisnika i stavki\n",
    "    \"\"\"\n",
    "    \n",
    "    encoded_df = df.copy()\n",
    "    \n",
    "    user_encoder = LabelEncoder() # Enkodiranje vrednosti promenljie sa vrednostima između 0 i n_classes-1.\n",
    "    user_encoder.fit(encoded_df[user_col].values)\n",
    "    n_users = len(user_encoder.classes_)\n",
    "    \n",
    "    item_encoder = LabelEncoder()\n",
    "    item_encoder.fit(encoded_df[item_col].values)\n",
    "    n_items = len(item_encoder.classes_)\n",
    "\n",
    "    encoded_df[\"USER\"] = user_encoder.transform(encoded_df[user_col])\n",
    "    encoded_df[\"ITEM\"] = item_encoder.transform(encoded_df[item_col])\n",
    "    \n",
    "    encoded_df.rename({rating_col: \"RATING\"}, axis=1, inplace=True)\n",
    "    \n",
    "    print(\"Broj korisnika: \", n_users)\n",
    "    print(\"Broj stavki: \", n_items)\n",
    "    \n",
    "    return encoded_df, user_encoder, item_encoder"
   ]
  },
  {
   "cell_type": "code",
   "execution_count": null,
   "id": "b918ecc2",
   "metadata": {},
   "outputs": [],
   "source": []
  },
  {
   "cell_type": "code",
   "execution_count": 11,
   "id": "7ee0e01d",
   "metadata": {},
   "outputs": [
    {
     "name": "stdout",
     "output_type": "stream",
     "text": [
      "Broj korisnika:  18320\n",
      "Broj stavki:  141\n"
     ]
    }
   ],
   "source": [
    "DATA, user_encoder, item_encoder = encode_user_item(ratings, \"reviewerID\", \"asin\", \"overall\")"
   ]
  },
  {
   "cell_type": "code",
   "execution_count": 12,
   "id": "20c0e6ec",
   "metadata": {},
   "outputs": [
    {
     "data": {
      "text/html": [
       "<div>\n",
       "<style scoped>\n",
       "    .dataframe tbody tr th:only-of-type {\n",
       "        vertical-align: middle;\n",
       "    }\n",
       "\n",
       "    .dataframe tbody tr th {\n",
       "        vertical-align: top;\n",
       "    }\n",
       "\n",
       "    .dataframe thead th {\n",
       "        text-align: right;\n",
       "    }\n",
       "</style>\n",
       "<table border=\"1\" class=\"dataframe\">\n",
       "  <thead>\n",
       "    <tr style=\"text-align: right;\">\n",
       "      <th></th>\n",
       "      <th>reviewerID</th>\n",
       "      <th>asin</th>\n",
       "      <th>RATING</th>\n",
       "      <th>USER</th>\n",
       "      <th>ITEM</th>\n",
       "    </tr>\n",
       "  </thead>\n",
       "  <tbody>\n",
       "    <tr>\n",
       "      <th>0</th>\n",
       "      <td>A1D4G1SNUZWQOT</td>\n",
       "      <td>7106116521</td>\n",
       "      <td>5</td>\n",
       "      <td>1842</td>\n",
       "      <td>0</td>\n",
       "    </tr>\n",
       "    <tr>\n",
       "      <th>1</th>\n",
       "      <td>A3DDWDH9PX2YX2</td>\n",
       "      <td>7106116521</td>\n",
       "      <td>2</td>\n",
       "      <td>11460</td>\n",
       "      <td>0</td>\n",
       "    </tr>\n",
       "    <tr>\n",
       "      <th>2</th>\n",
       "      <td>A2MWC41EW7XL15</td>\n",
       "      <td>7106116521</td>\n",
       "      <td>4</td>\n",
       "      <td>7912</td>\n",
       "      <td>0</td>\n",
       "    </tr>\n",
       "    <tr>\n",
       "      <th>3</th>\n",
       "      <td>A2UH2QQ275NV45</td>\n",
       "      <td>7106116521</td>\n",
       "      <td>2</td>\n",
       "      <td>8958</td>\n",
       "      <td>0</td>\n",
       "    </tr>\n",
       "    <tr>\n",
       "      <th>4</th>\n",
       "      <td>A89F3LQADZBS5</td>\n",
       "      <td>7106116521</td>\n",
       "      <td>3</td>\n",
       "      <td>14563</td>\n",
       "      <td>0</td>\n",
       "    </tr>\n",
       "    <tr>\n",
       "      <th>...</th>\n",
       "      <td>...</td>\n",
       "      <td>...</td>\n",
       "      <td>...</td>\n",
       "      <td>...</td>\n",
       "      <td>...</td>\n",
       "    </tr>\n",
       "    <tr>\n",
       "      <th>19994</th>\n",
       "      <td>A2I8U2L6ZOLPP9</td>\n",
       "      <td>B000P0X15G</td>\n",
       "      <td>5</td>\n",
       "      <td>7307</td>\n",
       "      <td>140</td>\n",
       "    </tr>\n",
       "    <tr>\n",
       "      <th>19995</th>\n",
       "      <td>A38SLX4EMMLSTL</td>\n",
       "      <td>B000P0X15G</td>\n",
       "      <td>5</td>\n",
       "      <td>10827</td>\n",
       "      <td>140</td>\n",
       "    </tr>\n",
       "    <tr>\n",
       "      <th>19996</th>\n",
       "      <td>A24NGH58L8CWDT</td>\n",
       "      <td>B000P0X15G</td>\n",
       "      <td>5</td>\n",
       "      <td>5509</td>\n",
       "      <td>140</td>\n",
       "    </tr>\n",
       "    <tr>\n",
       "      <th>19997</th>\n",
       "      <td>A1NJ9OSQZOZB02</td>\n",
       "      <td>B000P0X15G</td>\n",
       "      <td>5</td>\n",
       "      <td>3183</td>\n",
       "      <td>140</td>\n",
       "    </tr>\n",
       "    <tr>\n",
       "      <th>19998</th>\n",
       "      <td>A2Y39N7FDHEPNY</td>\n",
       "      <td>B000P0X15G</td>\n",
       "      <td>5</td>\n",
       "      <td>9455</td>\n",
       "      <td>140</td>\n",
       "    </tr>\n",
       "  </tbody>\n",
       "</table>\n",
       "<p>19999 rows × 5 columns</p>\n",
       "</div>"
      ],
      "text/plain": [
       "           reviewerID        asin  RATING   USER  ITEM\n",
       "0      A1D4G1SNUZWQOT  7106116521       5   1842     0\n",
       "1      A3DDWDH9PX2YX2  7106116521       2  11460     0\n",
       "2      A2MWC41EW7XL15  7106116521       4   7912     0\n",
       "3      A2UH2QQ275NV45  7106116521       2   8958     0\n",
       "4       A89F3LQADZBS5  7106116521       3  14563     0\n",
       "...               ...         ...     ...    ...   ...\n",
       "19994  A2I8U2L6ZOLPP9  B000P0X15G       5   7307   140\n",
       "19995  A38SLX4EMMLSTL  B000P0X15G       5  10827   140\n",
       "19996  A24NGH58L8CWDT  B000P0X15G       5   5509   140\n",
       "19997  A1NJ9OSQZOZB02  B000P0X15G       5   3183   140\n",
       "19998  A2Y39N7FDHEPNY  B000P0X15G       5   9455   140\n",
       "\n",
       "[19999 rows x 5 columns]"
      ]
     },
     "execution_count": 12,
     "metadata": {},
     "output_type": "execute_result"
    }
   ],
   "source": [
    "DATA"
   ]
  },
  {
   "cell_type": "code",
   "execution_count": 13,
   "id": "f0bed70d",
   "metadata": {},
   "outputs": [
    {
     "data": {
      "text/plain": [
       "(18320, 141)"
      ]
     },
     "execution_count": 13,
     "metadata": {},
     "output_type": "execute_result"
    }
   ],
   "source": [
    "n_users = DATA.USER.nunique()\n",
    "n_items = DATA.ITEM.nunique()\n",
    "n_users, n_items"
   ]
  },
  {
   "cell_type": "code",
   "execution_count": 14,
   "id": "779c585e",
   "metadata": {},
   "outputs": [
    {
     "data": {
      "text/plain": [
       "(1, 5)"
      ]
     },
     "execution_count": 14,
     "metadata": {},
     "output_type": "execute_result"
    }
   ],
   "source": [
    "max_rating = DATA.RATING.max()\n",
    "min_rating = DATA.RATING.min()\n",
    "min_rating, max_rating"
   ]
  },
  {
   "cell_type": "code",
   "execution_count": null,
   "id": "83bd10e4",
   "metadata": {},
   "outputs": [],
   "source": []
  },
  {
   "cell_type": "code",
   "execution_count": 15,
   "id": "8ace1d8c",
   "metadata": {},
   "outputs": [
    {
     "data": {
      "text/html": [
       "<div>\n",
       "<style scoped>\n",
       "    .dataframe tbody tr th:only-of-type {\n",
       "        vertical-align: middle;\n",
       "    }\n",
       "\n",
       "    .dataframe tbody tr th {\n",
       "        vertical-align: top;\n",
       "    }\n",
       "\n",
       "    .dataframe thead th {\n",
       "        text-align: right;\n",
       "    }\n",
       "</style>\n",
       "<table border=\"1\" class=\"dataframe\">\n",
       "  <thead>\n",
       "    <tr style=\"text-align: right;\">\n",
       "      <th></th>\n",
       "      <th>reviewerID</th>\n",
       "      <th>asin</th>\n",
       "      <th>RATING</th>\n",
       "      <th>USER</th>\n",
       "      <th>ITEM</th>\n",
       "    </tr>\n",
       "  </thead>\n",
       "  <tbody>\n",
       "    <tr>\n",
       "      <th>0</th>\n",
       "      <td>AEQ0PWKRT7ANQ</td>\n",
       "      <td>B000KPIHQ4</td>\n",
       "      <td>5</td>\n",
       "      <td>15422</td>\n",
       "      <td>115</td>\n",
       "    </tr>\n",
       "    <tr>\n",
       "      <th>1</th>\n",
       "      <td>A2I0M3X174ADSW</td>\n",
       "      <td>B000HR77R0</td>\n",
       "      <td>2</td>\n",
       "      <td>7274</td>\n",
       "      <td>100</td>\n",
       "    </tr>\n",
       "    <tr>\n",
       "      <th>2</th>\n",
       "      <td>AD8Y84L4457LI</td>\n",
       "      <td>B000NBIMG0</td>\n",
       "      <td>5</td>\n",
       "      <td>15223</td>\n",
       "      <td>128</td>\n",
       "    </tr>\n",
       "  </tbody>\n",
       "</table>\n",
       "</div>"
      ],
      "text/plain": [
       "       reviewerID        asin  RATING   USER  ITEM\n",
       "0   AEQ0PWKRT7ANQ  B000KPIHQ4       5  15422   115\n",
       "1  A2I0M3X174ADSW  B000HR77R0       2   7274   100\n",
       "2   AD8Y84L4457LI  B000NBIMG0       5  15223   128"
      ]
     },
     "execution_count": 15,
     "metadata": {},
     "output_type": "execute_result"
    }
   ],
   "source": [
    "# Mešanje skupa podataka\n",
    "\n",
    "shuffled_ratings = DATA.sample(frac = 1, random_state = 1).reset_index() # shuffle dataset\n",
    "shuffled_ratings = shuffled_ratings.drop(['index'], axis = 1)\n",
    "shuffled_ratings.head(3)"
   ]
  },
  {
   "cell_type": "code",
   "execution_count": 16,
   "id": "854372c6",
   "metadata": {},
   "outputs": [
    {
     "data": {
      "text/plain": [
       "Index(['reviewerID', 'asin', 'RATING', 'USER', 'ITEM'], dtype='object')"
      ]
     },
     "execution_count": 16,
     "metadata": {},
     "output_type": "execute_result"
    }
   ],
   "source": [
    "shuffled_ratings.columns"
   ]
  },
  {
   "cell_type": "code",
   "execution_count": null,
   "id": "6f0edfda",
   "metadata": {},
   "outputs": [],
   "source": []
  },
  {
   "cell_type": "markdown",
   "id": "b67a0bcd",
   "metadata": {},
   "source": [
    "### Podela skupa podataka"
   ]
  },
  {
   "cell_type": "code",
   "execution_count": 17,
   "id": "33201a18",
   "metadata": {},
   "outputs": [],
   "source": [
    "# x_train, x_test, y_train, y_test = train_test_split(X, Y, test_size = 0.2, random_state = 66)"
   ]
  },
  {
   "cell_type": "code",
   "execution_count": 18,
   "id": "1a2140eb",
   "metadata": {},
   "outputs": [],
   "source": [
    "X = shuffled_ratings.drop(['reviewerID', 'asin', 'RATING'], axis=1)\n",
    "Y = shuffled_ratings['RATING']"
   ]
  },
  {
   "cell_type": "code",
   "execution_count": null,
   "id": "b8ba998a",
   "metadata": {},
   "outputs": [],
   "source": []
  },
  {
   "cell_type": "code",
   "execution_count": 19,
   "id": "50d99afb",
   "metadata": {},
   "outputs": [],
   "source": [
    "threshold = int(len(Y)*0.7)\n",
    "\n",
    "X_train = X[:threshold] # 70% podataka pripada skupu za trening (X)\n",
    "X_test = X[threshold:] # 30% podataka pripada skupu za testiranje (X)\n",
    "\n",
    "Y_train = Y[:threshold] # 70% podataka pripada skupu za trening (Y)\n",
    "Y_test = Y[threshold:] # 30% podataka pripada skupu za testiranje (Y)"
   ]
  },
  {
   "cell_type": "code",
   "execution_count": 20,
   "id": "9aeaebfb",
   "metadata": {},
   "outputs": [
    {
     "data": {
      "text/plain": [
       "((13999, 2), (6000, 2))"
      ]
     },
     "execution_count": 20,
     "metadata": {},
     "output_type": "execute_result"
    }
   ],
   "source": [
    "X_train.shape, X_test.shape"
   ]
  },
  {
   "cell_type": "code",
   "execution_count": 21,
   "id": "99e1cb8f",
   "metadata": {},
   "outputs": [
    {
     "data": {
      "text/plain": [
       "((13999,), (6000,))"
      ]
     },
     "execution_count": 21,
     "metadata": {},
     "output_type": "execute_result"
    }
   ],
   "source": [
    "Y_train.shape, Y_test.shape"
   ]
  },
  {
   "cell_type": "code",
   "execution_count": 22,
   "id": "133e9087",
   "metadata": {},
   "outputs": [
    {
     "data": {
      "text/plain": [
       "5    8847\n",
       "4    2526\n",
       "3    1174\n",
       "1     777\n",
       "2     675\n",
       "Name: RATING, dtype: int64"
      ]
     },
     "execution_count": 22,
     "metadata": {},
     "output_type": "execute_result"
    }
   ],
   "source": [
    "Y_train.value_counts()"
   ]
  },
  {
   "cell_type": "code",
   "execution_count": 23,
   "id": "3eefdbd2",
   "metadata": {},
   "outputs": [
    {
     "data": {
      "text/plain": [
       "5    3856\n",
       "4    1076\n",
       "3     469\n",
       "1     301\n",
       "2     298\n",
       "Name: RATING, dtype: int64"
      ]
     },
     "execution_count": 23,
     "metadata": {},
     "output_type": "execute_result"
    }
   ],
   "source": [
    "Y_test.value_counts()"
   ]
  },
  {
   "cell_type": "code",
   "execution_count": 24,
   "id": "1fd5cb21",
   "metadata": {},
   "outputs": [
    {
     "data": {
      "image/png": "[encoded data removed]",
      "text/plain": [
       "<Figure size 432x288 with 1 Axes>"
      ]
     },
     "metadata": {
      "needs_background": "light"
     },
     "output_type": "display_data"
    }
   ],
   "source": [
    "plt.title(\"Vizualizacija podele skupa na trening i test\")\n",
    "plt.xlabel('Ocena')\n",
    "plt.ylabel('Broj korisnika koji je dao ocenu')\n",
    "plt.hist([Y_train, Y_test], color=['darkgreen', 'cornflowerblue'], label=['Skup za treniranje', 'Skup za testiranje'])\n",
    "plt.legend(loc='best')\n",
    "plt.show()"
   ]
  },
  {
   "cell_type": "code",
   "execution_count": 25,
   "id": "0e82fb68",
   "metadata": {},
   "outputs": [
    {
     "data": {
      "text/plain": [
       "(13999,)"
      ]
     },
     "execution_count": 25,
     "metadata": {},
     "output_type": "execute_result"
    }
   ],
   "source": [
    "Y_train.shape"
   ]
  },
  {
   "cell_type": "code",
   "execution_count": null,
   "id": "e6142c81",
   "metadata": {},
   "outputs": [],
   "source": []
  },
  {
   "cell_type": "markdown",
   "id": "6f5f74f4",
   "metadata": {},
   "source": [
    "### Kreiranje modela"
   ]
  },
  {
   "cell_type": "code",
   "execution_count": 26,
   "id": "9db7df5c",
   "metadata": {},
   "outputs": [],
   "source": [
    "# Broj latentnih faktora\n",
    "n_latent_factors = 50\n",
    "\n",
    "# broj jedinstvenih korisnika i proizvoda\n",
    "n_users, n_products = len(shuffled_ratings['USER'].unique()), len(shuffled_ratings['ITEM'].unique())"
   ]
  },
  {
   "cell_type": "code",
   "execution_count": 27,
   "id": "7bda8949",
   "metadata": {},
   "outputs": [
    {
     "name": "stderr",
     "output_type": "stream",
     "text": [
      "2023-07-02 15:25:09.338712: W tensorflow/compiler/xla/stream_executor/platform/default/dso_loader.cc:64] Could not load dynamic library 'libcuda.so.1'; dlerror: libcuda.so.1: cannot open shared object file: No such file or directory\n",
      "2023-07-02 15:25:09.338772: W tensorflow/compiler/xla/stream_executor/cuda/cuda_driver.cc:265] failed call to cuInit: UNKNOWN ERROR (303)\n",
      "2023-07-02 15:25:09.338803: I tensorflow/compiler/xla/stream_executor/cuda/cuda_diagnostics.cc:156] kernel driver does not appear to be running on this host (jovana-kubuntu): /proc/driver/nvidia/version does not exist\n",
      "2023-07-02 15:25:09.339603: I tensorflow/core/platform/cpu_feature_guard.cc:193] This TensorFlow binary is optimized with oneAPI Deep Neural Network Library (oneDNN) to use the following CPU instructions in performance-critical operations:  AVX2 FMA\n",
      "To enable them in other operations, rebuild TensorFlow with the appropriate compiler flags.\n"
     ]
    }
   ],
   "source": [
    "# Arhitektura modela\n",
    "\n",
    "# Slojevi za korisnika\n",
    "user_input = Input(shape=(1,), name='User_Input')\n",
    "user_embeddings = Embedding(input_dim = n_users, output_dim=n_latent_factors, input_length=1, name='User_Embedding') (user_input)\n",
    "user_vector = Flatten(name='User_Vector') (user_embeddings)\n",
    "\n",
    "\n",
    "# Slojevi za proizvod\n",
    "product_input = Input(shape=(1,), name='Product_Input')\n",
    "product_embeddings = Embedding(input_dim = n_products, output_dim=n_latent_factors, input_length=1, name='Product_Embedding') (product_input)\n",
    "product_vector = Flatten(name='Product_Vector') (product_embeddings)\n",
    "\n",
    "\n",
    "# Skalarni proizvod\n",
    "merged_vectors = dot([user_vector, product_vector], name='Dot_Product', axes=1)\n",
    "model = Model([user_input, product_input], merged_vectors)"
   ]
  },
  {
   "cell_type": "code",
   "execution_count": 28,
   "id": "bb9dc3ec",
   "metadata": {},
   "outputs": [],
   "source": [
    "#SVG(model_to_dot(model, show_shapes=True, show_layer_names=True).create(prog='dot', format='svg'))"
   ]
  },
  {
   "cell_type": "code",
   "execution_count": 29,
   "id": "e0951a80",
   "metadata": {},
   "outputs": [
    {
     "name": "stdout",
     "output_type": "stream",
     "text": [
      "Model: \"model\"\n",
      "__________________________________________________________________________________________________\n",
      " Layer (type)                   Output Shape         Param #     Connected to                     \n",
      "==================================================================================================\n",
      " User_Input (InputLayer)        [(None, 1)]          0           []                               \n",
      "                                                                                                  \n",
      " Product_Input (InputLayer)     [(None, 1)]          0           []                               \n",
      "                                                                                                  \n",
      " User_Embedding (Embedding)     (None, 1, 50)        916000      ['User_Input[0][0]']             \n",
      "                                                                                                  \n",
      " Product_Embedding (Embedding)  (None, 1, 50)        7050        ['Product_Input[0][0]']          \n",
      "                                                                                                  \n",
      " User_Vector (Flatten)          (None, 50)           0           ['User_Embedding[0][0]']         \n",
      "                                                                                                  \n",
      " Product_Vector (Flatten)       (None, 50)           0           ['Product_Embedding[0][0]']      \n",
      "                                                                                                  \n",
      " Dot_Product (Dot)              (None, 1)            0           ['User_Vector[0][0]',            \n",
      "                                                                  'Product_Vector[0][0]']         \n",
      "                                                                                                  \n",
      "==================================================================================================\n",
      "Total params: 923,050\n",
      "Trainable params: 923,050\n",
      "Non-trainable params: 0\n",
      "__________________________________________________________________________________________________\n"
     ]
    }
   ],
   "source": [
    "model.summary()"
   ]
  },
  {
   "cell_type": "code",
   "execution_count": 30,
   "id": "f2814b7d",
   "metadata": {},
   "outputs": [],
   "source": [
    "optimizer = Adam(learning_rate = 0.0005)\n",
    "\n",
    "model.compile(loss='mean_squared_error', optimizer = optimizer)"
   ]
  },
  {
   "cell_type": "code",
   "execution_count": null,
   "id": "4968f1fe",
   "metadata": {},
   "outputs": [],
   "source": []
  },
  {
   "cell_type": "markdown",
   "id": "18154fd7",
   "metadata": {},
   "source": [
    "### Treniranje i testiranje modela za različite vrednosti parametara batch_size i epochs i evaluacija"
   ]
  },
  {
   "cell_type": "code",
   "execution_count": 31,
   "id": "2384e2d5",
   "metadata": {},
   "outputs": [
    {
     "name": "stdout",
     "output_type": "stream",
     "text": [
      "Epoch 1/20\n",
      "110/110 - 3s - loss: 19.6884 - val_loss: 19.8858 - 3s/epoch - 23ms/step\n",
      "Epoch 2/20\n",
      "110/110 - 2s - loss: 19.6270 - val_loss: 19.8743 - 2s/epoch - 16ms/step\n",
      "Epoch 3/20\n",
      "110/110 - 2s - loss: 19.4287 - val_loss: 19.8354 - 2s/epoch - 16ms/step\n",
      "Epoch 4/20\n",
      "110/110 - 2s - loss: 18.9197 - val_loss: 19.7492 - 2s/epoch - 16ms/step\n",
      "Epoch 5/20\n",
      "110/110 - 2s - loss: 17.9782 - val_loss: 19.6099 - 2s/epoch - 16ms/step\n",
      "Epoch 6/20\n",
      "110/110 - 2s - loss: 16.5955 - val_loss: 19.4200 - 2s/epoch - 16ms/step\n",
      "Epoch 7/20\n",
      "110/110 - 2s - loss: 14.8551 - val_loss: 19.1910 - 2s/epoch - 17ms/step\n",
      "Epoch 8/20\n",
      "110/110 - 2s - loss: 12.8891 - val_loss: 18.9473 - 2s/epoch - 16ms/step\n",
      "Epoch 9/20\n",
      "110/110 - 2s - loss: 10.8422 - val_loss: 18.7036 - 2s/epoch - 16ms/step\n",
      "Epoch 10/20\n",
      "110/110 - 2s - loss: 8.8524 - val_loss: 18.4784 - 2s/epoch - 16ms/step\n",
      "Epoch 11/20\n",
      "110/110 - 2s - loss: 7.0261 - val_loss: 18.2779 - 2s/epoch - 16ms/step\n",
      "Epoch 12/20\n",
      "110/110 - 2s - loss: 5.4355 - val_loss: 18.1113 - 2s/epoch - 16ms/step\n",
      "Epoch 13/20\n",
      "110/110 - 2s - loss: 4.1139 - val_loss: 17.9777 - 2s/epoch - 16ms/step\n",
      "Epoch 14/20\n",
      "110/110 - 2s - loss: 3.0630 - val_loss: 17.8761 - 2s/epoch - 16ms/step\n",
      "Epoch 15/20\n",
      "110/110 - 2s - loss: 2.2571 - val_loss: 17.7994 - 2s/epoch - 16ms/step\n",
      "Epoch 16/20\n",
      "110/110 - 2s - loss: 1.6589 - val_loss: 17.7427 - 2s/epoch - 16ms/step\n",
      "Epoch 17/20\n",
      "110/110 - 2s - loss: 1.2233 - val_loss: 17.7019 - 2s/epoch - 16ms/step\n",
      "Epoch 18/20\n",
      "110/110 - 2s - loss: 0.9096 - val_loss: 17.6730 - 2s/epoch - 16ms/step\n",
      "Epoch 19/20\n",
      "110/110 - 2s - loss: 0.6852 - val_loss: 17.6525 - 2s/epoch - 16ms/step\n",
      "Epoch 20/20\n",
      "110/110 - 2s - loss: 0.5230 - val_loss: 17.6371 - 2s/epoch - 16ms/step\n"
     ]
    }
   ],
   "source": [
    "batch_size = 128\n",
    "epochs = 20\n",
    "\n",
    "history = model.fit(x = [X_train['USER'], X_train['ITEM']], y = Y_train, batch_size = batch_size, epochs = epochs, verbose = 2, validation_data = ([X_test['USER'], X_test['ITEM']], Y_test))\n"
   ]
  },
  {
   "cell_type": "code",
   "execution_count": 67,
   "id": "c0987246",
   "metadata": {},
   "outputs": [
    {
     "data": {
      "image/png": "[encoded data removed]",
      "text/plain": [
       "<Figure size 576x288 with 1 Axes>"
      ]
     },
     "metadata": {
      "needs_background": "light"
     },
     "output_type": "display_data"
    },
    {
     "data": {
      "text/plain": [
       "(0.014023113995790482, 17.551349639892578)"
      ]
     },
     "execution_count": 67,
     "metadata": {},
     "output_type": "execute_result"
    }
   ],
   "source": [
    "# Funkcija gubitka tokom treniranja i testiranja\n",
    "training_loss = history.history['loss']\n",
    "test_loss = history.history['val_loss']\n",
    "\n",
    "# Broj epoha\n",
    "epoch_count = range(1, len(training_loss) + 1)\n",
    "\n",
    "# Vizualizacija gubitka kroz epohe\n",
    "plt.figure(figsize = (8,4))\n",
    "plt.plot(epoch_count, training_loss, 'r--')\n",
    "plt.plot(epoch_count, test_loss, 'b-')\n",
    "plt.legend(['Funkcija gubitka na trening skupu', 'Funkcija gubitka na test skupu'])\n",
    "plt.xlabel('Epoha')\n",
    "plt.ylabel('Funkcija gubitka')\n",
    "plt.show()\n",
    "\n",
    "training_loss[19], test_loss[19]"
   ]
  },
  {
   "cell_type": "code",
   "execution_count": null,
   "id": "8ebcdbd2",
   "metadata": {},
   "outputs": [],
   "source": []
  },
  {
   "cell_type": "code",
   "execution_count": 35,
   "id": "f25ca197",
   "metadata": {},
   "outputs": [
    {
     "name": "stdout",
     "output_type": "stream",
     "text": [
      "188/188 [==============================] - 0s 1ms/step - loss: 17.6371\n",
      "\n",
      "RMSE: 4.1997\n"
     ]
    }
   ],
   "source": [
    "score = model.evaluate([X_test['USER'], X_test['ITEM']], Y_test)\n",
    "print()\n",
    "print('RMSE: {:.4f}'.format(np.sqrt(score)))"
   ]
  },
  {
   "cell_type": "code",
   "execution_count": null,
   "id": "cff3d570",
   "metadata": {},
   "outputs": [],
   "source": []
  },
  {
   "cell_type": "code",
   "execution_count": null,
   "id": "8d83d2cb",
   "metadata": {},
   "outputs": [],
   "source": []
  },
  {
   "cell_type": "code",
   "execution_count": null,
   "id": "60695bf9",
   "metadata": {},
   "outputs": [],
   "source": []
  },
  {
   "cell_type": "code",
   "execution_count": 36,
   "id": "eb2af9b6",
   "metadata": {},
   "outputs": [
    {
     "name": "stdout",
     "output_type": "stream",
     "text": [
      "188/188 [==============================] - 0s 2ms/step - loss: 17.6371\n"
     ]
    }
   ],
   "source": [
    "y_pred = model.evaluate([X_test['USER'], X_test['ITEM']], Y_test)"
   ]
  },
  {
   "cell_type": "code",
   "execution_count": null,
   "id": "8d5a000f",
   "metadata": {},
   "outputs": [],
   "source": []
  },
  {
   "cell_type": "code",
   "execution_count": 37,
   "id": "4ab0e6af",
   "metadata": {},
   "outputs": [
    {
     "name": "stdout",
     "output_type": "stream",
     "text": [
      "Epoch 1/10\n",
      "110/110 - 2s - loss: 0.4055 - val_loss: 17.6255 - 2s/epoch - 16ms/step\n",
      "Epoch 2/10\n",
      "110/110 - 2s - loss: 0.3188 - val_loss: 17.6174 - 2s/epoch - 19ms/step\n",
      "Epoch 3/10\n",
      "110/110 - 2s - loss: 0.2537 - val_loss: 17.6111 - 2s/epoch - 17ms/step\n",
      "Epoch 4/10\n",
      "110/110 - 2s - loss: 0.2045 - val_loss: 17.6064 - 2s/epoch - 17ms/step\n",
      "Epoch 5/10\n",
      "110/110 - 2s - loss: 0.1664 - val_loss: 17.6026 - 2s/epoch - 17ms/step\n",
      "Epoch 6/10\n",
      "110/110 - 2s - loss: 0.1364 - val_loss: 17.6000 - 2s/epoch - 15ms/step\n",
      "Epoch 7/10\n",
      "110/110 - 2s - loss: 0.1124 - val_loss: 17.5979 - 2s/epoch - 16ms/step\n",
      "Epoch 8/10\n",
      "110/110 - 2s - loss: 0.0934 - val_loss: 17.5966 - 2s/epoch - 15ms/step\n",
      "Epoch 9/10\n",
      "110/110 - 2s - loss: 0.0777 - val_loss: 17.5955 - 2s/epoch - 15ms/step\n",
      "Epoch 10/10\n",
      "110/110 - 2s - loss: 0.0649 - val_loss: 17.5948 - 2s/epoch - 15ms/step\n"
     ]
    }
   ],
   "source": [
    "batch_size = 128\n",
    "epochs = 10\n",
    "\n",
    "history = model.fit(x = [X_train['USER'], X_train['ITEM']], y = Y_train, batch_size = batch_size, epochs = epochs, verbose = 2, validation_data = ([X_test['USER'], X_test['ITEM']], Y_test))\n"
   ]
  },
  {
   "cell_type": "code",
   "execution_count": 68,
   "id": "dee50748",
   "metadata": {},
   "outputs": [
    {
     "data": {
      "image/png": "[encoded data removed]",
      "text/plain": [
       "<Figure size 576x288 with 1 Axes>"
      ]
     },
     "metadata": {
      "needs_background": "light"
     },
     "output_type": "display_data"
    },
    {
     "data": {
      "text/plain": [
       "(0.010085029527544975, 17.553762435913086)"
      ]
     },
     "execution_count": 68,
     "metadata": {},
     "output_type": "execute_result"
    }
   ],
   "source": [
    "# Funkcija gubitka tokom treniranja i testiranja\n",
    "training_loss = history.history['loss']\n",
    "test_loss = history.history['val_loss']\n",
    "\n",
    "# Broj epoha\n",
    "epoch_count = range(1, len(training_loss) + 1)\n",
    "\n",
    "# Vizualizacija gubitka kroz epohe\n",
    "plt.figure(figsize = (8,4))\n",
    "plt.plot(epoch_count, training_loss, 'r--')\n",
    "plt.plot(epoch_count, test_loss, 'b-')\n",
    "plt.legend(['Funkcija gubitka na trening skupu', 'Funkcija gubitka na test skupu'])\n",
    "plt.xlabel('Epoha')\n",
    "plt.ylabel('Funkcija gubitka')\n",
    "plt.show()\n",
    "\n",
    "training_loss[9], test_loss[9]"
   ]
  },
  {
   "cell_type": "code",
   "execution_count": null,
   "id": "305867b5",
   "metadata": {},
   "outputs": [],
   "source": []
  },
  {
   "cell_type": "code",
   "execution_count": 40,
   "id": "c3ec990b",
   "metadata": {},
   "outputs": [
    {
     "name": "stdout",
     "output_type": "stream",
     "text": [
      "Epoch 1/20\n",
      "219/219 - 4s - loss: 0.0533 - val_loss: 17.5938 - 4s/epoch - 18ms/step\n",
      "Epoch 2/20\n",
      "219/219 - 4s - loss: 0.0407 - val_loss: 17.5937 - 4s/epoch - 17ms/step\n",
      "Epoch 3/20\n",
      "219/219 - 4s - loss: 0.0321 - val_loss: 17.5933 - 4s/epoch - 17ms/step\n",
      "Epoch 4/20\n",
      "219/219 - 4s - loss: 0.0237 - val_loss: 17.5931 - 4s/epoch - 16ms/step\n",
      "Epoch 5/20\n",
      "219/219 - 4s - loss: 0.0190 - val_loss: 17.5932 - 4s/epoch - 18ms/step\n",
      "Epoch 6/20\n",
      "219/219 - 4s - loss: 0.0158 - val_loss: 17.5929 - 4s/epoch - 17ms/step\n",
      "Epoch 7/20\n",
      "219/219 - 3s - loss: 0.0125 - val_loss: 17.5937 - 3s/epoch - 15ms/step\n",
      "Epoch 8/20\n",
      "219/219 - 3s - loss: 0.0106 - val_loss: 17.5915 - 3s/epoch - 15ms/step\n",
      "Epoch 9/20\n",
      "219/219 - 3s - loss: 0.0102 - val_loss: 17.5939 - 3s/epoch - 15ms/step\n",
      "Epoch 10/20\n",
      "219/219 - 3s - loss: 0.0101 - val_loss: 17.5920 - 3s/epoch - 15ms/step\n",
      "Epoch 11/20\n",
      "219/219 - 3s - loss: 0.0099 - val_loss: 17.5926 - 3s/epoch - 15ms/step\n",
      "Epoch 12/20\n",
      "219/219 - 3s - loss: 0.0114 - val_loss: 17.5933 - 3s/epoch - 15ms/step\n",
      "Epoch 13/20\n",
      "219/219 - 3s - loss: 0.0146 - val_loss: 17.5910 - 3s/epoch - 15ms/step\n",
      "Epoch 14/20\n",
      "219/219 - 3s - loss: 0.0174 - val_loss: 17.5944 - 3s/epoch - 16ms/step\n",
      "Epoch 15/20\n",
      "219/219 - 3s - loss: 0.0227 - val_loss: 17.5920 - 3s/epoch - 15ms/step\n",
      "Epoch 16/20\n",
      "219/219 - 3s - loss: 0.0296 - val_loss: 17.5918 - 3s/epoch - 15ms/step\n",
      "Epoch 17/20\n",
      "219/219 - 3s - loss: 0.0333 - val_loss: 17.5921 - 3s/epoch - 15ms/step\n",
      "Epoch 18/20\n",
      "219/219 - 3s - loss: 0.0306 - val_loss: 17.5904 - 3s/epoch - 16ms/step\n",
      "Epoch 19/20\n",
      "219/219 - 3s - loss: 0.0259 - val_loss: 17.5928 - 3s/epoch - 16ms/step\n",
      "Epoch 20/20\n",
      "219/219 - 3s - loss: 0.0215 - val_loss: 17.5901 - 3s/epoch - 15ms/step\n"
     ]
    }
   ],
   "source": [
    "batch_size = 64\n",
    "epochs = 20\n",
    "\n",
    "history = model.fit(x = [X_train['USER'], X_train['ITEM']], y = Y_train, batch_size = batch_size, epochs = epochs, verbose = 2, validation_data = ([X_test['USER'], X_test['ITEM']], Y_test))\n"
   ]
  },
  {
   "cell_type": "code",
   "execution_count": null,
   "id": "c87ed6b4",
   "metadata": {},
   "outputs": [],
   "source": []
  },
  {
   "cell_type": "code",
   "execution_count": 66,
   "id": "d26ade83",
   "metadata": {},
   "outputs": [
    {
     "data": {
      "image/png": "[encoded data removed]",
      "text/plain": [
       "<Figure size 576x288 with 1 Axes>"
      ]
     },
     "metadata": {
      "needs_background": "light"
     },
     "output_type": "display_data"
    },
    {
     "data": {
      "text/plain": [
       "(0.014023113995790482, 17.551349639892578)"
      ]
     },
     "execution_count": 66,
     "metadata": {},
     "output_type": "execute_result"
    }
   ],
   "source": [
    "# Funkcija gubitka tokom treniranja i testiranja\n",
    "training_loss = history.history['loss']\n",
    "test_loss = history.history['val_loss']\n",
    "\n",
    "# Broj epoha\n",
    "epoch_count = range(1, len(training_loss) + 1)\n",
    "\n",
    "# Vizualizacija gubitka kroz epohe\n",
    "plt.figure(figsize = (8,4))\n",
    "plt.plot(epoch_count, training_loss, 'r--')\n",
    "plt.plot(epoch_count, test_loss, 'b-')\n",
    "plt.legend(['Funkcija gubitka na trening skupu', 'Funkcija gubitka na test skupu'])\n",
    "plt.xlabel('Epoha')\n",
    "plt.ylabel('Funkcija gubitka')\n",
    "plt.show()\n",
    "\n",
    "training_loss[19], test_loss[19]"
   ]
  },
  {
   "cell_type": "code",
   "execution_count": null,
   "id": "5ad6be68",
   "metadata": {},
   "outputs": [],
   "source": []
  },
  {
   "cell_type": "code",
   "execution_count": null,
   "id": "b4f12f9f",
   "metadata": {},
   "outputs": [],
   "source": []
  },
  {
   "cell_type": "code",
   "execution_count": 42,
   "id": "3f7f9d25",
   "metadata": {},
   "outputs": [
    {
     "name": "stdout",
     "output_type": "stream",
     "text": [
      "Epoch 1/10\n",
      "219/219 - 4s - loss: 0.0187 - val_loss: 17.5890 - 4s/epoch - 17ms/step\n",
      "Epoch 2/10\n",
      "219/219 - 4s - loss: 0.0174 - val_loss: 17.5879 - 4s/epoch - 17ms/step\n",
      "Epoch 3/10\n",
      "219/219 - 4s - loss: 0.0176 - val_loss: 17.5873 - 4s/epoch - 17ms/step\n",
      "Epoch 4/10\n",
      "219/219 - 3s - loss: 0.0189 - val_loss: 17.5868 - 3s/epoch - 16ms/step\n",
      "Epoch 5/10\n",
      "219/219 - 3s - loss: 0.0214 - val_loss: 17.5873 - 3s/epoch - 15ms/step\n",
      "Epoch 6/10\n",
      "219/219 - 3s - loss: 0.0237 - val_loss: 17.5879 - 3s/epoch - 15ms/step\n",
      "Epoch 7/10\n",
      "219/219 - 3s - loss: 0.0248 - val_loss: 17.5868 - 3s/epoch - 15ms/step\n",
      "Epoch 8/10\n",
      "219/219 - 3s - loss: 0.0242 - val_loss: 17.5870 - 3s/epoch - 15ms/step\n",
      "Epoch 9/10\n",
      "219/219 - 3s - loss: 0.0230 - val_loss: 17.5860 - 3s/epoch - 15ms/step\n",
      "Epoch 10/10\n",
      "219/219 - 3s - loss: 0.0216 - val_loss: 17.5850 - 3s/epoch - 15ms/step\n"
     ]
    }
   ],
   "source": [
    "batch_size = 64\n",
    "epochs = 10\n",
    "\n",
    "history = model.fit(x = [X_train['USER'], X_train['ITEM']], y = Y_train, batch_size = batch_size, epochs = epochs, verbose = 2, validation_data = ([X_test['USER'], X_test['ITEM']], Y_test))\n"
   ]
  },
  {
   "cell_type": "code",
   "execution_count": 64,
   "id": "c52dd6e4",
   "metadata": {},
   "outputs": [
    {
     "data": {
      "image/png": "[encoded data removed]",
      "text/plain": [
       "<Figure size 576x288 with 1 Axes>"
      ]
     },
     "metadata": {
      "needs_background": "light"
     },
     "output_type": "display_data"
    },
    {
     "data": {
      "text/plain": [
       "(0.010085029527544975, 17.553762435913086)"
      ]
     },
     "execution_count": 64,
     "metadata": {},
     "output_type": "execute_result"
    }
   ],
   "source": [
    "# Funkcija gubitka tokom treniranja i testiranja\n",
    "training_loss = history.history['loss']\n",
    "test_loss = history.history['val_loss']\n",
    "\n",
    "# Broj epoha\n",
    "epoch_count = range(1, len(training_loss) + 1)\n",
    "\n",
    "# Vizualizacija gubitka kroz epohe\n",
    "plt.figure(figsize = (8,4))\n",
    "plt.plot(epoch_count, training_loss, 'r--')\n",
    "plt.plot(epoch_count, test_loss, 'b-')\n",
    "plt.legend(['Funkcija gubitka na trening skupu', 'Funkcija gubitka na test skupu'])\n",
    "plt.xlabel('Epoha')\n",
    "plt.ylabel('Funkcija gubitka')\n",
    "plt.show()\n",
    "\n",
    "training_loss[9], test_loss[9]"
   ]
  },
  {
   "cell_type": "code",
   "execution_count": null,
   "id": "aef105b6",
   "metadata": {},
   "outputs": [],
   "source": []
  },
  {
   "cell_type": "code",
   "execution_count": null,
   "id": "df22d1f3",
   "metadata": {},
   "outputs": [],
   "source": []
  },
  {
   "cell_type": "code",
   "execution_count": 44,
   "id": "8d927f15",
   "metadata": {},
   "outputs": [
    {
     "name": "stdout",
     "output_type": "stream",
     "text": [
      "Epoch 1/30\n",
      "219/219 - 4s - loss: 0.0205 - val_loss: 17.5856 - 4s/epoch - 18ms/step\n",
      "Epoch 2/30\n",
      "219/219 - 4s - loss: 0.0200 - val_loss: 17.5840 - 4s/epoch - 17ms/step\n",
      "Epoch 3/30\n",
      "219/219 - 4s - loss: 0.0203 - val_loss: 17.5844 - 4s/epoch - 16ms/step\n",
      "Epoch 4/30\n",
      "219/219 - 3s - loss: 0.0208 - val_loss: 17.5847 - 3s/epoch - 15ms/step\n",
      "Epoch 5/30\n",
      "219/219 - 3s - loss: 0.0214 - val_loss: 17.5833 - 3s/epoch - 15ms/step\n",
      "Epoch 6/30\n",
      "219/219 - 3s - loss: 0.0218 - val_loss: 17.5835 - 3s/epoch - 15ms/step\n",
      "Epoch 7/30\n",
      "219/219 - 3s - loss: 0.0221 - val_loss: 17.5829 - 3s/epoch - 15ms/step\n",
      "Epoch 8/30\n",
      "219/219 - 3s - loss: 0.0217 - val_loss: 17.5833 - 3s/epoch - 15ms/step\n",
      "Epoch 9/30\n",
      "219/219 - 3s - loss: 0.0214 - val_loss: 17.5821 - 3s/epoch - 15ms/step\n",
      "Epoch 10/30\n",
      "219/219 - 3s - loss: 0.0210 - val_loss: 17.5827 - 3s/epoch - 15ms/step\n",
      "Epoch 11/30\n",
      "219/219 - 3s - loss: 0.0208 - val_loss: 17.5816 - 3s/epoch - 15ms/step\n",
      "Epoch 12/30\n",
      "219/219 - 3s - loss: 0.0205 - val_loss: 17.5803 - 3s/epoch - 15ms/step\n",
      "Epoch 13/30\n",
      "219/219 - 3s - loss: 0.0205 - val_loss: 17.5797 - 3s/epoch - 15ms/step\n",
      "Epoch 14/30\n",
      "219/219 - 3s - loss: 0.0206 - val_loss: 17.5802 - 3s/epoch - 15ms/step\n",
      "Epoch 15/30\n",
      "219/219 - 3s - loss: 0.0208 - val_loss: 17.5790 - 3s/epoch - 15ms/step\n",
      "Epoch 16/30\n",
      "219/219 - 3s - loss: 0.0210 - val_loss: 17.5793 - 3s/epoch - 15ms/step\n",
      "Epoch 17/30\n",
      "219/219 - 3s - loss: 0.0211 - val_loss: 17.5789 - 3s/epoch - 15ms/step\n",
      "Epoch 18/30\n",
      "219/219 - 3s - loss: 0.0208 - val_loss: 17.5793 - 3s/epoch - 15ms/step\n",
      "Epoch 19/30\n",
      "219/219 - 3s - loss: 0.0206 - val_loss: 17.5779 - 3s/epoch - 15ms/step\n",
      "Epoch 20/30\n",
      "219/219 - 3s - loss: 0.0203 - val_loss: 17.5776 - 3s/epoch - 15ms/step\n",
      "Epoch 21/30\n",
      "219/219 - 3s - loss: 0.0203 - val_loss: 17.5769 - 3s/epoch - 15ms/step\n",
      "Epoch 22/30\n",
      "219/219 - 3s - loss: 0.0202 - val_loss: 17.5779 - 3s/epoch - 15ms/step\n",
      "Epoch 23/30\n",
      "219/219 - 3s - loss: 0.0202 - val_loss: 17.5760 - 3s/epoch - 15ms/step\n",
      "Epoch 24/30\n",
      "219/219 - 3s - loss: 0.0203 - val_loss: 17.5767 - 3s/epoch - 15ms/step\n",
      "Epoch 25/30\n",
      "219/219 - 3s - loss: 0.0202 - val_loss: 17.5752 - 3s/epoch - 15ms/step\n",
      "Epoch 26/30\n",
      "219/219 - 3s - loss: 0.0200 - val_loss: 17.5759 - 3s/epoch - 15ms/step\n",
      "Epoch 27/30\n",
      "219/219 - 3s - loss: 0.0202 - val_loss: 17.5753 - 3s/epoch - 15ms/step\n",
      "Epoch 28/30\n",
      "219/219 - 3s - loss: 0.0203 - val_loss: 17.5749 - 3s/epoch - 15ms/step\n",
      "Epoch 29/30\n",
      "219/219 - 3s - loss: 0.0201 - val_loss: 17.5753 - 3s/epoch - 16ms/step\n",
      "Epoch 30/30\n",
      "219/219 - 3s - loss: 0.0199 - val_loss: 17.5751 - 3s/epoch - 15ms/step\n"
     ]
    }
   ],
   "source": [
    "batch_size = 64\n",
    "epochs = 30\n",
    "\n",
    "history = model.fit(x = [X_train['USER'], X_train['ITEM']], y = Y_train, batch_size = batch_size, epochs = epochs, verbose = 2, validation_data = ([X_test['USER'], X_test['ITEM']], Y_test))\n"
   ]
  },
  {
   "cell_type": "code",
   "execution_count": 62,
   "id": "66f9dbcb",
   "metadata": {},
   "outputs": [
    {
     "data": {
      "image/png": "[encoded data removed]",
      "text/plain": [
       "<Figure size 576x288 with 1 Axes>"
      ]
     },
     "metadata": {
      "needs_background": "light"
     },
     "output_type": "display_data"
    },
    {
     "data": {
      "text/plain": [
       "(0.015318227000534534, 17.550472259521484)"
      ]
     },
     "execution_count": 62,
     "metadata": {},
     "output_type": "execute_result"
    }
   ],
   "source": [
    "# Funkcija gubitka tokom treniranja i testiranja\n",
    "training_loss = history.history['loss']\n",
    "test_loss = history.history['val_loss']\n",
    "\n",
    "# Broj epoha\n",
    "epoch_count = range(1, len(training_loss) + 1)\n",
    "\n",
    "# Vizualizacija gubitka kroz epohe\n",
    "plt.figure(figsize = (8,4))\n",
    "plt.plot(epoch_count, training_loss, 'r--')\n",
    "plt.plot(epoch_count, test_loss, 'b-')\n",
    "plt.legend(['Funkcija gubitka na trening skupu', 'Funkcija gubitka na test skupu'])\n",
    "plt.xlabel('Epoha')\n",
    "plt.ylabel('Funkcija gubitka')\n",
    "plt.show()\n",
    "\n",
    "training_loss[29], test_loss[29]"
   ]
  },
  {
   "cell_type": "code",
   "execution_count": null,
   "id": "0ecb61de",
   "metadata": {},
   "outputs": [],
   "source": []
  },
  {
   "cell_type": "code",
   "execution_count": null,
   "id": "14a1b174",
   "metadata": {},
   "outputs": [],
   "source": []
  },
  {
   "cell_type": "code",
   "execution_count": 46,
   "id": "54ae725c",
   "metadata": {},
   "outputs": [
    {
     "name": "stdout",
     "output_type": "stream",
     "text": [
      "Epoch 1/30\n",
      "110/110 - 2s - loss: 0.0191 - val_loss: 17.5729 - 2s/epoch - 18ms/step\n",
      "Epoch 2/30\n",
      "110/110 - 2s - loss: 0.0021 - val_loss: 17.5719 - 2s/epoch - 16ms/step\n",
      "Epoch 3/30\n",
      "110/110 - 2s - loss: 0.0018 - val_loss: 17.5721 - 2s/epoch - 17ms/step\n",
      "Epoch 4/30\n",
      "110/110 - 2s - loss: 0.0017 - val_loss: 17.5721 - 2s/epoch - 17ms/step\n",
      "Epoch 5/30\n",
      "110/110 - 2s - loss: 0.0016 - val_loss: 17.5719 - 2s/epoch - 18ms/step\n",
      "Epoch 6/30\n",
      "110/110 - 2s - loss: 0.0016 - val_loss: 17.5718 - 2s/epoch - 17ms/step\n",
      "Epoch 7/30\n",
      "110/110 - 2s - loss: 0.0016 - val_loss: 17.5718 - 2s/epoch - 16ms/step\n",
      "Epoch 8/30\n",
      "110/110 - 2s - loss: 0.0016 - val_loss: 17.5718 - 2s/epoch - 19ms/step\n",
      "Epoch 9/30\n",
      "110/110 - 2s - loss: 0.0016 - val_loss: 17.5717 - 2s/epoch - 17ms/step\n",
      "Epoch 10/30\n",
      "110/110 - 2s - loss: 0.0016 - val_loss: 17.5717 - 2s/epoch - 17ms/step\n",
      "Epoch 11/30\n",
      "110/110 - 2s - loss: 0.0017 - val_loss: 17.5717 - 2s/epoch - 18ms/step\n",
      "Epoch 12/30\n",
      "110/110 - 2s - loss: 0.0017 - val_loss: 17.5717 - 2s/epoch - 19ms/step\n",
      "Epoch 13/30\n",
      "110/110 - 2s - loss: 0.0018 - val_loss: 17.5718 - 2s/epoch - 16ms/step\n",
      "Epoch 14/30\n",
      "110/110 - 2s - loss: 0.0019 - val_loss: 17.5716 - 2s/epoch - 17ms/step\n",
      "Epoch 15/30\n",
      "110/110 - 2s - loss: 0.0020 - val_loss: 17.5718 - 2s/epoch - 16ms/step\n",
      "Epoch 16/30\n",
      "110/110 - 2s - loss: 0.0023 - val_loss: 17.5717 - 2s/epoch - 16ms/step\n",
      "Epoch 17/30\n",
      "110/110 - 2s - loss: 0.0028 - val_loss: 17.5725 - 2s/epoch - 16ms/step\n",
      "Epoch 18/30\n",
      "110/110 - 2s - loss: 0.0037 - val_loss: 17.5717 - 2s/epoch - 17ms/step\n",
      "Epoch 19/30\n",
      "110/110 - 2s - loss: 0.0053 - val_loss: 17.5719 - 2s/epoch - 17ms/step\n",
      "Epoch 20/30\n",
      "110/110 - 2s - loss: 0.0083 - val_loss: 17.5730 - 2s/epoch - 16ms/step\n",
      "Epoch 21/30\n",
      "110/110 - 2s - loss: 0.0129 - val_loss: 17.5722 - 2s/epoch - 17ms/step\n",
      "Epoch 22/30\n",
      "110/110 - 2s - loss: 0.0188 - val_loss: 17.5735 - 2s/epoch - 17ms/step\n",
      "Epoch 23/30\n",
      "110/110 - 2s - loss: 0.0239 - val_loss: 17.5732 - 2s/epoch - 17ms/step\n",
      "Epoch 24/30\n",
      "110/110 - 2s - loss: 0.0255 - val_loss: 17.5726 - 2s/epoch - 16ms/step\n",
      "Epoch 25/30\n",
      "110/110 - 2s - loss: 0.0226 - val_loss: 17.5706 - 2s/epoch - 16ms/step\n",
      "Epoch 26/30\n",
      "110/110 - 2s - loss: 0.0175 - val_loss: 17.5711 - 2s/epoch - 16ms/step\n",
      "Epoch 27/30\n",
      "110/110 - 2s - loss: 0.0124 - val_loss: 17.5697 - 2s/epoch - 16ms/step\n",
      "Epoch 28/30\n",
      "110/110 - 2s - loss: 0.0084 - val_loss: 17.5700 - 2s/epoch - 16ms/step\n",
      "Epoch 29/30\n",
      "110/110 - 2s - loss: 0.0062 - val_loss: 17.5691 - 2s/epoch - 17ms/step\n",
      "Epoch 30/30\n",
      "110/110 - 2s - loss: 0.0050 - val_loss: 17.5696 - 2s/epoch - 16ms/step\n"
     ]
    }
   ],
   "source": [
    "batch_size = 128\n",
    "epochs = 30\n",
    "\n",
    "history = model.fit(x = [X_train['USER'], X_train['ITEM']], y = Y_train, batch_size = batch_size, epochs = epochs, verbose = 2, validation_data = ([X_test['USER'], X_test['ITEM']], Y_test))\n"
   ]
  },
  {
   "cell_type": "code",
   "execution_count": 63,
   "id": "2455157a",
   "metadata": {},
   "outputs": [
    {
     "data": {
      "image/png": "[encoded data removed]",
      "text/plain": [
       "<Figure size 576x288 with 1 Axes>"
      ]
     },
     "metadata": {
      "needs_background": "light"
     },
     "output_type": "display_data"
    },
    {
     "data": {
      "text/plain": [
       "(0.015318227000534534, 17.550472259521484)"
      ]
     },
     "execution_count": 63,
     "metadata": {},
     "output_type": "execute_result"
    }
   ],
   "source": [
    "# Funkcija gubitka tokom treniranja i testiranja\n",
    "training_loss = history.history['loss']\n",
    "test_loss = history.history['val_loss']\n",
    "\n",
    "# Broj epoha\n",
    "epoch_count = range(1, len(training_loss) + 1)\n",
    "\n",
    "# Vizualizacija gubitka kroz epohe\n",
    "plt.figure(figsize = (8,4))\n",
    "plt.plot(epoch_count, training_loss, 'r--')\n",
    "plt.plot(epoch_count, test_loss, 'b-')\n",
    "plt.legend(['Funkcija gubitka na trening skupu', 'Funkcija gubitka na test skupu'])\n",
    "plt.xlabel('Epoha')\n",
    "plt.ylabel('Funkcija gubitka')\n",
    "plt.show()\n",
    "\n",
    "training_loss[29], test_loss[29]"
   ]
  },
  {
   "cell_type": "code",
   "execution_count": null,
   "id": "2837aa66",
   "metadata": {},
   "outputs": [],
   "source": []
  },
  {
   "cell_type": "code",
   "execution_count": null,
   "id": "b53a17e5",
   "metadata": {},
   "outputs": [],
   "source": []
  },
  {
   "cell_type": "code",
   "execution_count": 49,
   "id": "d0e4dfee",
   "metadata": {},
   "outputs": [
    {
     "name": "stdout",
     "output_type": "stream",
     "text": [
      "Epoch 1/100\n",
      "110/110 - 2s - loss: 0.0048 - val_loss: 17.5690 - 2s/epoch - 20ms/step\n",
      "Epoch 2/100\n",
      "110/110 - 2s - loss: 0.0050 - val_loss: 17.5696 - 2s/epoch - 19ms/step\n",
      "Epoch 3/100\n",
      "110/110 - 2s - loss: 0.0057 - val_loss: 17.5690 - 2s/epoch - 16ms/step\n",
      "Epoch 4/100\n",
      "110/110 - 2s - loss: 0.0068 - val_loss: 17.5699 - 2s/epoch - 16ms/step\n",
      "Epoch 5/100\n",
      "110/110 - 2s - loss: 0.0084 - val_loss: 17.5692 - 2s/epoch - 17ms/step\n",
      "Epoch 6/100\n",
      "110/110 - 2s - loss: 0.0104 - val_loss: 17.5702 - 2s/epoch - 15ms/step\n",
      "Epoch 7/100\n",
      "110/110 - 2s - loss: 0.0126 - val_loss: 17.5691 - 2s/epoch - 16ms/step\n",
      "Epoch 8/100\n",
      "110/110 - 2s - loss: 0.0144 - val_loss: 17.5697 - 2s/epoch - 16ms/step\n",
      "Epoch 9/100\n",
      "110/110 - 2s - loss: 0.0154 - val_loss: 17.5687 - 2s/epoch - 17ms/step\n",
      "Epoch 10/100\n",
      "110/110 - 2s - loss: 0.0153 - val_loss: 17.5702 - 2s/epoch - 17ms/step\n",
      "Epoch 11/100\n",
      "110/110 - 2s - loss: 0.0142 - val_loss: 17.5682 - 2s/epoch - 19ms/step\n",
      "Epoch 12/100\n",
      "110/110 - 2s - loss: 0.0127 - val_loss: 17.5686 - 2s/epoch - 17ms/step\n",
      "Epoch 13/100\n",
      "110/110 - 2s - loss: 0.0109 - val_loss: 17.5677 - 2s/epoch - 16ms/step\n",
      "Epoch 14/100\n",
      "110/110 - 2s - loss: 0.0095 - val_loss: 17.5683 - 2s/epoch - 18ms/step\n",
      "Epoch 15/100\n",
      "110/110 - 2s - loss: 0.0085 - val_loss: 17.5675 - 2s/epoch - 19ms/step\n",
      "Epoch 16/100\n",
      "110/110 - 2s - loss: 0.0081 - val_loss: 17.5674 - 2s/epoch - 16ms/step\n",
      "Epoch 17/100\n",
      "110/110 - 2s - loss: 0.0081 - val_loss: 17.5664 - 2s/epoch - 15ms/step\n",
      "Epoch 18/100\n",
      "110/110 - 2s - loss: 0.0083 - val_loss: 17.5677 - 2s/epoch - 15ms/step\n",
      "Epoch 19/100\n",
      "110/110 - 2s - loss: 0.0089 - val_loss: 17.5667 - 2s/epoch - 15ms/step\n",
      "Epoch 20/100\n",
      "110/110 - 2s - loss: 0.0096 - val_loss: 17.5675 - 2s/epoch - 15ms/step\n",
      "Epoch 21/100\n",
      "110/110 - 2s - loss: 0.0105 - val_loss: 17.5663 - 2s/epoch - 15ms/step\n",
      "Epoch 22/100\n",
      "110/110 - 2s - loss: 0.0114 - val_loss: 17.5673 - 2s/epoch - 15ms/step\n",
      "Epoch 23/100\n",
      "110/110 - 2s - loss: 0.0121 - val_loss: 17.5662 - 2s/epoch - 15ms/step\n",
      "Epoch 24/100\n",
      "110/110 - 2s - loss: 0.0124 - val_loss: 17.5662 - 2s/epoch - 15ms/step\n",
      "Epoch 25/100\n",
      "110/110 - 2s - loss: 0.0121 - val_loss: 17.5657 - 2s/epoch - 15ms/step\n",
      "Epoch 26/100\n",
      "110/110 - 2s - loss: 0.0116 - val_loss: 17.5662 - 2s/epoch - 15ms/step\n",
      "Epoch 27/100\n",
      "110/110 - 2s - loss: 0.0112 - val_loss: 17.5651 - 2s/epoch - 15ms/step\n",
      "Epoch 28/100\n",
      "110/110 - 2s - loss: 0.0106 - val_loss: 17.5654 - 2s/epoch - 15ms/step\n",
      "Epoch 29/100\n",
      "110/110 - 2s - loss: 0.0101 - val_loss: 17.5651 - 2s/epoch - 15ms/step\n",
      "Epoch 30/100\n",
      "110/110 - 2s - loss: 0.0097 - val_loss: 17.5653 - 2s/epoch - 15ms/step\n",
      "Epoch 31/100\n",
      "110/110 - 2s - loss: 0.0095 - val_loss: 17.5645 - 2s/epoch - 15ms/step\n",
      "Epoch 32/100\n",
      "110/110 - 2s - loss: 0.0094 - val_loss: 17.5648 - 2s/epoch - 15ms/step\n",
      "Epoch 33/100\n",
      "110/110 - 2s - loss: 0.0096 - val_loss: 17.5641 - 2s/epoch - 15ms/step\n",
      "Epoch 34/100\n",
      "110/110 - 2s - loss: 0.0097 - val_loss: 17.5646 - 2s/epoch - 15ms/step\n",
      "Epoch 35/100\n",
      "110/110 - 2s - loss: 0.0101 - val_loss: 17.5643 - 2s/epoch - 15ms/step\n",
      "Epoch 36/100\n",
      "110/110 - 2s - loss: 0.0105 - val_loss: 17.5645 - 2s/epoch - 15ms/step\n",
      "Epoch 37/100\n",
      "110/110 - 2s - loss: 0.0106 - val_loss: 17.5645 - 2s/epoch - 15ms/step\n",
      "Epoch 38/100\n",
      "110/110 - 2s - loss: 0.0108 - val_loss: 17.5639 - 2s/epoch - 15ms/step\n",
      "Epoch 39/100\n",
      "110/110 - 2s - loss: 0.0108 - val_loss: 17.5637 - 2s/epoch - 15ms/step\n",
      "Epoch 40/100\n",
      "110/110 - 2s - loss: 0.0108 - val_loss: 17.5635 - 2s/epoch - 15ms/step\n",
      "Epoch 41/100\n",
      "110/110 - 2s - loss: 0.0107 - val_loss: 17.5634 - 2s/epoch - 15ms/step\n",
      "Epoch 42/100\n",
      "110/110 - 2s - loss: 0.0105 - val_loss: 17.5639 - 2s/epoch - 15ms/step\n",
      "Epoch 43/100\n",
      "110/110 - 2s - loss: 0.0102 - val_loss: 17.5626 - 2s/epoch - 15ms/step\n",
      "Epoch 44/100\n",
      "110/110 - 2s - loss: 0.0101 - val_loss: 17.5635 - 2s/epoch - 15ms/step\n",
      "Epoch 45/100\n",
      "110/110 - 2s - loss: 0.0100 - val_loss: 17.5631 - 2s/epoch - 15ms/step\n",
      "Epoch 46/100\n",
      "110/110 - 2s - loss: 0.0099 - val_loss: 17.5631 - 2s/epoch - 14ms/step\n",
      "Epoch 47/100\n",
      "110/110 - 2s - loss: 0.0098 - val_loss: 17.5630 - 2s/epoch - 15ms/step\n",
      "Epoch 48/100\n",
      "110/110 - 2s - loss: 0.0100 - val_loss: 17.5621 - 2s/epoch - 15ms/step\n",
      "Epoch 49/100\n",
      "110/110 - 2s - loss: 0.0101 - val_loss: 17.5624 - 2s/epoch - 15ms/step\n",
      "Epoch 50/100\n",
      "110/110 - 2s - loss: 0.0101 - val_loss: 17.5622 - 2s/epoch - 15ms/step\n",
      "Epoch 51/100\n",
      "110/110 - 2s - loss: 0.0102 - val_loss: 17.5621 - 2s/epoch - 15ms/step\n",
      "Epoch 52/100\n",
      "110/110 - 2s - loss: 0.0103 - val_loss: 17.5620 - 2s/epoch - 15ms/step\n",
      "Epoch 53/100\n",
      "110/110 - 2s - loss: 0.0103 - val_loss: 17.5617 - 2s/epoch - 15ms/step\n",
      "Epoch 54/100\n",
      "110/110 - 2s - loss: 0.0102 - val_loss: 17.5616 - 2s/epoch - 16ms/step\n",
      "Epoch 55/100\n",
      "110/110 - 2s - loss: 0.0102 - val_loss: 17.5619 - 2s/epoch - 16ms/step\n",
      "Epoch 56/100\n",
      "110/110 - 2s - loss: 0.0101 - val_loss: 17.5614 - 2s/epoch - 16ms/step\n",
      "Epoch 57/100\n",
      "110/110 - 2s - loss: 0.0101 - val_loss: 17.5611 - 2s/epoch - 16ms/step\n",
      "Epoch 58/100\n",
      "110/110 - 2s - loss: 0.0101 - val_loss: 17.5610 - 2s/epoch - 16ms/step\n",
      "Epoch 59/100\n",
      "110/110 - 2s - loss: 0.0100 - val_loss: 17.5609 - 2s/epoch - 16ms/step\n",
      "Epoch 60/100\n",
      "110/110 - 2s - loss: 0.0100 - val_loss: 17.5605 - 2s/epoch - 16ms/step\n",
      "Epoch 61/100\n",
      "110/110 - 2s - loss: 0.0099 - val_loss: 17.5609 - 2s/epoch - 16ms/step\n",
      "Epoch 62/100\n",
      "110/110 - 2s - loss: 0.0099 - val_loss: 17.5601 - 2s/epoch - 17ms/step\n",
      "Epoch 63/100\n",
      "110/110 - 2s - loss: 0.0100 - val_loss: 17.5608 - 2s/epoch - 17ms/step\n",
      "Epoch 64/100\n",
      "110/110 - 2s - loss: 0.0100 - val_loss: 17.5597 - 2s/epoch - 16ms/step\n",
      "Epoch 65/100\n",
      "110/110 - 2s - loss: 0.0100 - val_loss: 17.5602 - 2s/epoch - 18ms/step\n",
      "Epoch 66/100\n",
      "110/110 - 2s - loss: 0.0099 - val_loss: 17.5597 - 2s/epoch - 18ms/step\n",
      "Epoch 67/100\n",
      "110/110 - 2s - loss: 0.0099 - val_loss: 17.5602 - 2s/epoch - 16ms/step\n",
      "Epoch 68/100\n",
      "110/110 - 2s - loss: 0.0100 - val_loss: 17.5595 - 2s/epoch - 16ms/step\n",
      "Epoch 69/100\n",
      "110/110 - 2s - loss: 0.0099 - val_loss: 17.5596 - 2s/epoch - 16ms/step\n",
      "Epoch 70/100\n",
      "110/110 - 2s - loss: 0.0100 - val_loss: 17.5588 - 2s/epoch - 17ms/step\n",
      "Epoch 71/100\n",
      "110/110 - 2s - loss: 0.0100 - val_loss: 17.5597 - 2s/epoch - 16ms/step\n",
      "Epoch 72/100\n",
      "110/110 - 2s - loss: 0.0099 - val_loss: 17.5588 - 2s/epoch - 16ms/step\n",
      "Epoch 73/100\n",
      "110/110 - 2s - loss: 0.0099 - val_loss: 17.5595 - 2s/epoch - 16ms/step\n",
      "Epoch 74/100\n",
      "110/110 - 2s - loss: 0.0098 - val_loss: 17.5586 - 2s/epoch - 17ms/step\n",
      "Epoch 75/100\n",
      "110/110 - 2s - loss: 0.0098 - val_loss: 17.5592 - 2s/epoch - 16ms/step\n",
      "Epoch 76/100\n",
      "110/110 - 2s - loss: 0.0098 - val_loss: 17.5579 - 2s/epoch - 16ms/step\n",
      "Epoch 77/100\n",
      "110/110 - 2s - loss: 0.0098 - val_loss: 17.5591 - 2s/epoch - 16ms/step\n",
      "Epoch 78/100\n",
      "110/110 - 2s - loss: 0.0099 - val_loss: 17.5578 - 2s/epoch - 17ms/step\n",
      "Epoch 79/100\n",
      "110/110 - 2s - loss: 0.0099 - val_loss: 17.5590 - 2s/epoch - 16ms/step\n",
      "Epoch 80/100\n",
      "110/110 - 2s - loss: 0.0099 - val_loss: 17.5569 - 2s/epoch - 16ms/step\n",
      "Epoch 81/100\n",
      "110/110 - 2s - loss: 0.0099 - val_loss: 17.5587 - 2s/epoch - 16ms/step\n",
      "Epoch 82/100\n",
      "110/110 - 2s - loss: 0.0099 - val_loss: 17.5571 - 2s/epoch - 16ms/step\n",
      "Epoch 83/100\n",
      "110/110 - 2s - loss: 0.0097 - val_loss: 17.5578 - 2s/epoch - 16ms/step\n",
      "Epoch 84/100\n",
      "110/110 - 2s - loss: 0.0097 - val_loss: 17.5577 - 2s/epoch - 16ms/step\n",
      "Epoch 85/100\n",
      "110/110 - 2s - loss: 0.0097 - val_loss: 17.5577 - 2s/epoch - 16ms/step\n",
      "Epoch 86/100\n",
      "110/110 - 2s - loss: 0.0097 - val_loss: 17.5571 - 2s/epoch - 16ms/step\n",
      "Epoch 87/100\n",
      "110/110 - 2s - loss: 0.0097 - val_loss: 17.5570 - 2s/epoch - 17ms/step\n",
      "Epoch 88/100\n",
      "110/110 - 2s - loss: 0.0097 - val_loss: 17.5575 - 2s/epoch - 16ms/step\n",
      "Epoch 89/100\n",
      "110/110 - 2s - loss: 0.0097 - val_loss: 17.5565 - 2s/epoch - 16ms/step\n",
      "Epoch 90/100\n",
      "110/110 - 2s - loss: 0.0097 - val_loss: 17.5572 - 2s/epoch - 16ms/step\n",
      "Epoch 91/100\n",
      "110/110 - 2s - loss: 0.0096 - val_loss: 17.5563 - 2s/epoch - 16ms/step\n",
      "Epoch 92/100\n",
      "110/110 - 2s - loss: 0.0096 - val_loss: 17.5567 - 2s/epoch - 16ms/step\n",
      "Epoch 93/100\n",
      "110/110 - 2s - loss: 0.0097 - val_loss: 17.5565 - 2s/epoch - 16ms/step\n",
      "Epoch 94/100\n",
      "110/110 - 2s - loss: 0.0097 - val_loss: 17.5571 - 2s/epoch - 16ms/step\n",
      "Epoch 95/100\n",
      "110/110 - 2s - loss: 0.0097 - val_loss: 17.5563 - 2s/epoch - 17ms/step\n",
      "Epoch 96/100\n",
      "110/110 - 2s - loss: 0.0097 - val_loss: 17.5563 - 2s/epoch - 16ms/step\n",
      "Epoch 97/100\n",
      "110/110 - 2s - loss: 0.0097 - val_loss: 17.5564 - 2s/epoch - 16ms/step\n",
      "Epoch 98/100\n",
      "110/110 - 2s - loss: 0.0096 - val_loss: 17.5557 - 2s/epoch - 17ms/step\n"
     ]
    },
    {
     "name": "stdout",
     "output_type": "stream",
     "text": [
      "Epoch 99/100\n",
      "110/110 - 2s - loss: 0.0096 - val_loss: 17.5562 - 2s/epoch - 16ms/step\n",
      "Epoch 100/100\n",
      "110/110 - 2s - loss: 0.0096 - val_loss: 17.5547 - 2s/epoch - 16ms/step\n"
     ]
    }
   ],
   "source": [
    "batch_size = 128\n",
    "epochs = 100\n",
    "\n",
    "history = model.fit(x = [X_train['USER'], X_train['ITEM']], y = Y_train, batch_size = batch_size, epochs = epochs, verbose = 2, validation_data = ([X_test['USER'], X_test['ITEM']], Y_test))\n"
   ]
  },
  {
   "cell_type": "code",
   "execution_count": 61,
   "id": "d06baa86",
   "metadata": {},
   "outputs": [
    {
     "data": {
      "image/png": "[encoded data removed]",
      "text/plain": [
       "<Figure size 576x288 with 1 Axes>"
      ]
     },
     "metadata": {
      "needs_background": "light"
     },
     "output_type": "display_data"
    },
    {
     "data": {
      "text/plain": [
       "(0.013911857269704342, 17.542133331298828)"
      ]
     },
     "execution_count": 61,
     "metadata": {},
     "output_type": "execute_result"
    }
   ],
   "source": [
    "# Funkcija gubitka tokom treniranja i testiranja\n",
    "training_loss = history.history['loss']\n",
    "test_loss = history.history['val_loss']\n",
    "\n",
    "# Broj epoha\n",
    "epoch_count = range(1, len(training_loss) + 1)\n",
    "\n",
    "# Vizualizacija gubitka kroz epohe\n",
    "plt.figure(figsize = (8,4))\n",
    "plt.plot(epoch_count, training_loss, 'r--')\n",
    "plt.plot(epoch_count, test_loss, 'b-')\n",
    "plt.legend(['Funkcija gubitka na trening skupu', 'Funkcija gubitka na test skupu'])\n",
    "plt.xlabel('Epoha')\n",
    "plt.ylabel('Funkcija gubitka')\n",
    "plt.show()\n",
    "\n",
    "training_loss[99], test_loss[99]"
   ]
  },
  {
   "cell_type": "code",
   "execution_count": null,
   "id": "a9215e37",
   "metadata": {},
   "outputs": [],
   "source": []
  },
  {
   "cell_type": "code",
   "execution_count": null,
   "id": "55bb15e7",
   "metadata": {},
   "outputs": [],
   "source": []
  },
  {
   "cell_type": "code",
   "execution_count": 51,
   "id": "646e371e",
   "metadata": {},
   "outputs": [
    {
     "name": "stdout",
     "output_type": "stream",
     "text": [
      "Epoch 1/100\n",
      "219/219 - 4s - loss: 0.0109 - val_loss: 17.5598 - 4s/epoch - 18ms/step\n",
      "Epoch 2/100\n",
      "219/219 - 4s - loss: 0.0487 - val_loss: 17.5605 - 4s/epoch - 17ms/step\n",
      "Epoch 3/100\n",
      "219/219 - 3s - loss: 0.0593 - val_loss: 17.5569 - 3s/epoch - 16ms/step\n",
      "Epoch 4/100\n",
      "219/219 - 3s - loss: 0.0310 - val_loss: 17.5547 - 3s/epoch - 16ms/step\n",
      "Epoch 5/100\n",
      "219/219 - 3s - loss: 0.0148 - val_loss: 17.5540 - 3s/epoch - 15ms/step\n",
      "Epoch 6/100\n",
      "219/219 - 3s - loss: 0.0085 - val_loss: 17.5538 - 3s/epoch - 15ms/step\n",
      "Epoch 7/100\n",
      "219/219 - 3s - loss: 0.0064 - val_loss: 17.5532 - 3s/epoch - 15ms/step\n",
      "Epoch 8/100\n",
      "219/219 - 3s - loss: 0.0060 - val_loss: 17.5535 - 3s/epoch - 15ms/step\n",
      "Epoch 9/100\n",
      "219/219 - 3s - loss: 0.0071 - val_loss: 17.5535 - 3s/epoch - 15ms/step\n",
      "Epoch 10/100\n",
      "219/219 - 3s - loss: 0.0101 - val_loss: 17.5538 - 3s/epoch - 16ms/step\n",
      "Epoch 11/100\n",
      "219/219 - 3s - loss: 0.0155 - val_loss: 17.5545 - 3s/epoch - 15ms/step\n",
      "Epoch 12/100\n",
      "219/219 - 3s - loss: 0.0223 - val_loss: 17.5551 - 3s/epoch - 15ms/step\n",
      "Epoch 13/100\n",
      "219/219 - 3s - loss: 0.0260 - val_loss: 17.5542 - 3s/epoch - 15ms/step\n",
      "Epoch 14/100\n",
      "219/219 - 3s - loss: 0.0242 - val_loss: 17.5539 - 3s/epoch - 15ms/step\n",
      "Epoch 15/100\n",
      "219/219 - 3s - loss: 0.0196 - val_loss: 17.5524 - 3s/epoch - 15ms/step\n",
      "Epoch 16/100\n",
      "219/219 - 3s - loss: 0.0157 - val_loss: 17.5526 - 3s/epoch - 15ms/step\n",
      "Epoch 17/100\n",
      "219/219 - 3s - loss: 0.0132 - val_loss: 17.5522 - 3s/epoch - 15ms/step\n",
      "Epoch 18/100\n",
      "219/219 - 3s - loss: 0.0122 - val_loss: 17.5520 - 3s/epoch - 15ms/step\n",
      "Epoch 19/100\n",
      "219/219 - 3s - loss: 0.0126 - val_loss: 17.5520 - 3s/epoch - 15ms/step\n",
      "Epoch 20/100\n",
      "219/219 - 3s - loss: 0.0140 - val_loss: 17.5513 - 3s/epoch - 15ms/step\n",
      "Epoch 21/100\n",
      "219/219 - 3s - loss: 0.0161 - val_loss: 17.5521 - 3s/epoch - 15ms/step\n",
      "Epoch 22/100\n",
      "219/219 - 3s - loss: 0.0181 - val_loss: 17.5523 - 3s/epoch - 16ms/step\n",
      "Epoch 23/100\n",
      "219/219 - 3s - loss: 0.0191 - val_loss: 17.5509 - 3s/epoch - 15ms/step\n",
      "Epoch 24/100\n",
      "219/219 - 3s - loss: 0.0186 - val_loss: 17.5514 - 3s/epoch - 16ms/step\n",
      "Epoch 25/100\n",
      "219/219 - 3s - loss: 0.0172 - val_loss: 17.5507 - 3s/epoch - 15ms/step\n",
      "Epoch 26/100\n",
      "219/219 - 3s - loss: 0.0159 - val_loss: 17.5503 - 3s/epoch - 15ms/step\n",
      "Epoch 27/100\n",
      "219/219 - 3s - loss: 0.0151 - val_loss: 17.5507 - 3s/epoch - 15ms/step\n",
      "Epoch 28/100\n",
      "219/219 - 3s - loss: 0.0148 - val_loss: 17.5501 - 3s/epoch - 15ms/step\n",
      "Epoch 29/100\n",
      "219/219 - 3s - loss: 0.0148 - val_loss: 17.5504 - 3s/epoch - 15ms/step\n",
      "Epoch 30/100\n",
      "219/219 - 3s - loss: 0.0153 - val_loss: 17.5505 - 3s/epoch - 15ms/step\n",
      "Epoch 31/100\n",
      "219/219 - 3s - loss: 0.0159 - val_loss: 17.5497 - 3s/epoch - 15ms/step\n",
      "Epoch 32/100\n",
      "219/219 - 3s - loss: 0.0163 - val_loss: 17.5501 - 3s/epoch - 15ms/step\n",
      "Epoch 33/100\n",
      "219/219 - 3s - loss: 0.0166 - val_loss: 17.5491 - 3s/epoch - 15ms/step\n",
      "Epoch 34/100\n",
      "219/219 - 3s - loss: 0.0166 - val_loss: 17.5499 - 3s/epoch - 15ms/step\n",
      "Epoch 35/100\n",
      "219/219 - 3s - loss: 0.0161 - val_loss: 17.5494 - 3s/epoch - 15ms/step\n",
      "Epoch 36/100\n",
      "219/219 - 3s - loss: 0.0157 - val_loss: 17.5491 - 3s/epoch - 15ms/step\n",
      "Epoch 37/100\n",
      "219/219 - 3s - loss: 0.0155 - val_loss: 17.5487 - 3s/epoch - 15ms/step\n",
      "Epoch 38/100\n",
      "219/219 - 3s - loss: 0.0153 - val_loss: 17.5489 - 3s/epoch - 15ms/step\n",
      "Epoch 39/100\n",
      "219/219 - 3s - loss: 0.0155 - val_loss: 17.5484 - 3s/epoch - 16ms/step\n",
      "Epoch 40/100\n",
      "219/219 - 3s - loss: 0.0156 - val_loss: 17.5491 - 3s/epoch - 16ms/step\n",
      "Epoch 41/100\n",
      "219/219 - 3s - loss: 0.0156 - val_loss: 17.5487 - 3s/epoch - 15ms/step\n",
      "Epoch 42/100\n",
      "219/219 - 3s - loss: 0.0157 - val_loss: 17.5481 - 3s/epoch - 16ms/step\n",
      "Epoch 43/100\n",
      "219/219 - 3s - loss: 0.0156 - val_loss: 17.5483 - 3s/epoch - 15ms/step\n",
      "Epoch 44/100\n",
      "219/219 - 3s - loss: 0.0157 - val_loss: 17.5478 - 3s/epoch - 16ms/step\n",
      "Epoch 45/100\n",
      "219/219 - 3s - loss: 0.0156 - val_loss: 17.5472 - 3s/epoch - 15ms/step\n",
      "Epoch 46/100\n",
      "219/219 - 3s - loss: 0.0155 - val_loss: 17.5481 - 3s/epoch - 15ms/step\n",
      "Epoch 47/100\n",
      "219/219 - 3s - loss: 0.0154 - val_loss: 17.5467 - 3s/epoch - 15ms/step\n",
      "Epoch 48/100\n",
      "219/219 - 3s - loss: 0.0153 - val_loss: 17.5469 - 3s/epoch - 16ms/step\n",
      "Epoch 49/100\n",
      "219/219 - 4s - loss: 0.0152 - val_loss: 17.5470 - 4s/epoch - 16ms/step\n",
      "Epoch 50/100\n",
      "219/219 - 3s - loss: 0.0153 - val_loss: 17.5475 - 3s/epoch - 15ms/step\n",
      "Epoch 51/100\n",
      "219/219 - 3s - loss: 0.0153 - val_loss: 17.5463 - 3s/epoch - 15ms/step\n",
      "Epoch 52/100\n",
      "219/219 - 3s - loss: 0.0153 - val_loss: 17.5469 - 3s/epoch - 15ms/step\n",
      "Epoch 53/100\n",
      "219/219 - 3s - loss: 0.0154 - val_loss: 17.5460 - 3s/epoch - 15ms/step\n",
      "Epoch 54/100\n",
      "219/219 - 3s - loss: 0.0154 - val_loss: 17.5466 - 3s/epoch - 15ms/step\n",
      "Epoch 55/100\n",
      "219/219 - 3s - loss: 0.0153 - val_loss: 17.5459 - 3s/epoch - 15ms/step\n",
      "Epoch 56/100\n",
      "219/219 - 3s - loss: 0.0151 - val_loss: 17.5461 - 3s/epoch - 15ms/step\n",
      "Epoch 57/100\n",
      "219/219 - 3s - loss: 0.0149 - val_loss: 17.5456 - 3s/epoch - 15ms/step\n",
      "Epoch 58/100\n",
      "219/219 - 4s - loss: 0.0149 - val_loss: 17.5459 - 4s/epoch - 16ms/step\n",
      "Epoch 59/100\n",
      "219/219 - 3s - loss: 0.0149 - val_loss: 17.5453 - 3s/epoch - 15ms/step\n",
      "Epoch 60/100\n",
      "219/219 - 3s - loss: 0.0150 - val_loss: 17.5460 - 3s/epoch - 15ms/step\n",
      "Epoch 61/100\n",
      "219/219 - 3s - loss: 0.0151 - val_loss: 17.5454 - 3s/epoch - 15ms/step\n",
      "Epoch 62/100\n",
      "219/219 - 3s - loss: 0.0151 - val_loss: 17.5454 - 3s/epoch - 15ms/step\n",
      "Epoch 63/100\n",
      "219/219 - 3s - loss: 0.0152 - val_loss: 17.5447 - 3s/epoch - 15ms/step\n",
      "Epoch 64/100\n",
      "219/219 - 3s - loss: 0.0151 - val_loss: 17.5451 - 3s/epoch - 15ms/step\n",
      "Epoch 65/100\n",
      "219/219 - 3s - loss: 0.0150 - val_loss: 17.5448 - 3s/epoch - 16ms/step\n",
      "Epoch 66/100\n",
      "219/219 - 3s - loss: 0.0148 - val_loss: 17.5451 - 3s/epoch - 15ms/step\n",
      "Epoch 67/100\n",
      "219/219 - 3s - loss: 0.0147 - val_loss: 17.5443 - 3s/epoch - 15ms/step\n",
      "Epoch 68/100\n",
      "219/219 - 3s - loss: 0.0146 - val_loss: 17.5448 - 3s/epoch - 15ms/step\n",
      "Epoch 69/100\n",
      "219/219 - 3s - loss: 0.0148 - val_loss: 17.5443 - 3s/epoch - 16ms/step\n",
      "Epoch 70/100\n",
      "219/219 - 3s - loss: 0.0147 - val_loss: 17.5444 - 3s/epoch - 15ms/step\n",
      "Epoch 71/100\n",
      "219/219 - 3s - loss: 0.0147 - val_loss: 17.5442 - 3s/epoch - 16ms/step\n",
      "Epoch 72/100\n",
      "219/219 - 3s - loss: 0.0147 - val_loss: 17.5444 - 3s/epoch - 15ms/step\n",
      "Epoch 73/100\n",
      "219/219 - 3s - loss: 0.0148 - val_loss: 17.5443 - 3s/epoch - 15ms/step\n",
      "Epoch 74/100\n",
      "219/219 - 3s - loss: 0.0148 - val_loss: 17.5445 - 3s/epoch - 16ms/step\n",
      "Epoch 75/100\n",
      "219/219 - 3s - loss: 0.0146 - val_loss: 17.5436 - 3s/epoch - 15ms/step\n",
      "Epoch 76/100\n",
      "219/219 - 3s - loss: 0.0145 - val_loss: 17.5444 - 3s/epoch - 15ms/step\n",
      "Epoch 77/100\n",
      "219/219 - 3s - loss: 0.0144 - val_loss: 17.5437 - 3s/epoch - 15ms/step\n",
      "Epoch 78/100\n",
      "219/219 - 3s - loss: 0.0145 - val_loss: 17.5439 - 3s/epoch - 15ms/step\n",
      "Epoch 79/100\n",
      "219/219 - 3s - loss: 0.0144 - val_loss: 17.5436 - 3s/epoch - 15ms/step\n",
      "Epoch 80/100\n",
      "219/219 - 3s - loss: 0.0145 - val_loss: 17.5439 - 3s/epoch - 15ms/step\n",
      "Epoch 81/100\n",
      "219/219 - 3s - loss: 0.0145 - val_loss: 17.5434 - 3s/epoch - 15ms/step\n",
      "Epoch 82/100\n",
      "219/219 - 3s - loss: 0.0144 - val_loss: 17.5435 - 3s/epoch - 15ms/step\n",
      "Epoch 83/100\n",
      "219/219 - 3s - loss: 0.0145 - val_loss: 17.5431 - 3s/epoch - 15ms/step\n",
      "Epoch 84/100\n",
      "219/219 - 3s - loss: 0.0143 - val_loss: 17.5433 - 3s/epoch - 15ms/step\n",
      "Epoch 85/100\n",
      "219/219 - 3s - loss: 0.0143 - val_loss: 17.5425 - 3s/epoch - 15ms/step\n",
      "Epoch 86/100\n",
      "219/219 - 3s - loss: 0.0143 - val_loss: 17.5434 - 3s/epoch - 15ms/step\n",
      "Epoch 87/100\n",
      "219/219 - 3s - loss: 0.0143 - val_loss: 17.5426 - 3s/epoch - 15ms/step\n",
      "Epoch 88/100\n",
      "219/219 - 3s - loss: 0.0141 - val_loss: 17.5431 - 3s/epoch - 15ms/step\n",
      "Epoch 89/100\n",
      "219/219 - 3s - loss: 0.0142 - val_loss: 17.5426 - 3s/epoch - 15ms/step\n",
      "Epoch 90/100\n",
      "219/219 - 3s - loss: 0.0142 - val_loss: 17.5429 - 3s/epoch - 15ms/step\n",
      "Epoch 91/100\n",
      "219/219 - 3s - loss: 0.0141 - val_loss: 17.5426 - 3s/epoch - 15ms/step\n",
      "Epoch 92/100\n",
      "219/219 - 3s - loss: 0.0141 - val_loss: 17.5428 - 3s/epoch - 15ms/step\n",
      "Epoch 93/100\n",
      "219/219 - 3s - loss: 0.0140 - val_loss: 17.5421 - 3s/epoch - 16ms/step\n",
      "Epoch 94/100\n",
      "219/219 - 4s - loss: 0.0141 - val_loss: 17.5421 - 4s/epoch - 16ms/step\n",
      "Epoch 95/100\n",
      "219/219 - 4s - loss: 0.0141 - val_loss: 17.5421 - 4s/epoch - 16ms/step\n",
      "Epoch 96/100\n",
      "219/219 - 3s - loss: 0.0142 - val_loss: 17.5419 - 3s/epoch - 16ms/step\n",
      "Epoch 97/100\n",
      "219/219 - 3s - loss: 0.0142 - val_loss: 17.5420 - 3s/epoch - 15ms/step\n",
      "Epoch 98/100\n",
      "219/219 - 3s - loss: 0.0140 - val_loss: 17.5422 - 3s/epoch - 15ms/step\n"
     ]
    },
    {
     "name": "stdout",
     "output_type": "stream",
     "text": [
      "Epoch 99/100\n",
      "219/219 - 3s - loss: 0.0139 - val_loss: 17.5415 - 3s/epoch - 16ms/step\n",
      "Epoch 100/100\n",
      "219/219 - 3s - loss: 0.0139 - val_loss: 17.5421 - 3s/epoch - 15ms/step\n"
     ]
    }
   ],
   "source": [
    "batch_size = 64\n",
    "epochs = 100\n",
    "\n",
    "history = model.fit(x = [X_train['USER'], X_train['ITEM']], y = Y_train, batch_size = batch_size, epochs = epochs, verbose = 2, validation_data = ([X_test['USER'], X_test['ITEM']], Y_test))\n"
   ]
  },
  {
   "cell_type": "code",
   "execution_count": 60,
   "id": "9de69e58",
   "metadata": {},
   "outputs": [
    {
     "data": {
      "image/png": "[encoded data removed]",
      "text/plain": [
       "<Figure size 576x288 with 1 Axes>"
      ]
     },
     "metadata": {
      "needs_background": "light"
     },
     "output_type": "display_data"
    },
    {
     "data": {
      "text/plain": [
       "(0.013911857269704342, 17.542133331298828)"
      ]
     },
     "execution_count": 60,
     "metadata": {},
     "output_type": "execute_result"
    }
   ],
   "source": [
    "# Funkcija gubitka tokom treniranja i testiranja\n",
    "training_loss = history.history['loss']\n",
    "test_loss = history.history['val_loss']\n",
    "\n",
    "# Broj epoha\n",
    "epoch_count = range(1, len(training_loss) + 1)\n",
    "\n",
    "# Vizualizacija gubitka kroz epohe\n",
    "plt.figure(figsize = (8,4))\n",
    "plt.plot(epoch_count, training_loss, 'r--')\n",
    "plt.plot(epoch_count, test_loss, 'b-')\n",
    "plt.legend(['Funkcija gubitka na trening skupu', 'Funkcija gubitka na test skupu'])\n",
    "plt.xlabel('Epoha')\n",
    "plt.ylabel('Funkcija gubitka')\n",
    "plt.show()\n",
    "\n",
    "training_loss[99], test_loss[99]"
   ]
  },
  {
   "cell_type": "code",
   "execution_count": null,
   "id": "1e699c08",
   "metadata": {},
   "outputs": [],
   "source": []
  },
  {
   "cell_type": "markdown",
   "id": "01e00208",
   "metadata": {},
   "source": [
    "Najmanja vrednost funkcije gubitka na test skupu je 17.5 što se postiže u većini slučajeva."
   ]
  },
  {
   "cell_type": "code",
   "execution_count": null,
   "id": "315d9dbb",
   "metadata": {},
   "outputs": [],
   "source": []
  },
  {
   "cell_type": "code",
   "execution_count": null,
   "id": "b41dd61b",
   "metadata": {},
   "outputs": [],
   "source": []
  }
 ],
 "metadata": {
  "kernelspec": {
   "display_name": "Python 3 (ipykernel)",
   "language": "python",
   "name": "python3"
  },
  "language_info": {
   "codemirror_mode": {
    "name": "ipython",
    "version": 3
   },
   "file_extension": ".py",
   "mimetype": "text/x-python",
   "name": "python",
   "nbconvert_exporter": "python",
   "pygments_lexer": "ipython3",
   "version": "3.8.10"
  }
 },
 "nbformat": 4,
 "nbformat_minor": 5
}
