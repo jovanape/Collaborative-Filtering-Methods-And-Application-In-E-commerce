{
 "cells": [
  {
   "cell_type": "code",
   "execution_count": null,
   "id": "c284d771",
   "metadata": {},
   "outputs": [],
   "source": []
  },
  {
   "cell_type": "code",
   "execution_count": 27,
   "id": "417b7d33",
   "metadata": {},
   "outputs": [
    {
     "name": "stdout",
     "output_type": "stream",
     "text": [
      "Requirement already satisfied: pydot in ./.local/lib/python3.8/site-packages (1.4.2)\n",
      "Requirement already satisfied: pyparsing>=2.1.4 in /usr/lib/python3/dist-packages (from pydot) (2.4.6)\n",
      "Note: you may need to restart the kernel to use updated packages.\n"
     ]
    }
   ],
   "source": [
    "pip install pydot"
   ]
  },
  {
   "cell_type": "code",
   "execution_count": null,
   "id": "ac293c90",
   "metadata": {},
   "outputs": [],
   "source": []
  },
  {
   "cell_type": "code",
   "execution_count": 28,
   "id": "80b52136",
   "metadata": {},
   "outputs": [
    {
     "name": "stdout",
     "output_type": "stream",
     "text": [
      "Requirement already satisfied: plotly in ./.local/lib/python3.8/site-packages (5.11.0)\n",
      "Requirement already satisfied: tenacity>=6.2.0 in ./.local/lib/python3.8/site-packages (from plotly) (8.1.0)\n",
      "Note: you may need to restart the kernel to use updated packages.\n"
     ]
    }
   ],
   "source": [
    "pip install plotly"
   ]
  },
  {
   "cell_type": "code",
   "execution_count": null,
   "id": "b09b0627",
   "metadata": {},
   "outputs": [],
   "source": []
  },
  {
   "cell_type": "code",
   "execution_count": 29,
   "id": "1a75b1bc",
   "metadata": {},
   "outputs": [
    {
     "name": "stdout",
     "output_type": "stream",
     "text": [
      "Requirement already up-to-date: kaleido in ./.local/lib/python3.8/site-packages (0.2.1)\n",
      "Note: you may need to restart the kernel to use updated packages.\n"
     ]
    }
   ],
   "source": [
    "pip install -U kaleido"
   ]
  },
  {
   "cell_type": "code",
   "execution_count": null,
   "id": "25a2a5ea",
   "metadata": {},
   "outputs": [],
   "source": []
  },
  {
   "cell_type": "markdown",
   "id": "f25781ce",
   "metadata": {},
   "source": [
    "### Učitavanje biblioteka"
   ]
  },
  {
   "cell_type": "code",
   "execution_count": 30,
   "id": "497439f2",
   "metadata": {},
   "outputs": [],
   "source": [
    "# Biblioteke za pripremu i vizualizaciju podataka\n",
    "import numpy as np\n",
    "import pandas as pd\n",
    "import plotly.offline as py\n",
    "import plotly.graph_objs as go\n",
    "import plotly.io as pio\n",
    "pio.renderers.default = \"png\"\n",
    "import matplotlib.pyplot as plt\n",
    "import random\n",
    "from sklearn.preprocessing import LabelEncoder\n",
    "\n",
    "# pip install scikit-surprise\n",
    "# Biblioteke za kreiranje modela i evaluaciju\n",
    "from surprise import Reader, Dataset\n",
    "from surprise.model_selection import train_test_split, cross_validate, GridSearchCV\n",
    "from surprise import accuracy"
   ]
  },
  {
   "cell_type": "code",
   "execution_count": null,
   "id": "bb63047e",
   "metadata": {},
   "outputs": [],
   "source": []
  },
  {
   "cell_type": "code",
   "execution_count": 31,
   "id": "ffa10422",
   "metadata": {},
   "outputs": [
    {
     "name": "stdout",
     "output_type": "stream",
     "text": [
      "Requirement already satisfied: keras in ./.local/lib/python3.8/site-packages (2.11.0)\n",
      "Note: you may need to restart the kernel to use updated packages.\n"
     ]
    }
   ],
   "source": [
    "pip install keras"
   ]
  },
  {
   "cell_type": "code",
   "execution_count": 32,
   "id": "354636e8",
   "metadata": {},
   "outputs": [
    {
     "name": "stdout",
     "output_type": "stream",
     "text": [
      "Requirement already satisfied: tensorflow in ./.local/lib/python3.8/site-packages (2.11.0)\n",
      "Requirement already satisfied: libclang>=13.0.0 in ./.local/lib/python3.8/site-packages (from tensorflow) (14.0.6)\n",
      "Requirement already satisfied: flatbuffers>=2.0 in ./.local/lib/python3.8/site-packages (from tensorflow) (23.1.4)\n",
      "Requirement already satisfied: packaging in /usr/lib/python3/dist-packages (from tensorflow) (20.3)\n",
      "Requirement already satisfied: keras<2.12,>=2.11.0 in ./.local/lib/python3.8/site-packages (from tensorflow) (2.11.0)\n",
      "Requirement already satisfied: wrapt>=1.11.0 in ./.local/lib/python3.8/site-packages (from tensorflow) (1.14.1)\n",
      "Requirement already satisfied: termcolor>=1.1.0 in ./.local/lib/python3.8/site-packages (from tensorflow) (2.2.0)\n",
      "Requirement already satisfied: astunparse>=1.6.0 in ./.local/lib/python3.8/site-packages (from tensorflow) (1.6.3)\n",
      "Requirement already satisfied: tensorflow-estimator<2.12,>=2.11.0 in ./.local/lib/python3.8/site-packages (from tensorflow) (2.11.0)\n",
      "Requirement already satisfied: protobuf<3.20,>=3.9.2 in ./.local/lib/python3.8/site-packages (from tensorflow) (3.19.6)\n",
      "Requirement already satisfied: tensorflow-io-gcs-filesystem>=0.23.1; platform_machine != \"arm64\" or platform_system != \"Darwin\" in ./.local/lib/python3.8/site-packages (from tensorflow) (0.29.0)\n",
      "Requirement already satisfied: tensorboard<2.12,>=2.11 in ./.local/lib/python3.8/site-packages (from tensorflow) (2.11.0)\n",
      "Requirement already satisfied: grpcio<2.0,>=1.24.3 in ./.local/lib/python3.8/site-packages (from tensorflow) (1.51.1)\n",
      "Requirement already satisfied: absl-py>=1.0.0 in ./.local/lib/python3.8/site-packages (from tensorflow) (1.3.0)\n",
      "Requirement already satisfied: typing-extensions>=3.6.6 in ./.local/lib/python3.8/site-packages (from tensorflow) (4.0.1)\n",
      "Requirement already satisfied: gast<=0.4.0,>=0.2.1 in ./.local/lib/python3.8/site-packages (from tensorflow) (0.4.0)\n",
      "Requirement already satisfied: six>=1.12.0 in /usr/lib/python3/dist-packages (from tensorflow) (1.14.0)\n",
      "Requirement already satisfied: numpy>=1.20 in ./.local/lib/python3.8/site-packages (from tensorflow) (1.22.2)\n",
      "Requirement already satisfied: h5py>=2.9.0 in ./.local/lib/python3.8/site-packages (from tensorflow) (3.7.0)\n",
      "Requirement already satisfied: google-pasta>=0.1.1 in ./.local/lib/python3.8/site-packages (from tensorflow) (0.2.0)\n",
      "Requirement already satisfied: opt-einsum>=2.3.2 in ./.local/lib/python3.8/site-packages (from tensorflow) (3.3.0)\n",
      "Requirement already satisfied: setuptools in /usr/lib/python3/dist-packages (from tensorflow) (45.2.0)\n",
      "Requirement already satisfied: wheel<1.0,>=0.23.0 in /usr/lib/python3/dist-packages (from astunparse>=1.6.0->tensorflow) (0.34.2)\n",
      "Requirement already satisfied: requests<3,>=2.21.0 in /usr/lib/python3/dist-packages (from tensorboard<2.12,>=2.11->tensorflow) (2.22.0)\n",
      "Requirement already satisfied: tensorboard-data-server<0.7.0,>=0.6.0 in ./.local/lib/python3.8/site-packages (from tensorboard<2.12,>=2.11->tensorflow) (0.6.1)\n",
      "Requirement already satisfied: werkzeug>=1.0.1 in ./.local/lib/python3.8/site-packages (from tensorboard<2.12,>=2.11->tensorflow) (2.2.2)\n",
      "Requirement already satisfied: google-auth<3,>=1.6.3 in ./.local/lib/python3.8/site-packages (from tensorboard<2.12,>=2.11->tensorflow) (2.15.0)\n",
      "Requirement already satisfied: google-auth-oauthlib<0.5,>=0.4.1 in ./.local/lib/python3.8/site-packages (from tensorboard<2.12,>=2.11->tensorflow) (0.4.6)\n",
      "Requirement already satisfied: tensorboard-plugin-wit>=1.6.0 in ./.local/lib/python3.8/site-packages (from tensorboard<2.12,>=2.11->tensorflow) (1.8.1)\n",
      "Requirement already satisfied: markdown>=2.6.8 in /usr/lib/python3/dist-packages (from tensorboard<2.12,>=2.11->tensorflow) (3.1.1)\n",
      "Requirement already satisfied: MarkupSafe>=2.1.1 in ./.local/lib/python3.8/site-packages (from werkzeug>=1.0.1->tensorboard<2.12,>=2.11->tensorflow) (2.1.1)\n",
      "Requirement already satisfied: pyasn1-modules>=0.2.1 in ./.local/lib/python3.8/site-packages (from google-auth<3,>=1.6.3->tensorboard<2.12,>=2.11->tensorflow) (0.2.8)\n",
      "Requirement already satisfied: rsa<5,>=3.1.4; python_version >= \"3.6\" in ./.local/lib/python3.8/site-packages (from google-auth<3,>=1.6.3->tensorboard<2.12,>=2.11->tensorflow) (4.9)\n",
      "Requirement already satisfied: cachetools<6.0,>=2.0.0 in ./.local/lib/python3.8/site-packages (from google-auth<3,>=1.6.3->tensorboard<2.12,>=2.11->tensorflow) (5.2.0)\n",
      "Requirement already satisfied: requests-oauthlib>=0.7.0 in ./.local/lib/python3.8/site-packages (from google-auth-oauthlib<0.5,>=0.4.1->tensorboard<2.12,>=2.11->tensorflow) (1.3.1)\n",
      "Requirement already satisfied: pyasn1<0.5.0,>=0.4.6 in ./.local/lib/python3.8/site-packages (from pyasn1-modules>=0.2.1->google-auth<3,>=1.6.3->tensorboard<2.12,>=2.11->tensorflow) (0.4.8)\n",
      "Requirement already satisfied: oauthlib>=3.0.0 in /usr/lib/python3/dist-packages (from requests-oauthlib>=0.7.0->google-auth-oauthlib<0.5,>=0.4.1->tensorboard<2.12,>=2.11->tensorflow) (3.1.0)\n",
      "Note: you may need to restart the kernel to use updated packages.\n"
     ]
    }
   ],
   "source": [
    "pip install tensorflow"
   ]
  },
  {
   "cell_type": "code",
   "execution_count": null,
   "id": "87f037d1",
   "metadata": {},
   "outputs": [],
   "source": []
  },
  {
   "cell_type": "code",
   "execution_count": 33,
   "id": "5e0338e5",
   "metadata": {},
   "outputs": [],
   "source": [
    "# Biblioteke za rad sa modelima zasnovanim na dubokom učenju\n",
    "from keras.layers import Embedding, Input, Flatten, dot, concatenate\n",
    "from keras.models import Model\n",
    "from tensorflow.keras.optimizers import Adam\n",
    "from IPython.display import SVG\n",
    "from keras.utils.vis_utils import model_to_dot\n",
    "#from tensorflow.keras.utils import model_to_dot"
   ]
  },
  {
   "cell_type": "code",
   "execution_count": null,
   "id": "47c72663",
   "metadata": {},
   "outputs": [],
   "source": []
  },
  {
   "cell_type": "markdown",
   "id": "2b7c351f",
   "metadata": {},
   "source": [
    "### Učitavanje skupa podataka"
   ]
  },
  {
   "cell_type": "code",
   "execution_count": 34,
   "id": "a64dd87e",
   "metadata": {},
   "outputs": [],
   "source": [
    "# Učitavanje skupa podataka \n",
    "def loaddata(filename):\n",
    "    df = pd.read_csv(f'{filename}.csv',sep=',',error_bad_lines=False, warn_bad_lines=False, encoding='latin-1')\n",
    "    return df\n",
    "\n",
    "data = loaddata('skup_amazon/fashion')"
   ]
  },
  {
   "cell_type": "code",
   "execution_count": null,
   "id": "32dd081d",
   "metadata": {},
   "outputs": [],
   "source": []
  },
  {
   "cell_type": "markdown",
   "id": "7d4c8841",
   "metadata": {},
   "source": [
    "### Pretprocesiranje"
   ]
  },
  {
   "cell_type": "code",
   "execution_count": 35,
   "id": "848ba918",
   "metadata": {},
   "outputs": [
    {
     "data": {
      "text/html": [
       "<div>\n",
       "<style scoped>\n",
       "    .dataframe tbody tr th:only-of-type {\n",
       "        vertical-align: middle;\n",
       "    }\n",
       "\n",
       "    .dataframe tbody tr th {\n",
       "        vertical-align: top;\n",
       "    }\n",
       "\n",
       "    .dataframe thead th {\n",
       "        text-align: right;\n",
       "    }\n",
       "</style>\n",
       "<table border=\"1\" class=\"dataframe\">\n",
       "  <thead>\n",
       "    <tr style=\"text-align: right;\">\n",
       "      <th></th>\n",
       "      <th>reviewerID</th>\n",
       "      <th>asin</th>\n",
       "      <th>overall</th>\n",
       "    </tr>\n",
       "  </thead>\n",
       "  <tbody>\n",
       "    <tr>\n",
       "      <th>0</th>\n",
       "      <td>A1D4G1SNUZWQOT</td>\n",
       "      <td>7106116521</td>\n",
       "      <td>5</td>\n",
       "    </tr>\n",
       "    <tr>\n",
       "      <th>1</th>\n",
       "      <td>A3DDWDH9PX2YX2</td>\n",
       "      <td>7106116521</td>\n",
       "      <td>2</td>\n",
       "    </tr>\n",
       "    <tr>\n",
       "      <th>2</th>\n",
       "      <td>A2MWC41EW7XL15</td>\n",
       "      <td>7106116521</td>\n",
       "      <td>4</td>\n",
       "    </tr>\n",
       "  </tbody>\n",
       "</table>\n",
       "</div>"
      ],
      "text/plain": [
       "       reviewerID        asin  overall\n",
       "0  A1D4G1SNUZWQOT  7106116521        5\n",
       "1  A3DDWDH9PX2YX2  7106116521        2\n",
       "2  A2MWC41EW7XL15  7106116521        4"
      ]
     },
     "execution_count": 35,
     "metadata": {},
     "output_type": "execute_result"
    }
   ],
   "source": [
    "ratings = data.drop(['verified', 'reviewTime', 'unixReviewTime', 'reviewerName', 'reviewText', 'summary', 'vote', 'style/Color:', 'style/Size:', 'image/0', 'style/Metal Type:', 'image/1', 'image/2', 'image/3', 'image/4', 'image/5', 'image/6', 'image/7', 'image/8', 'image/9', 'image/10', 'image/11', 'image/12', 'image/13', 'style/Size Name:', 'style/Style:'], axis=1)\n",
    "ratings = ratings[['reviewerID','asin','overall']]\n",
    "ratings.head(3)"
   ]
  },
  {
   "cell_type": "code",
   "execution_count": null,
   "id": "c929a3dd",
   "metadata": {},
   "outputs": [],
   "source": []
  },
  {
   "cell_type": "code",
   "execution_count": 36,
   "id": "70ed511a",
   "metadata": {},
   "outputs": [],
   "source": [
    "def encode_user_item(df, user_col, item_col, rating_col):\n",
    "    \"\"\"Funkcija za enkoiranje korisnika i stavki\n",
    "    \n",
    "    Parametri:     \n",
    "        df (pd.DataFrame): Pandas dataframe - tabela sa interakcijama.\n",
    "        user_col (string): Naziv kolone koja predstavlja korisnika.\n",
    "        item_col (string): Naziv kolone koja predstavlja stavku.\n",
    "        rating_col (string): Naziv kolone koja predstavlja ocenu.\n",
    "    \n",
    "    Povratna vrednost: \n",
    "        encoded_df (pd.DataFrame): Modifikovan dataframe sa indeksima korisnika i stavki\n",
    "    \"\"\"\n",
    "    \n",
    "    encoded_df = df.copy()\n",
    "    \n",
    "    user_encoder = LabelEncoder() # Enkodiranje vrednosti promenljie sa vrednostima između 0 i n_classes-1.\n",
    "    user_encoder.fit(encoded_df[user_col].values)\n",
    "    n_users = len(user_encoder.classes_)\n",
    "    \n",
    "    item_encoder = LabelEncoder()\n",
    "    item_encoder.fit(encoded_df[item_col].values)\n",
    "    n_items = len(item_encoder.classes_)\n",
    "\n",
    "    encoded_df[\"USER\"] = user_encoder.transform(encoded_df[user_col])\n",
    "    encoded_df[\"ITEM\"] = item_encoder.transform(encoded_df[item_col])\n",
    "    \n",
    "    encoded_df.rename({rating_col: \"RATING\"}, axis=1, inplace=True)\n",
    "    \n",
    "    print(\"Broj korisnika: \", n_users)\n",
    "    print(\"Broj stavki: \", n_items)\n",
    "    \n",
    "    return encoded_df, user_encoder, item_encoder"
   ]
  },
  {
   "cell_type": "code",
   "execution_count": null,
   "id": "b918ecc2",
   "metadata": {},
   "outputs": [],
   "source": []
  },
  {
   "cell_type": "code",
   "execution_count": 37,
   "id": "7ee0e01d",
   "metadata": {},
   "outputs": [
    {
     "name": "stdout",
     "output_type": "stream",
     "text": [
      "Broj korisnika:  18320\n",
      "Broj stavki:  141\n"
     ]
    }
   ],
   "source": [
    "DATA, user_encoder, item_encoder = encode_user_item(ratings, \"reviewerID\", \"asin\", \"overall\")"
   ]
  },
  {
   "cell_type": "code",
   "execution_count": 38,
   "id": "20c0e6ec",
   "metadata": {},
   "outputs": [
    {
     "data": {
      "text/html": [
       "<div>\n",
       "<style scoped>\n",
       "    .dataframe tbody tr th:only-of-type {\n",
       "        vertical-align: middle;\n",
       "    }\n",
       "\n",
       "    .dataframe tbody tr th {\n",
       "        vertical-align: top;\n",
       "    }\n",
       "\n",
       "    .dataframe thead th {\n",
       "        text-align: right;\n",
       "    }\n",
       "</style>\n",
       "<table border=\"1\" class=\"dataframe\">\n",
       "  <thead>\n",
       "    <tr style=\"text-align: right;\">\n",
       "      <th></th>\n",
       "      <th>reviewerID</th>\n",
       "      <th>asin</th>\n",
       "      <th>RATING</th>\n",
       "      <th>USER</th>\n",
       "      <th>ITEM</th>\n",
       "    </tr>\n",
       "  </thead>\n",
       "  <tbody>\n",
       "    <tr>\n",
       "      <th>0</th>\n",
       "      <td>A1D4G1SNUZWQOT</td>\n",
       "      <td>7106116521</td>\n",
       "      <td>5</td>\n",
       "      <td>1842</td>\n",
       "      <td>0</td>\n",
       "    </tr>\n",
       "    <tr>\n",
       "      <th>1</th>\n",
       "      <td>A3DDWDH9PX2YX2</td>\n",
       "      <td>7106116521</td>\n",
       "      <td>2</td>\n",
       "      <td>11460</td>\n",
       "      <td>0</td>\n",
       "    </tr>\n",
       "    <tr>\n",
       "      <th>2</th>\n",
       "      <td>A2MWC41EW7XL15</td>\n",
       "      <td>7106116521</td>\n",
       "      <td>4</td>\n",
       "      <td>7912</td>\n",
       "      <td>0</td>\n",
       "    </tr>\n",
       "    <tr>\n",
       "      <th>3</th>\n",
       "      <td>A2UH2QQ275NV45</td>\n",
       "      <td>7106116521</td>\n",
       "      <td>2</td>\n",
       "      <td>8958</td>\n",
       "      <td>0</td>\n",
       "    </tr>\n",
       "    <tr>\n",
       "      <th>4</th>\n",
       "      <td>A89F3LQADZBS5</td>\n",
       "      <td>7106116521</td>\n",
       "      <td>3</td>\n",
       "      <td>14563</td>\n",
       "      <td>0</td>\n",
       "    </tr>\n",
       "    <tr>\n",
       "      <th>...</th>\n",
       "      <td>...</td>\n",
       "      <td>...</td>\n",
       "      <td>...</td>\n",
       "      <td>...</td>\n",
       "      <td>...</td>\n",
       "    </tr>\n",
       "    <tr>\n",
       "      <th>19994</th>\n",
       "      <td>A2I8U2L6ZOLPP9</td>\n",
       "      <td>B000P0X15G</td>\n",
       "      <td>5</td>\n",
       "      <td>7307</td>\n",
       "      <td>140</td>\n",
       "    </tr>\n",
       "    <tr>\n",
       "      <th>19995</th>\n",
       "      <td>A38SLX4EMMLSTL</td>\n",
       "      <td>B000P0X15G</td>\n",
       "      <td>5</td>\n",
       "      <td>10827</td>\n",
       "      <td>140</td>\n",
       "    </tr>\n",
       "    <tr>\n",
       "      <th>19996</th>\n",
       "      <td>A24NGH58L8CWDT</td>\n",
       "      <td>B000P0X15G</td>\n",
       "      <td>5</td>\n",
       "      <td>5509</td>\n",
       "      <td>140</td>\n",
       "    </tr>\n",
       "    <tr>\n",
       "      <th>19997</th>\n",
       "      <td>A1NJ9OSQZOZB02</td>\n",
       "      <td>B000P0X15G</td>\n",
       "      <td>5</td>\n",
       "      <td>3183</td>\n",
       "      <td>140</td>\n",
       "    </tr>\n",
       "    <tr>\n",
       "      <th>19998</th>\n",
       "      <td>A2Y39N7FDHEPNY</td>\n",
       "      <td>B000P0X15G</td>\n",
       "      <td>5</td>\n",
       "      <td>9455</td>\n",
       "      <td>140</td>\n",
       "    </tr>\n",
       "  </tbody>\n",
       "</table>\n",
       "<p>19999 rows × 5 columns</p>\n",
       "</div>"
      ],
      "text/plain": [
       "           reviewerID        asin  RATING   USER  ITEM\n",
       "0      A1D4G1SNUZWQOT  7106116521       5   1842     0\n",
       "1      A3DDWDH9PX2YX2  7106116521       2  11460     0\n",
       "2      A2MWC41EW7XL15  7106116521       4   7912     0\n",
       "3      A2UH2QQ275NV45  7106116521       2   8958     0\n",
       "4       A89F3LQADZBS5  7106116521       3  14563     0\n",
       "...               ...         ...     ...    ...   ...\n",
       "19994  A2I8U2L6ZOLPP9  B000P0X15G       5   7307   140\n",
       "19995  A38SLX4EMMLSTL  B000P0X15G       5  10827   140\n",
       "19996  A24NGH58L8CWDT  B000P0X15G       5   5509   140\n",
       "19997  A1NJ9OSQZOZB02  B000P0X15G       5   3183   140\n",
       "19998  A2Y39N7FDHEPNY  B000P0X15G       5   9455   140\n",
       "\n",
       "[19999 rows x 5 columns]"
      ]
     },
     "execution_count": 38,
     "metadata": {},
     "output_type": "execute_result"
    }
   ],
   "source": [
    "DATA"
   ]
  },
  {
   "cell_type": "code",
   "execution_count": 39,
   "id": "f0bed70d",
   "metadata": {},
   "outputs": [
    {
     "data": {
      "text/plain": [
       "(18320, 141)"
      ]
     },
     "execution_count": 39,
     "metadata": {},
     "output_type": "execute_result"
    }
   ],
   "source": [
    "n_users = DATA.USER.nunique()\n",
    "n_items = DATA.ITEM.nunique()\n",
    "n_users, n_items"
   ]
  },
  {
   "cell_type": "code",
   "execution_count": 40,
   "id": "779c585e",
   "metadata": {},
   "outputs": [
    {
     "data": {
      "text/plain": [
       "(1, 5)"
      ]
     },
     "execution_count": 40,
     "metadata": {},
     "output_type": "execute_result"
    }
   ],
   "source": [
    "max_rating = DATA.RATING.max()\n",
    "min_rating = DATA.RATING.min()\n",
    "min_rating, max_rating"
   ]
  },
  {
   "cell_type": "code",
   "execution_count": null,
   "id": "83bd10e4",
   "metadata": {},
   "outputs": [],
   "source": []
  },
  {
   "cell_type": "code",
   "execution_count": 41,
   "id": "8ace1d8c",
   "metadata": {},
   "outputs": [
    {
     "data": {
      "text/html": [
       "<div>\n",
       "<style scoped>\n",
       "    .dataframe tbody tr th:only-of-type {\n",
       "        vertical-align: middle;\n",
       "    }\n",
       "\n",
       "    .dataframe tbody tr th {\n",
       "        vertical-align: top;\n",
       "    }\n",
       "\n",
       "    .dataframe thead th {\n",
       "        text-align: right;\n",
       "    }\n",
       "</style>\n",
       "<table border=\"1\" class=\"dataframe\">\n",
       "  <thead>\n",
       "    <tr style=\"text-align: right;\">\n",
       "      <th></th>\n",
       "      <th>reviewerID</th>\n",
       "      <th>asin</th>\n",
       "      <th>RATING</th>\n",
       "      <th>USER</th>\n",
       "      <th>ITEM</th>\n",
       "    </tr>\n",
       "  </thead>\n",
       "  <tbody>\n",
       "    <tr>\n",
       "      <th>0</th>\n",
       "      <td>AEQ0PWKRT7ANQ</td>\n",
       "      <td>B000KPIHQ4</td>\n",
       "      <td>5</td>\n",
       "      <td>15422</td>\n",
       "      <td>115</td>\n",
       "    </tr>\n",
       "    <tr>\n",
       "      <th>1</th>\n",
       "      <td>A2I0M3X174ADSW</td>\n",
       "      <td>B000HR77R0</td>\n",
       "      <td>2</td>\n",
       "      <td>7274</td>\n",
       "      <td>100</td>\n",
       "    </tr>\n",
       "    <tr>\n",
       "      <th>2</th>\n",
       "      <td>AD8Y84L4457LI</td>\n",
       "      <td>B000NBIMG0</td>\n",
       "      <td>5</td>\n",
       "      <td>15223</td>\n",
       "      <td>128</td>\n",
       "    </tr>\n",
       "  </tbody>\n",
       "</table>\n",
       "</div>"
      ],
      "text/plain": [
       "       reviewerID        asin  RATING   USER  ITEM\n",
       "0   AEQ0PWKRT7ANQ  B000KPIHQ4       5  15422   115\n",
       "1  A2I0M3X174ADSW  B000HR77R0       2   7274   100\n",
       "2   AD8Y84L4457LI  B000NBIMG0       5  15223   128"
      ]
     },
     "execution_count": 41,
     "metadata": {},
     "output_type": "execute_result"
    }
   ],
   "source": [
    "# Mešanje skupa podataka\n",
    "\n",
    "shuffled_ratings = DATA.sample(frac = 1, random_state = 1).reset_index() # shuffle dataset\n",
    "shuffled_ratings = shuffled_ratings.drop(['index'], axis = 1)\n",
    "shuffled_ratings.head(3)"
   ]
  },
  {
   "cell_type": "code",
   "execution_count": 42,
   "id": "854372c6",
   "metadata": {},
   "outputs": [
    {
     "data": {
      "text/plain": [
       "Index(['reviewerID', 'asin', 'RATING', 'USER', 'ITEM'], dtype='object')"
      ]
     },
     "execution_count": 42,
     "metadata": {},
     "output_type": "execute_result"
    }
   ],
   "source": [
    "shuffled_ratings.columns"
   ]
  },
  {
   "cell_type": "code",
   "execution_count": null,
   "id": "6f0edfda",
   "metadata": {},
   "outputs": [],
   "source": []
  },
  {
   "cell_type": "markdown",
   "id": "b67a0bcd",
   "metadata": {},
   "source": [
    "### Podela skupa podataka"
   ]
  },
  {
   "cell_type": "code",
   "execution_count": 43,
   "id": "33201a18",
   "metadata": {},
   "outputs": [],
   "source": [
    "# x_train, x_test, y_train, y_test = train_test_split(X, Y, test_size = 0.2, random_state = 66)"
   ]
  },
  {
   "cell_type": "code",
   "execution_count": 44,
   "id": "1a2140eb",
   "metadata": {},
   "outputs": [],
   "source": [
    "X = shuffled_ratings.drop(['reviewerID', 'asin', 'RATING'], axis=1)\n",
    "Y = shuffled_ratings['RATING']"
   ]
  },
  {
   "cell_type": "code",
   "execution_count": null,
   "id": "b8ba998a",
   "metadata": {},
   "outputs": [],
   "source": []
  },
  {
   "cell_type": "code",
   "execution_count": 45,
   "id": "50d99afb",
   "metadata": {},
   "outputs": [],
   "source": [
    "threshold = int(len(Y)*0.8)\n",
    "\n",
    "X_train = X[:threshold] # 80% podataka pripada skupu za trening (X)\n",
    "X_test = X[threshold:] # 20% podataka pripada skupu za testiranje (X)\n",
    "\n",
    "Y_train = Y[:threshold] # 80% podataka pripada skupu za trening (Y)\n",
    "Y_test = Y[threshold:] # 20% podataka pripada skupu za testiranje (Y)"
   ]
  },
  {
   "cell_type": "code",
   "execution_count": 46,
   "id": "9aeaebfb",
   "metadata": {},
   "outputs": [
    {
     "data": {
      "text/plain": [
       "((15999, 2), (4000, 2))"
      ]
     },
     "execution_count": 46,
     "metadata": {},
     "output_type": "execute_result"
    }
   ],
   "source": [
    "X_train.shape, X_test.shape"
   ]
  },
  {
   "cell_type": "code",
   "execution_count": 47,
   "id": "99e1cb8f",
   "metadata": {},
   "outputs": [
    {
     "data": {
      "text/plain": [
       "((15999,), (4000,))"
      ]
     },
     "execution_count": 47,
     "metadata": {},
     "output_type": "execute_result"
    }
   ],
   "source": [
    "Y_train.shape, Y_test.shape"
   ]
  },
  {
   "cell_type": "code",
   "execution_count": 48,
   "id": "1fd5cb21",
   "metadata": {},
   "outputs": [
    {
     "data": {
      "image/png": "[encoded data removed]",
      "text/plain": [
       "<Figure size 432x288 with 1 Axes>"
      ]
     },
     "metadata": {
      "needs_background": "light"
     },
     "output_type": "display_data"
    }
   ],
   "source": [
    "plt.title(\"Vizualizacija podele skupa na trening i test\")\n",
    "plt.xlabel('Ocena')\n",
    "plt.ylabel('Broj korisnika koji je dao ocenu')\n",
    "plt.hist([Y_train, Y_test], color=['darkgreen', 'cornflowerblue'], label=['Skup za treniranje', 'Skup za testiranje'])\n",
    "plt.legend(loc='best')\n",
    "plt.show()"
   ]
  },
  {
   "cell_type": "code",
   "execution_count": 49,
   "id": "0e82fb68",
   "metadata": {},
   "outputs": [
    {
     "data": {
      "text/plain": [
       "(15999,)"
      ]
     },
     "execution_count": 49,
     "metadata": {},
     "output_type": "execute_result"
    }
   ],
   "source": [
    "Y_train.shape"
   ]
  },
  {
   "cell_type": "code",
   "execution_count": null,
   "id": "e6142c81",
   "metadata": {},
   "outputs": [],
   "source": []
  },
  {
   "cell_type": "markdown",
   "id": "6f5f74f4",
   "metadata": {},
   "source": [
    "### Kreiranje modela"
   ]
  },
  {
   "cell_type": "code",
   "execution_count": 414,
   "id": "9db7df5c",
   "metadata": {},
   "outputs": [],
   "source": [
    "# Broj latentnih faktora\n",
    "n_latent_factors = 50\n",
    "\n",
    "# broj jedinstvenih korisnika i proizvoda\n",
    "n_users, n_products = len(shuffled_ratings['USER'].unique()), len(shuffled_ratings['ITEM'].unique())"
   ]
  },
  {
   "cell_type": "code",
   "execution_count": 415,
   "id": "7bda8949",
   "metadata": {},
   "outputs": [],
   "source": [
    "# Arhitektura modela\n",
    "\n",
    "# Slojevi za korisnika\n",
    "user_input = Input(shape=(1,), name='User_Input')\n",
    "user_embeddings = Embedding(input_dim = n_users, output_dim=n_latent_factors, input_length=1, name='User_Embedding') (user_input)\n",
    "user_vector = Flatten(name='User_Vector') (user_embeddings)\n",
    "\n",
    "\n",
    "# Slojevi za proizvod\n",
    "product_input = Input(shape=(1,), name='Product_Input')\n",
    "product_embeddings = Embedding(input_dim = n_products, output_dim=n_latent_factors, input_length=1, name='Product_Embedding') (product_input)\n",
    "product_vector = Flatten(name='Product_Vector') (product_embeddings)\n",
    "\n",
    "\n",
    "# Skalarni proizvod\n",
    "merged_vectors = dot([user_vector, product_vector], name='Dot_Product', axes=1)\n",
    "model = Model([user_input, product_input], merged_vectors)"
   ]
  },
  {
   "cell_type": "code",
   "execution_count": 416,
   "id": "bb9dc3ec",
   "metadata": {},
   "outputs": [],
   "source": [
    "#SVG(model_to_dot(model, show_shapes=True, show_layer_names=True).create(prog='dot', format='svg'))"
   ]
  },
  {
   "cell_type": "code",
   "execution_count": 417,
   "id": "e0951a80",
   "metadata": {},
   "outputs": [
    {
     "name": "stdout",
     "output_type": "stream",
     "text": [
      "Model: \"model_11\"\n",
      "__________________________________________________________________________________________________\n",
      " Layer (type)                   Output Shape         Param #     Connected to                     \n",
      "==================================================================================================\n",
      " User_Input (InputLayer)        [(None, 1)]          0           []                               \n",
      "                                                                                                  \n",
      " Product_Input (InputLayer)     [(None, 1)]          0           []                               \n",
      "                                                                                                  \n",
      " User_Embedding (Embedding)     (None, 1, 50)        916000      ['User_Input[0][0]']             \n",
      "                                                                                                  \n",
      " Product_Embedding (Embedding)  (None, 1, 50)        7050        ['Product_Input[0][0]']          \n",
      "                                                                                                  \n",
      " User_Vector (Flatten)          (None, 50)           0           ['User_Embedding[0][0]']         \n",
      "                                                                                                  \n",
      " Product_Vector (Flatten)       (None, 50)           0           ['Product_Embedding[0][0]']      \n",
      "                                                                                                  \n",
      " Dot_Product (Dot)              (None, 1)            0           ['User_Vector[0][0]',            \n",
      "                                                                  'Product_Vector[0][0]']         \n",
      "                                                                                                  \n",
      "==================================================================================================\n",
      "Total params: 923,050\n",
      "Trainable params: 923,050\n",
      "Non-trainable params: 0\n",
      "__________________________________________________________________________________________________\n"
     ]
    }
   ],
   "source": [
    "model.summary()"
   ]
  },
  {
   "cell_type": "code",
   "execution_count": 418,
   "id": "f2814b7d",
   "metadata": {},
   "outputs": [],
   "source": [
    "optimizer = Adam(learning_rate = 0.0005)\n",
    "\n",
    "model.compile(loss='mean_squared_error', optimizer = optimizer)"
   ]
  },
  {
   "cell_type": "code",
   "execution_count": null,
   "id": "4968f1fe",
   "metadata": {},
   "outputs": [],
   "source": []
  },
  {
   "cell_type": "markdown",
   "id": "18154fd7",
   "metadata": {},
   "source": [
    "### Treniranje i testiranje modela za različite vrednosti parametara batch_size i epochs i evaluacija"
   ]
  },
  {
   "cell_type": "code",
   "execution_count": 194,
   "id": "2384e2d5",
   "metadata": {},
   "outputs": [
    {
     "name": "stdout",
     "output_type": "stream",
     "text": [
      "Epoch 1/20\n",
      "125/125 - 3s - loss: 19.7372 - val_loss: 19.7932 - 3s/epoch - 21ms/step\n",
      "Epoch 2/20\n",
      "125/125 - 2s - loss: 19.6667 - val_loss: 19.7734 - 2s/epoch - 14ms/step\n",
      "Epoch 3/20\n",
      "125/125 - 2s - loss: 19.4217 - val_loss: 19.7061 - 2s/epoch - 16ms/step\n",
      "Epoch 4/20\n",
      "125/125 - 2s - loss: 18.7802 - val_loss: 19.5610 - 2s/epoch - 15ms/step\n",
      "Epoch 5/20\n",
      "125/125 - 2s - loss: 17.6052 - val_loss: 19.3339 - 2s/epoch - 14ms/step\n",
      "Epoch 6/20\n",
      "125/125 - 2s - loss: 15.9192 - val_loss: 19.0357 - 2s/epoch - 14ms/step\n",
      "Epoch 7/20\n",
      "125/125 - 2s - loss: 13.8628 - val_loss: 18.7031 - 2s/epoch - 15ms/step\n",
      "Epoch 8/20\n",
      "125/125 - 2s - loss: 11.6308 - val_loss: 18.3605 - 2s/epoch - 17ms/step\n",
      "Epoch 9/20\n",
      "125/125 - 2s - loss: 9.4092 - val_loss: 18.0442 - 2s/epoch - 15ms/step\n",
      "Epoch 10/20\n",
      "125/125 - 2s - loss: 7.3583 - val_loss: 17.7685 - 2s/epoch - 15ms/step\n",
      "Epoch 11/20\n",
      "125/125 - 2s - loss: 5.5786 - val_loss: 17.5432 - 2s/epoch - 15ms/step\n",
      "Epoch 12/20\n",
      "125/125 - 2s - loss: 4.1226 - val_loss: 17.3702 - 2s/epoch - 15ms/step\n",
      "Epoch 13/20\n",
      "125/125 - 2s - loss: 2.9906 - val_loss: 17.2416 - 2s/epoch - 16ms/step\n",
      "Epoch 14/20\n",
      "125/125 - 2s - loss: 2.1462 - val_loss: 17.1526 - 2s/epoch - 15ms/step\n",
      "Epoch 15/20\n",
      "125/125 - 2s - loss: 1.5369 - val_loss: 17.0895 - 2s/epoch - 15ms/step\n",
      "Epoch 16/20\n",
      "125/125 - 2s - loss: 1.1067 - val_loss: 17.0458 - 2s/epoch - 18ms/step\n",
      "Epoch 17/20\n",
      "125/125 - 2s - loss: 0.8061 - val_loss: 17.0170 - 2s/epoch - 19ms/step\n",
      "Epoch 18/20\n",
      "125/125 - 2s - loss: 0.5960 - val_loss: 16.9964 - 2s/epoch - 17ms/step\n",
      "Epoch 19/20\n",
      "125/125 - 2s - loss: 0.4485 - val_loss: 16.9826 - 2s/epoch - 19ms/step\n",
      "Epoch 20/20\n",
      "125/125 - 2s - loss: 0.3433 - val_loss: 16.9726 - 2s/epoch - 14ms/step\n"
     ]
    }
   ],
   "source": [
    "batch_size = 128\n",
    "epochs = 20\n",
    "\n",
    "history = model.fit(x = [X_train['USER'], X_train['ITEM']], y = Y_train, batch_size = batch_size, epochs = epochs, verbose = 2, validation_data = ([X_test['USER'], X_test['ITEM']], Y_test))\n"
   ]
  },
  {
   "cell_type": "code",
   "execution_count": 195,
   "id": "c0987246",
   "metadata": {},
   "outputs": [
    {
     "data": {
      "image/png": "[encoded data removed]",
      "text/plain": [
       "<Figure size 576x288 with 1 Axes>"
      ]
     },
     "metadata": {
      "needs_background": "light"
     },
     "output_type": "display_data"
    }
   ],
   "source": [
    "# Funkcija gubitka tokom treniranja i testiranja\n",
    "training_loss = history.history['loss']\n",
    "test_loss = history.history['val_loss']\n",
    "\n",
    "# Broj epoha\n",
    "epoch_count = range(1, len(training_loss) + 1)\n",
    "\n",
    "# Vizualizacija gubitka kroz epohe\n",
    "plt.figure(figsize = (8,4))\n",
    "plt.plot(epoch_count, training_loss, 'r--')\n",
    "plt.plot(epoch_count, test_loss, 'b-')\n",
    "plt.legend(['Funkcija gubitka na trening skupu', 'Funkcija gubitka na test skupu'])\n",
    "plt.xlabel('Epoha')\n",
    "plt.ylabel('Funkcija gubitka')\n",
    "plt.show()"
   ]
  },
  {
   "cell_type": "code",
   "execution_count": null,
   "id": "8ebcdbd2",
   "metadata": {},
   "outputs": [],
   "source": []
  },
  {
   "cell_type": "code",
   "execution_count": 84,
   "id": "f25ca197",
   "metadata": {},
   "outputs": [
    {
     "name": "stdout",
     "output_type": "stream",
     "text": [
      "125/125 [==============================] - 0s 2ms/step - loss: 17.0349\n",
      "\n",
      "RMSE: 4.1273\n"
     ]
    }
   ],
   "source": [
    "score = model.evaluate([X_test['USER'], X_test['ITEM']], Y_test)\n",
    "print()\n",
    "print('RMSE: {:.4f}'.format(np.sqrt(score)))"
   ]
  },
  {
   "cell_type": "code",
   "execution_count": null,
   "id": "cff3d570",
   "metadata": {},
   "outputs": [],
   "source": []
  },
  {
   "cell_type": "code",
   "execution_count": 109,
   "id": "eb2af9b6",
   "metadata": {},
   "outputs": [
    {
     "name": "stdout",
     "output_type": "stream",
     "text": [
      "125/125 [==============================] - 0s 2ms/step - loss: 17.0208\n"
     ]
    }
   ],
   "source": [
    "y_pred = model.evaluate([X_test['USER'], X_test['ITEM']], Y_test)"
   ]
  },
  {
   "cell_type": "code",
   "execution_count": null,
   "id": "8d5a000f",
   "metadata": {},
   "outputs": [],
   "source": []
  },
  {
   "cell_type": "code",
   "execution_count": 233,
   "id": "4ab0e6af",
   "metadata": {},
   "outputs": [
    {
     "name": "stdout",
     "output_type": "stream",
     "text": [
      "Epoch 1/10\n",
      "125/125 - 3s - loss: 19.7365 - val_loss: 19.7934 - 3s/epoch - 23ms/step\n",
      "Epoch 2/10\n",
      "125/125 - 2s - loss: 19.6649 - val_loss: 19.7745 - 2s/epoch - 14ms/step\n",
      "Epoch 3/10\n",
      "125/125 - 2s - loss: 19.4170 - val_loss: 19.7113 - 2s/epoch - 15ms/step\n",
      "Epoch 4/10\n",
      "125/125 - 2s - loss: 18.7742 - val_loss: 19.5770 - 2s/epoch - 14ms/step\n",
      "Epoch 5/10\n",
      "125/125 - 2s - loss: 17.6077 - val_loss: 19.3644 - 2s/epoch - 15ms/step\n",
      "Epoch 6/10\n",
      "125/125 - 2s - loss: 15.9387 - val_loss: 19.0885 - 2s/epoch - 16ms/step\n",
      "Epoch 7/10\n",
      "125/125 - 2s - loss: 13.9008 - val_loss: 18.7695 - 2s/epoch - 15ms/step\n",
      "Epoch 8/10\n",
      "125/125 - 2s - loss: 11.6761 - val_loss: 18.4409 - 2s/epoch - 16ms/step\n",
      "Epoch 9/10\n",
      "125/125 - 2s - loss: 9.4573 - val_loss: 18.1251 - 2s/epoch - 16ms/step\n",
      "Epoch 10/10\n",
      "125/125 - 2s - loss: 7.3986 - val_loss: 17.8443 - 2s/epoch - 18ms/step\n"
     ]
    }
   ],
   "source": [
    "batch_size = 128\n",
    "epochs = 10\n",
    "\n",
    "history = model.fit(x = [X_train['USER'], X_train['ITEM']], y = Y_train, batch_size = batch_size, epochs = epochs, verbose = 2, validation_data = ([X_test['USER'], X_test['ITEM']], Y_test))\n"
   ]
  },
  {
   "cell_type": "code",
   "execution_count": 234,
   "id": "dee50748",
   "metadata": {},
   "outputs": [
    {
     "data": {
      "image/png": "[encoded data removed]",
      "text/plain": [
       "<Figure size 576x288 with 1 Axes>"
      ]
     },
     "metadata": {
      "needs_background": "light"
     },
     "output_type": "display_data"
    }
   ],
   "source": [
    "# Funkcija gubitka tokom treniranja i testiranja\n",
    "training_loss = history.history['loss']\n",
    "test_loss = history.history['val_loss']\n",
    "\n",
    "# Broj epoha\n",
    "epoch_count = range(1, len(training_loss) + 1)\n",
    "\n",
    "# Vizualizacija gubitka kroz epohe\n",
    "plt.figure(figsize = (8,4))\n",
    "plt.plot(epoch_count, training_loss, 'r--')\n",
    "plt.plot(epoch_count, test_loss, 'b-')\n",
    "plt.legend(['Funkcija gubitka na trening skupu', 'Funkcija gubitka na test skupu'])\n",
    "plt.xlabel('Epoha')\n",
    "plt.ylabel('Funkcija gubitka')\n",
    "plt.show()"
   ]
  },
  {
   "cell_type": "code",
   "execution_count": null,
   "id": "305867b5",
   "metadata": {},
   "outputs": [],
   "source": []
  },
  {
   "cell_type": "code",
   "execution_count": 295,
   "id": "c3ec990b",
   "metadata": {},
   "outputs": [
    {
     "name": "stdout",
     "output_type": "stream",
     "text": [
      "Epoch 1/20\n",
      "250/250 - 4s - loss: 19.7368 - val_loss: 19.7927 - 4s/epoch - 18ms/step\n",
      "Epoch 2/20\n",
      "250/250 - 3s - loss: 19.6135 - val_loss: 19.7435 - 3s/epoch - 14ms/step\n",
      "Epoch 3/20\n",
      "250/250 - 3s - loss: 19.0169 - val_loss: 19.5595 - 3s/epoch - 14ms/step\n",
      "Epoch 4/20\n",
      "250/250 - 4s - loss: 17.4232 - val_loss: 19.2046 - 4s/epoch - 14ms/step\n",
      "Epoch 5/20\n",
      "250/250 - 4s - loss: 14.7819 - val_loss: 18.7348 - 4s/epoch - 14ms/step\n",
      "Epoch 6/20\n",
      "250/250 - 3s - loss: 11.5529 - val_loss: 18.2383 - 3s/epoch - 14ms/step\n",
      "Epoch 7/20\n",
      "250/250 - 4s - loss: 8.3540 - val_loss: 17.8169 - 4s/epoch - 14ms/step\n",
      "Epoch 8/20\n",
      "250/250 - 4s - loss: 5.6623 - val_loss: 17.5026 - 4s/epoch - 14ms/step\n",
      "Epoch 9/20\n",
      "250/250 - 4s - loss: 3.6786 - val_loss: 17.3011 - 4s/epoch - 14ms/step\n",
      "Epoch 10/20\n",
      "250/250 - 4s - loss: 2.3559 - val_loss: 17.1809 - 4s/epoch - 15ms/step\n",
      "Epoch 11/20\n",
      "250/250 - 4s - loss: 1.5238 - val_loss: 17.1098 - 4s/epoch - 14ms/step\n",
      "Epoch 12/20\n",
      "250/250 - 4s - loss: 1.0067 - val_loss: 17.0684 - 4s/epoch - 14ms/step\n",
      "Epoch 13/20\n",
      "250/250 - 3s - loss: 0.6820 - val_loss: 17.0434 - 3s/epoch - 14ms/step\n",
      "Epoch 14/20\n",
      "250/250 - 4s - loss: 0.4746 - val_loss: 17.0281 - 4s/epoch - 14ms/step\n",
      "Epoch 15/20\n",
      "250/250 - 4s - loss: 0.3399 - val_loss: 17.0191 - 4s/epoch - 14ms/step\n",
      "Epoch 16/20\n",
      "250/250 - 3s - loss: 0.2506 - val_loss: 17.0139 - 3s/epoch - 14ms/step\n",
      "Epoch 17/20\n",
      "250/250 - 3s - loss: 0.1893 - val_loss: 17.0107 - 3s/epoch - 14ms/step\n",
      "Epoch 18/20\n",
      "250/250 - 4s - loss: 0.1459 - val_loss: 17.0101 - 4s/epoch - 14ms/step\n",
      "Epoch 19/20\n",
      "250/250 - 4s - loss: 0.1135 - val_loss: 17.0086 - 4s/epoch - 14ms/step\n",
      "Epoch 20/20\n",
      "250/250 - 4s - loss: 0.0889 - val_loss: 17.0087 - 4s/epoch - 14ms/step\n"
     ]
    }
   ],
   "source": [
    "batch_size = 64\n",
    "epochs = 20\n",
    "\n",
    "history = model.fit(x = [X_train['USER'], X_train['ITEM']], y = Y_train, batch_size = batch_size, epochs = epochs, verbose = 2, validation_data = ([X_test['USER'], X_test['ITEM']], Y_test))\n"
   ]
  },
  {
   "cell_type": "code",
   "execution_count": null,
   "id": "c87ed6b4",
   "metadata": {},
   "outputs": [],
   "source": []
  },
  {
   "cell_type": "code",
   "execution_count": 296,
   "id": "d26ade83",
   "metadata": {},
   "outputs": [
    {
     "data": {
      "image/png": "[encoded data removed]",
      "text/plain": [
       "<Figure size 576x288 with 1 Axes>"
      ]
     },
     "metadata": {
      "needs_background": "light"
     },
     "output_type": "display_data"
    }
   ],
   "source": [
    "# Funkcija gubitka tokom treniranja i testiranja\n",
    "training_loss = history.history['loss']\n",
    "test_loss = history.history['val_loss']\n",
    "\n",
    "# Broj epoha\n",
    "epoch_count = range(1, len(training_loss) + 1)\n",
    "\n",
    "# Vizualizacija gubitka kroz epohe\n",
    "plt.figure(figsize = (8,4))\n",
    "plt.plot(epoch_count, training_loss, 'r--')\n",
    "plt.plot(epoch_count, test_loss, 'b-')\n",
    "plt.legend(['Funkcija gubitka na trening skupu', 'Funkcija gubitka na test skupu'])\n",
    "plt.xlabel('Epoha')\n",
    "plt.ylabel('Funkcija gubitka')\n",
    "plt.show()"
   ]
  },
  {
   "cell_type": "code",
   "execution_count": null,
   "id": "5ad6be68",
   "metadata": {},
   "outputs": [],
   "source": []
  },
  {
   "cell_type": "code",
   "execution_count": null,
   "id": "b4f12f9f",
   "metadata": {},
   "outputs": [],
   "source": []
  },
  {
   "cell_type": "code",
   "execution_count": 264,
   "id": "3f7f9d25",
   "metadata": {},
   "outputs": [
    {
     "name": "stdout",
     "output_type": "stream",
     "text": [
      "Epoch 1/10\n",
      "250/250 - 5s - loss: 19.7362 - val_loss: 19.7942 - 5s/epoch - 18ms/step\n",
      "Epoch 2/10\n",
      "250/250 - 4s - loss: 19.6100 - val_loss: 19.7491 - 4s/epoch - 14ms/step\n",
      "Epoch 3/10\n",
      "250/250 - 4s - loss: 19.0150 - val_loss: 19.5814 - 4s/epoch - 14ms/step\n",
      "Epoch 4/10\n",
      "250/250 - 4s - loss: 17.4361 - val_loss: 19.2504 - 4s/epoch - 15ms/step\n",
      "Epoch 5/10\n",
      "250/250 - 4s - loss: 14.8181 - val_loss: 18.7923 - 4s/epoch - 14ms/step\n",
      "Epoch 6/10\n",
      "250/250 - 4s - loss: 11.6053 - val_loss: 18.3054 - 4s/epoch - 14ms/step\n",
      "Epoch 7/10\n",
      "250/250 - 4s - loss: 8.4017 - val_loss: 17.8708 - 4s/epoch - 14ms/step\n",
      "Epoch 8/10\n",
      "250/250 - 3s - loss: 5.6937 - val_loss: 17.5442 - 3s/epoch - 14ms/step\n",
      "Epoch 9/10\n",
      "250/250 - 3s - loss: 3.6952 - val_loss: 17.3266 - 3s/epoch - 14ms/step\n",
      "Epoch 10/10\n",
      "250/250 - 4s - loss: 2.3641 - val_loss: 17.1942 - 4s/epoch - 14ms/step\n"
     ]
    }
   ],
   "source": [
    "batch_size = 64\n",
    "epochs = 10\n",
    "\n",
    "history = model.fit(x = [X_train['USER'], X_train['ITEM']], y = Y_train, batch_size = batch_size, epochs = epochs, verbose = 2, validation_data = ([X_test['USER'], X_test['ITEM']], Y_test))\n"
   ]
  },
  {
   "cell_type": "code",
   "execution_count": 265,
   "id": "c52dd6e4",
   "metadata": {},
   "outputs": [
    {
     "data": {
      "image/png": "[encoded data removed]",
      "text/plain": [
       "<Figure size 576x288 with 1 Axes>"
      ]
     },
     "metadata": {
      "needs_background": "light"
     },
     "output_type": "display_data"
    }
   ],
   "source": [
    "# Funkcija gubitka tokom treniranja i testiranja\n",
    "training_loss = history.history['loss']\n",
    "test_loss = history.history['val_loss']\n",
    "\n",
    "# Broj epoha\n",
    "epoch_count = range(1, len(training_loss) + 1)\n",
    "\n",
    "# Vizualizacija gubitka kroz epohe\n",
    "plt.figure(figsize = (8,4))\n",
    "plt.plot(epoch_count, training_loss, 'r--')\n",
    "plt.plot(epoch_count, test_loss, 'b-')\n",
    "plt.legend(['Funkcija gubitka na trening skupu', 'Funkcija gubitka na test skupu'])\n",
    "plt.xlabel('Epoha')\n",
    "plt.ylabel('Funkcija gubitka')\n",
    "plt.show()"
   ]
  },
  {
   "cell_type": "code",
   "execution_count": null,
   "id": "aef105b6",
   "metadata": {},
   "outputs": [],
   "source": []
  },
  {
   "cell_type": "code",
   "execution_count": null,
   "id": "df22d1f3",
   "metadata": {},
   "outputs": [],
   "source": []
  },
  {
   "cell_type": "code",
   "execution_count": 326,
   "id": "8d927f15",
   "metadata": {},
   "outputs": [
    {
     "name": "stdout",
     "output_type": "stream",
     "text": [
      "Epoch 1/30\n",
      "250/250 - 5s - loss: 19.7363 - val_loss: 19.7910 - 5s/epoch - 18ms/step\n",
      "Epoch 2/30\n",
      "250/250 - 4s - loss: 19.6109 - val_loss: 19.7358 - 4s/epoch - 16ms/step\n",
      "Epoch 3/30\n",
      "250/250 - 4s - loss: 19.0039 - val_loss: 19.5386 - 4s/epoch - 14ms/step\n",
      "Epoch 4/30\n",
      "250/250 - 4s - loss: 17.3880 - val_loss: 19.1554 - 4s/epoch - 15ms/step\n",
      "Epoch 5/30\n",
      "250/250 - 4s - loss: 14.7233 - val_loss: 18.6534 - 4s/epoch - 18ms/step\n",
      "Epoch 6/30\n",
      "250/250 - 4s - loss: 11.4863 - val_loss: 18.1443 - 4s/epoch - 16ms/step\n",
      "Epoch 7/30\n",
      "250/250 - 4s - loss: 8.3023 - val_loss: 17.7199 - 4s/epoch - 14ms/step\n",
      "Epoch 8/30\n",
      "250/250 - 4s - loss: 5.6378 - val_loss: 17.4140 - 4s/epoch - 14ms/step\n",
      "Epoch 9/30\n",
      "250/250 - 4s - loss: 3.6740 - val_loss: 17.2219 - 4s/epoch - 14ms/step\n",
      "Epoch 10/30\n",
      "250/250 - 4s - loss: 2.3605 - val_loss: 17.1084 - 4s/epoch - 14ms/step\n",
      "Epoch 11/30\n",
      "250/250 - 4s - loss: 1.5303 - val_loss: 17.0430 - 4s/epoch - 14ms/step\n",
      "Epoch 12/30\n",
      "250/250 - 4s - loss: 1.0125 - val_loss: 17.0053 - 4s/epoch - 14ms/step\n",
      "Epoch 13/30\n",
      "250/250 - 4s - loss: 0.6857 - val_loss: 16.9844 - 4s/epoch - 14ms/step\n",
      "Epoch 14/30\n",
      "250/250 - 4s - loss: 0.4767 - val_loss: 16.9720 - 4s/epoch - 14ms/step\n",
      "Epoch 15/30\n",
      "250/250 - 4s - loss: 0.3410 - val_loss: 16.9662 - 4s/epoch - 14ms/step\n",
      "Epoch 16/30\n",
      "250/250 - 4s - loss: 0.2509 - val_loss: 16.9634 - 4s/epoch - 14ms/step\n",
      "Epoch 17/30\n",
      "250/250 - 4s - loss: 0.1891 - val_loss: 16.9627 - 4s/epoch - 15ms/step\n",
      "Epoch 18/30\n",
      "250/250 - 4s - loss: 0.1452 - val_loss: 16.9617 - 4s/epoch - 15ms/step\n",
      "Epoch 19/30\n",
      "250/250 - 4s - loss: 0.1125 - val_loss: 16.9627 - 4s/epoch - 14ms/step\n",
      "Epoch 20/30\n",
      "250/250 - 4s - loss: 0.0878 - val_loss: 16.9616 - 4s/epoch - 14ms/step\n",
      "Epoch 21/30\n",
      "250/250 - 4s - loss: 0.0690 - val_loss: 16.9616 - 4s/epoch - 14ms/step\n",
      "Epoch 22/30\n",
      "250/250 - 4s - loss: 0.0545 - val_loss: 16.9615 - 4s/epoch - 15ms/step\n",
      "Epoch 23/30\n",
      "250/250 - 4s - loss: 0.0439 - val_loss: 16.9612 - 4s/epoch - 17ms/step\n",
      "Epoch 24/30\n",
      "250/250 - 4s - loss: 0.0359 - val_loss: 16.9609 - 4s/epoch - 17ms/step\n",
      "Epoch 25/30\n",
      "250/250 - 6s - loss: 0.0302 - val_loss: 16.9610 - 6s/epoch - 23ms/step\n",
      "Epoch 26/30\n",
      "250/250 - 7s - loss: 0.0258 - val_loss: 16.9610 - 7s/epoch - 29ms/step\n",
      "Epoch 27/30\n",
      "250/250 - 6s - loss: 0.0227 - val_loss: 16.9614 - 6s/epoch - 25ms/step\n",
      "Epoch 28/30\n",
      "250/250 - 5s - loss: 0.0218 - val_loss: 16.9606 - 5s/epoch - 19ms/step\n",
      "Epoch 29/30\n",
      "250/250 - 4s - loss: 0.0234 - val_loss: 16.9622 - 4s/epoch - 15ms/step\n",
      "Epoch 30/30\n",
      "250/250 - 4s - loss: 0.0265 - val_loss: 16.9602 - 4s/epoch - 15ms/step\n"
     ]
    }
   ],
   "source": [
    "batch_size = 64\n",
    "epochs = 30\n",
    "\n",
    "history = model.fit(x = [X_train['USER'], X_train['ITEM']], y = Y_train, batch_size = batch_size, epochs = epochs, verbose = 2, validation_data = ([X_test['USER'], X_test['ITEM']], Y_test))\n"
   ]
  },
  {
   "cell_type": "code",
   "execution_count": 327,
   "id": "66f9dbcb",
   "metadata": {},
   "outputs": [
    {
     "data": {
      "image/png": "[encoded data removed]",
      "text/plain": [
       "<Figure size 576x288 with 1 Axes>"
      ]
     },
     "metadata": {
      "needs_background": "light"
     },
     "output_type": "display_data"
    }
   ],
   "source": [
    "# Funkcija gubitka tokom treniranja i testiranja\n",
    "training_loss = history.history['loss']\n",
    "test_loss = history.history['val_loss']\n",
    "\n",
    "# Broj epoha\n",
    "epoch_count = range(1, len(training_loss) + 1)\n",
    "\n",
    "# Vizualizacija gubitka kroz epohe\n",
    "plt.figure(figsize = (8,4))\n",
    "plt.plot(epoch_count, training_loss, 'r--')\n",
    "plt.plot(epoch_count, test_loss, 'b-')\n",
    "plt.legend(['Funkcija gubitka na trening skupu', 'Funkcija gubitka na test skupu'])\n",
    "plt.xlabel('Epoha')\n",
    "plt.ylabel('Funkcija gubitka')\n",
    "plt.show()"
   ]
  },
  {
   "cell_type": "code",
   "execution_count": null,
   "id": "0ecb61de",
   "metadata": {},
   "outputs": [],
   "source": []
  },
  {
   "cell_type": "code",
   "execution_count": null,
   "id": "14a1b174",
   "metadata": {},
   "outputs": [],
   "source": []
  },
  {
   "cell_type": "code",
   "execution_count": 357,
   "id": "54ae725c",
   "metadata": {},
   "outputs": [
    {
     "name": "stdout",
     "output_type": "stream",
     "text": [
      "Epoch 1/30\n",
      "125/125 - 3s - loss: 19.7362 - val_loss: 19.7950 - 3s/epoch - 25ms/step\n",
      "Epoch 2/30\n",
      "125/125 - 2s - loss: 19.6647 - val_loss: 19.7740 - 2s/epoch - 17ms/step\n",
      "Epoch 3/30\n",
      "125/125 - 2s - loss: 19.4132 - val_loss: 19.7027 - 2s/epoch - 17ms/step\n",
      "Epoch 4/30\n",
      "125/125 - 2s - loss: 18.7581 - val_loss: 19.5547 - 2s/epoch - 17ms/step\n",
      "Epoch 5/30\n",
      "125/125 - 2s - loss: 17.5704 - val_loss: 19.3270 - 2s/epoch - 16ms/step\n",
      "Epoch 6/30\n",
      "125/125 - 2s - loss: 15.8786 - val_loss: 19.0370 - 2s/epoch - 18ms/step\n",
      "Epoch 7/30\n",
      "125/125 - 2s - loss: 13.8229 - val_loss: 18.7106 - 2s/epoch - 17ms/step\n",
      "Epoch 8/30\n",
      "125/125 - 3s - loss: 11.5960 - val_loss: 18.3858 - 3s/epoch - 21ms/step\n",
      "Epoch 9/30\n",
      "125/125 - 2s - loss: 9.3830 - val_loss: 18.0820 - 2s/epoch - 18ms/step\n",
      "Epoch 10/30\n",
      "125/125 - 2s - loss: 7.3361 - val_loss: 17.8188 - 2s/epoch - 17ms/step\n",
      "Epoch 11/30\n",
      "125/125 - 2s - loss: 5.5629 - val_loss: 17.6029 - 2s/epoch - 19ms/step\n",
      "Epoch 12/30\n",
      "125/125 - 2s - loss: 4.1095 - val_loss: 17.4357 - 2s/epoch - 16ms/step\n",
      "Epoch 13/30\n",
      "125/125 - 2s - loss: 2.9787 - val_loss: 17.3113 - 2s/epoch - 15ms/step\n",
      "Epoch 14/30\n",
      "125/125 - 2s - loss: 2.1352 - val_loss: 17.2228 - 2s/epoch - 16ms/step\n",
      "Epoch 15/30\n",
      "125/125 - 2s - loss: 1.5275 - val_loss: 17.1622 - 2s/epoch - 14ms/step\n",
      "Epoch 16/30\n",
      "125/125 - 2s - loss: 1.0989 - val_loss: 17.1193 - 2s/epoch - 15ms/step\n",
      "Epoch 17/30\n",
      "125/125 - 2s - loss: 0.7998 - val_loss: 17.0896 - 2s/epoch - 15ms/step\n",
      "Epoch 18/30\n",
      "125/125 - 2s - loss: 0.5912 - val_loss: 17.0697 - 2s/epoch - 16ms/step\n",
      "Epoch 19/30\n",
      "125/125 - 2s - loss: 0.4445 - val_loss: 17.0545 - 2s/epoch - 15ms/step\n",
      "Epoch 20/30\n",
      "125/125 - 2s - loss: 0.3401 - val_loss: 17.0446 - 2s/epoch - 16ms/step\n",
      "Epoch 21/30\n",
      "125/125 - 2s - loss: 0.2649 - val_loss: 17.0371 - 2s/epoch - 16ms/step\n",
      "Epoch 22/30\n",
      "125/125 - 2s - loss: 0.2093 - val_loss: 17.0320 - 2s/epoch - 16ms/step\n",
      "Epoch 23/30\n",
      "125/125 - 2s - loss: 0.1675 - val_loss: 17.0284 - 2s/epoch - 18ms/step\n",
      "Epoch 24/30\n",
      "125/125 - 2s - loss: 0.1353 - val_loss: 17.0259 - 2s/epoch - 17ms/step\n",
      "Epoch 25/30\n",
      "125/125 - 2s - loss: 0.1103 - val_loss: 17.0242 - 2s/epoch - 17ms/step\n",
      "Epoch 26/30\n",
      "125/125 - 2s - loss: 0.0904 - val_loss: 17.0231 - 2s/epoch - 15ms/step\n",
      "Epoch 27/30\n",
      "125/125 - 2s - loss: 0.0744 - val_loss: 17.0223 - 2s/epoch - 15ms/step\n",
      "Epoch 28/30\n",
      "125/125 - 2s - loss: 0.0616 - val_loss: 17.0216 - 2s/epoch - 15ms/step\n",
      "Epoch 29/30\n",
      "125/125 - 2s - loss: 0.0512 - val_loss: 17.0215 - 2s/epoch - 15ms/step\n",
      "Epoch 30/30\n",
      "125/125 - 2s - loss: 0.0426 - val_loss: 17.0211 - 2s/epoch - 15ms/step\n"
     ]
    }
   ],
   "source": [
    "batch_size = 128\n",
    "epochs = 30\n",
    "\n",
    "history = model.fit(x = [X_train['USER'], X_train['ITEM']], y = Y_train, batch_size = batch_size, epochs = epochs, verbose = 2, validation_data = ([X_test['USER'], X_test['ITEM']], Y_test))\n"
   ]
  },
  {
   "cell_type": "code",
   "execution_count": 358,
   "id": "2455157a",
   "metadata": {},
   "outputs": [
    {
     "data": {
      "image/png": "[encoded data removed]",
      "text/plain": [
       "<Figure size 576x288 with 1 Axes>"
      ]
     },
     "metadata": {
      "needs_background": "light"
     },
     "output_type": "display_data"
    }
   ],
   "source": [
    "# Funkcija gubitka tokom treniranja i testiranja\n",
    "training_loss = history.history['loss']\n",
    "test_loss = history.history['val_loss']\n",
    "\n",
    "# Broj epoha\n",
    "epoch_count = range(1, len(training_loss) + 1)\n",
    "\n",
    "# Vizualizacija gubitka kroz epohe\n",
    "plt.figure(figsize = (8,4))\n",
    "plt.plot(epoch_count, training_loss, 'r--')\n",
    "plt.plot(epoch_count, test_loss, 'b-')\n",
    "plt.legend(['Funkcija gubitka na trening skupu', 'Funkcija gubitka na test skupu'])\n",
    "plt.xlabel('Epoha')\n",
    "plt.ylabel('Funkcija gubitka')\n",
    "plt.show()"
   ]
  },
  {
   "cell_type": "code",
   "execution_count": null,
   "id": "2837aa66",
   "metadata": {},
   "outputs": [],
   "source": []
  },
  {
   "cell_type": "code",
   "execution_count": null,
   "id": "b53a17e5",
   "metadata": {},
   "outputs": [],
   "source": []
  },
  {
   "cell_type": "code",
   "execution_count": 388,
   "id": "d0e4dfee",
   "metadata": {},
   "outputs": [
    {
     "name": "stdout",
     "output_type": "stream",
     "text": [
      "Epoch 1/100\n",
      "125/125 - 3s - loss: 19.7374 - val_loss: 19.7955 - 3s/epoch - 27ms/step\n",
      "Epoch 2/100\n",
      "125/125 - 2s - loss: 19.6681 - val_loss: 19.7781 - 2s/epoch - 15ms/step\n",
      "Epoch 3/100\n",
      "125/125 - 2s - loss: 19.4255 - val_loss: 19.7147 - 2s/epoch - 14ms/step\n",
      "Epoch 4/100\n",
      "125/125 - 2s - loss: 18.7842 - val_loss: 19.5729 - 2s/epoch - 14ms/step\n",
      "Epoch 5/100\n",
      "125/125 - 2s - loss: 17.6046 - val_loss: 19.3450 - 2s/epoch - 14ms/step\n",
      "Epoch 6/100\n",
      "125/125 - 2s - loss: 15.9121 - val_loss: 19.0478 - 2s/epoch - 15ms/step\n",
      "Epoch 7/100\n",
      "125/125 - 2s - loss: 13.8501 - val_loss: 18.7147 - 2s/epoch - 14ms/step\n",
      "Epoch 8/100\n",
      "125/125 - 2s - loss: 11.6131 - val_loss: 18.3783 - 2s/epoch - 15ms/step\n",
      "Epoch 9/100\n",
      "125/125 - 2s - loss: 9.3918 - val_loss: 18.0648 - 2s/epoch - 18ms/step\n",
      "Epoch 10/100\n",
      "125/125 - 2s - loss: 7.3407 - val_loss: 17.7917 - 2s/epoch - 20ms/step\n",
      "Epoch 11/100\n",
      "125/125 - 2s - loss: 5.5660 - val_loss: 17.5725 - 2s/epoch - 15ms/step\n",
      "Epoch 12/100\n",
      "125/125 - 2s - loss: 4.1141 - val_loss: 17.4050 - 2s/epoch - 15ms/step\n",
      "Epoch 13/100\n",
      "125/125 - 2s - loss: 2.9853 - val_loss: 17.2819 - 2s/epoch - 16ms/step\n",
      "Epoch 14/100\n",
      "125/125 - 2s - loss: 2.1434 - val_loss: 17.1939 - 2s/epoch - 15ms/step\n",
      "Epoch 15/100\n",
      "125/125 - 2s - loss: 1.5360 - val_loss: 17.1324 - 2s/epoch - 15ms/step\n",
      "Epoch 16/100\n",
      "125/125 - 2s - loss: 1.1069 - val_loss: 17.0913 - 2s/epoch - 15ms/step\n",
      "Epoch 17/100\n",
      "125/125 - 2s - loss: 0.8071 - val_loss: 17.0623 - 2s/epoch - 14ms/step\n",
      "Epoch 18/100\n",
      "125/125 - 2s - loss: 0.5975 - val_loss: 17.0425 - 2s/epoch - 16ms/step\n",
      "Epoch 19/100\n",
      "125/125 - 2s - loss: 0.4500 - val_loss: 17.0284 - 2s/epoch - 15ms/step\n",
      "Epoch 20/100\n",
      "125/125 - 2s - loss: 0.3448 - val_loss: 17.0185 - 2s/epoch - 15ms/step\n",
      "Epoch 21/100\n",
      "125/125 - 2s - loss: 0.2685 - val_loss: 17.0114 - 2s/epoch - 14ms/step\n",
      "Epoch 22/100\n",
      "125/125 - 2s - loss: 0.2121 - val_loss: 17.0066 - 2s/epoch - 15ms/step\n",
      "Epoch 23/100\n",
      "125/125 - 2s - loss: 0.1698 - val_loss: 17.0031 - 2s/epoch - 15ms/step\n",
      "Epoch 24/100\n",
      "125/125 - 2s - loss: 0.1371 - val_loss: 17.0007 - 2s/epoch - 15ms/step\n",
      "Epoch 25/100\n",
      "125/125 - 2s - loss: 0.1116 - val_loss: 16.9990 - 2s/epoch - 14ms/step\n",
      "Epoch 26/100\n",
      "125/125 - 2s - loss: 0.0915 - val_loss: 16.9978 - 2s/epoch - 15ms/step\n",
      "Epoch 27/100\n",
      "125/125 - 2s - loss: 0.0753 - val_loss: 16.9968 - 2s/epoch - 14ms/step\n",
      "Epoch 28/100\n",
      "125/125 - 2s - loss: 0.0623 - val_loss: 16.9962 - 2s/epoch - 16ms/step\n",
      "Epoch 29/100\n",
      "125/125 - 2s - loss: 0.0516 - val_loss: 16.9958 - 2s/epoch - 16ms/step\n",
      "Epoch 30/100\n",
      "125/125 - 2s - loss: 0.0430 - val_loss: 16.9954 - 2s/epoch - 15ms/step\n",
      "Epoch 31/100\n",
      "125/125 - 2s - loss: 0.0359 - val_loss: 16.9952 - 2s/epoch - 14ms/step\n",
      "Epoch 32/100\n",
      "125/125 - 2s - loss: 0.0301 - val_loss: 16.9950 - 2s/epoch - 15ms/step\n",
      "Epoch 33/100\n",
      "125/125 - 2s - loss: 0.0255 - val_loss: 16.9946 - 2s/epoch - 15ms/step\n",
      "Epoch 34/100\n",
      "125/125 - 2s - loss: 0.0217 - val_loss: 16.9948 - 2s/epoch - 15ms/step\n",
      "Epoch 35/100\n",
      "125/125 - 2s - loss: 0.0186 - val_loss: 16.9942 - 2s/epoch - 15ms/step\n",
      "Epoch 36/100\n",
      "125/125 - 2s - loss: 0.0160 - val_loss: 16.9949 - 2s/epoch - 15ms/step\n",
      "Epoch 37/100\n",
      "125/125 - 2s - loss: 0.0138 - val_loss: 16.9939 - 2s/epoch - 14ms/step\n",
      "Epoch 38/100\n",
      "125/125 - 2s - loss: 0.0119 - val_loss: 16.9945 - 2s/epoch - 15ms/step\n",
      "Epoch 39/100\n",
      "125/125 - 2s - loss: 0.0103 - val_loss: 16.9942 - 2s/epoch - 15ms/step\n",
      "Epoch 40/100\n",
      "125/125 - 2s - loss: 0.0090 - val_loss: 16.9942 - 2s/epoch - 16ms/step\n",
      "Epoch 41/100\n",
      "125/125 - 2s - loss: 0.0079 - val_loss: 16.9939 - 2s/epoch - 14ms/step\n",
      "Epoch 42/100\n",
      "125/125 - 2s - loss: 0.0069 - val_loss: 16.9939 - 2s/epoch - 15ms/step\n",
      "Epoch 43/100\n",
      "125/125 - 2s - loss: 0.0063 - val_loss: 16.9936 - 2s/epoch - 15ms/step\n",
      "Epoch 44/100\n",
      "125/125 - 2s - loss: 0.0059 - val_loss: 16.9938 - 2s/epoch - 15ms/step\n",
      "Epoch 45/100\n",
      "125/125 - 2s - loss: 0.0059 - val_loss: 16.9934 - 2s/epoch - 14ms/step\n",
      "Epoch 46/100\n",
      "125/125 - 2s - loss: 0.0062 - val_loss: 16.9936 - 2s/epoch - 14ms/step\n",
      "Epoch 47/100\n",
      "125/125 - 2s - loss: 0.0063 - val_loss: 16.9933 - 2s/epoch - 15ms/step\n",
      "Epoch 48/100\n",
      "125/125 - 2s - loss: 0.0063 - val_loss: 16.9939 - 2s/epoch - 15ms/step\n",
      "Epoch 49/100\n",
      "125/125 - 2s - loss: 0.0062 - val_loss: 16.9934 - 2s/epoch - 15ms/step\n",
      "Epoch 50/100\n",
      "125/125 - 2s - loss: 0.0059 - val_loss: 16.9940 - 2s/epoch - 15ms/step\n",
      "Epoch 51/100\n",
      "125/125 - 2s - loss: 0.0057 - val_loss: 16.9934 - 2s/epoch - 16ms/step\n",
      "Epoch 52/100\n",
      "125/125 - 2s - loss: 0.0059 - val_loss: 16.9938 - 2s/epoch - 15ms/step\n",
      "Epoch 53/100\n",
      "125/125 - 2s - loss: 0.0067 - val_loss: 16.9933 - 2s/epoch - 15ms/step\n",
      "Epoch 54/100\n",
      "125/125 - 2s - loss: 0.0077 - val_loss: 16.9938 - 2s/epoch - 15ms/step\n",
      "Epoch 55/100\n",
      "125/125 - 2s - loss: 0.0084 - val_loss: 16.9933 - 2s/epoch - 15ms/step\n",
      "Epoch 56/100\n",
      "125/125 - 2s - loss: 0.0087 - val_loss: 16.9939 - 2s/epoch - 15ms/step\n",
      "Epoch 57/100\n",
      "125/125 - 2s - loss: 0.0090 - val_loss: 16.9932 - 2s/epoch - 16ms/step\n",
      "Epoch 58/100\n",
      "125/125 - 2s - loss: 0.0102 - val_loss: 16.9939 - 2s/epoch - 16ms/step\n",
      "Epoch 59/100\n",
      "125/125 - 2s - loss: 0.0133 - val_loss: 16.9937 - 2s/epoch - 16ms/step\n",
      "Epoch 60/100\n",
      "125/125 - 2s - loss: 0.0174 - val_loss: 16.9947 - 2s/epoch - 17ms/step\n",
      "Epoch 61/100\n",
      "125/125 - 2s - loss: 0.0205 - val_loss: 16.9930 - 2s/epoch - 16ms/step\n",
      "Epoch 62/100\n",
      "125/125 - 2s - loss: 0.0212 - val_loss: 16.9945 - 2s/epoch - 15ms/step\n",
      "Epoch 63/100\n",
      "125/125 - 2s - loss: 0.0196 - val_loss: 16.9935 - 2s/epoch - 15ms/step\n",
      "Epoch 64/100\n",
      "125/125 - 2s - loss: 0.0174 - val_loss: 16.9939 - 2s/epoch - 14ms/step\n",
      "Epoch 65/100\n",
      "125/125 - 2s - loss: 0.0153 - val_loss: 16.9935 - 2s/epoch - 15ms/step\n",
      "Epoch 66/100\n",
      "125/125 - 2s - loss: 0.0139 - val_loss: 16.9948 - 2s/epoch - 15ms/step\n",
      "Epoch 67/100\n",
      "125/125 - 2s - loss: 0.0128 - val_loss: 16.9943 - 2s/epoch - 17ms/step\n",
      "Epoch 68/100\n",
      "125/125 - 2s - loss: 0.0122 - val_loss: 16.9951 - 2s/epoch - 15ms/step\n",
      "Epoch 69/100\n",
      "125/125 - 2s - loss: 0.0120 - val_loss: 16.9937 - 2s/epoch - 16ms/step\n",
      "Epoch 70/100\n",
      "125/125 - 2s - loss: 0.0121 - val_loss: 16.9945 - 2s/epoch - 15ms/step\n",
      "Epoch 71/100\n",
      "125/125 - 2s - loss: 0.0127 - val_loss: 16.9933 - 2s/epoch - 15ms/step\n",
      "Epoch 72/100\n",
      "125/125 - 2s - loss: 0.0136 - val_loss: 16.9940 - 2s/epoch - 14ms/step\n",
      "Epoch 73/100\n",
      "125/125 - 2s - loss: 0.0146 - val_loss: 16.9924 - 2s/epoch - 14ms/step\n",
      "Epoch 74/100\n",
      "125/125 - 2s - loss: 0.0159 - val_loss: 16.9938 - 2s/epoch - 15ms/step\n",
      "Epoch 75/100\n",
      "125/125 - 2s - loss: 0.0166 - val_loss: 16.9926 - 2s/epoch - 16ms/step\n",
      "Epoch 76/100\n",
      "125/125 - 2s - loss: 0.0167 - val_loss: 16.9931 - 2s/epoch - 14ms/step\n",
      "Epoch 77/100\n",
      "125/125 - 2s - loss: 0.0162 - val_loss: 16.9923 - 2s/epoch - 14ms/step\n",
      "Epoch 78/100\n",
      "125/125 - 2s - loss: 0.0155 - val_loss: 16.9933 - 2s/epoch - 15ms/step\n",
      "Epoch 79/100\n",
      "125/125 - 2s - loss: 0.0147 - val_loss: 16.9926 - 2s/epoch - 14ms/step\n",
      "Epoch 80/100\n",
      "125/125 - 2s - loss: 0.0142 - val_loss: 16.9938 - 2s/epoch - 14ms/step\n",
      "Epoch 81/100\n",
      "125/125 - 2s - loss: 0.0136 - val_loss: 16.9927 - 2s/epoch - 15ms/step\n",
      "Epoch 82/100\n",
      "125/125 - 2s - loss: 0.0132 - val_loss: 16.9932 - 2s/epoch - 14ms/step\n",
      "Epoch 83/100\n",
      "125/125 - 2s - loss: 0.0132 - val_loss: 16.9924 - 2s/epoch - 15ms/step\n",
      "Epoch 84/100\n",
      "125/125 - 2s - loss: 0.0135 - val_loss: 16.9936 - 2s/epoch - 15ms/step\n",
      "Epoch 85/100\n",
      "125/125 - 2s - loss: 0.0140 - val_loss: 16.9921 - 2s/epoch - 15ms/step\n",
      "Epoch 86/100\n",
      "125/125 - 2s - loss: 0.0144 - val_loss: 16.9931 - 2s/epoch - 15ms/step\n",
      "Epoch 87/100\n",
      "125/125 - 2s - loss: 0.0149 - val_loss: 16.9919 - 2s/epoch - 14ms/step\n",
      "Epoch 88/100\n",
      "125/125 - 2s - loss: 0.0151 - val_loss: 16.9926 - 2s/epoch - 16ms/step\n",
      "Epoch 89/100\n",
      "125/125 - 2s - loss: 0.0151 - val_loss: 16.9922 - 2s/epoch - 15ms/step\n",
      "Epoch 90/100\n",
      "125/125 - 2s - loss: 0.0150 - val_loss: 16.9923 - 2s/epoch - 15ms/step\n",
      "Epoch 91/100\n",
      "125/125 - 2s - loss: 0.0147 - val_loss: 16.9915 - 2s/epoch - 15ms/step\n",
      "Epoch 92/100\n",
      "125/125 - 2s - loss: 0.0143 - val_loss: 16.9926 - 2s/epoch - 16ms/step\n",
      "Epoch 93/100\n",
      "125/125 - 2s - loss: 0.0142 - val_loss: 16.9915 - 2s/epoch - 14ms/step\n",
      "Epoch 94/100\n",
      "125/125 - 2s - loss: 0.0138 - val_loss: 16.9926 - 2s/epoch - 16ms/step\n",
      "Epoch 95/100\n",
      "125/125 - 2s - loss: 0.0136 - val_loss: 16.9916 - 2s/epoch - 14ms/step\n",
      "Epoch 96/100\n",
      "125/125 - 2s - loss: 0.0137 - val_loss: 16.9928 - 2s/epoch - 17ms/step\n",
      "Epoch 97/100\n",
      "125/125 - 2s - loss: 0.0137 - val_loss: 16.9915 - 2s/epoch - 15ms/step\n",
      "Epoch 98/100\n",
      "125/125 - 2s - loss: 0.0139 - val_loss: 16.9927 - 2s/epoch - 14ms/step\n"
     ]
    },
    {
     "name": "stdout",
     "output_type": "stream",
     "text": [
      "Epoch 99/100\n",
      "125/125 - 2s - loss: 0.0141 - val_loss: 16.9913 - 2s/epoch - 14ms/step\n",
      "Epoch 100/100\n",
      "125/125 - 2s - loss: 0.0143 - val_loss: 16.9924 - 2s/epoch - 15ms/step\n"
     ]
    }
   ],
   "source": [
    "batch_size = 128\n",
    "epochs = 100\n",
    "\n",
    "history = model.fit(x = [X_train['USER'], X_train['ITEM']], y = Y_train, batch_size = batch_size, epochs = epochs, verbose = 2, validation_data = ([X_test['USER'], X_test['ITEM']], Y_test))\n"
   ]
  },
  {
   "cell_type": "code",
   "execution_count": 389,
   "id": "d06baa86",
   "metadata": {},
   "outputs": [
    {
     "data": {
      "image/png": "[encoded data removed]",
      "text/plain": [
       "<Figure size 576x288 with 1 Axes>"
      ]
     },
     "metadata": {
      "needs_background": "light"
     },
     "output_type": "display_data"
    }
   ],
   "source": [
    "# Funkcija gubitka tokom treniranja i testiranja\n",
    "training_loss = history.history['loss']\n",
    "test_loss = history.history['val_loss']\n",
    "\n",
    "# Broj epoha\n",
    "epoch_count = range(1, len(training_loss) + 1)\n",
    "\n",
    "# Vizualizacija gubitka kroz epohe\n",
    "plt.figure(figsize = (8,4))\n",
    "plt.plot(epoch_count, training_loss, 'r--')\n",
    "plt.plot(epoch_count, test_loss, 'b-')\n",
    "plt.legend(['Funkcija gubitka na trening skupu', 'Funkcija gubitka na test skupu'])\n",
    "plt.xlabel('Epoha')\n",
    "plt.ylabel('Funkcija gubitka')\n",
    "plt.show()"
   ]
  },
  {
   "cell_type": "code",
   "execution_count": null,
   "id": "a9215e37",
   "metadata": {},
   "outputs": [],
   "source": []
  },
  {
   "cell_type": "code",
   "execution_count": null,
   "id": "55bb15e7",
   "metadata": {},
   "outputs": [],
   "source": []
  },
  {
   "cell_type": "code",
   "execution_count": 419,
   "id": "646e371e",
   "metadata": {},
   "outputs": [
    {
     "name": "stdout",
     "output_type": "stream",
     "text": [
      "Epoch 1/100\n",
      "250/250 - 4s - loss: 19.7355 - val_loss: 19.7916 - 4s/epoch - 16ms/step\n",
      "Epoch 2/100\n",
      "250/250 - 3s - loss: 19.6073 - val_loss: 19.7372 - 3s/epoch - 14ms/step\n",
      "Epoch 3/100\n",
      "250/250 - 4s - loss: 18.9982 - val_loss: 19.5407 - 4s/epoch - 14ms/step\n",
      "Epoch 4/100\n",
      "250/250 - 3s - loss: 17.3864 - val_loss: 19.1739 - 3s/epoch - 14ms/step\n",
      "Epoch 5/100\n",
      "250/250 - 3s - loss: 14.7322 - val_loss: 18.6873 - 3s/epoch - 14ms/step\n",
      "Epoch 6/100\n",
      "250/250 - 3s - loss: 11.5055 - val_loss: 18.1922 - 3s/epoch - 14ms/step\n",
      "Epoch 7/100\n",
      "250/250 - 4s - loss: 8.3205 - val_loss: 17.7723 - 4s/epoch - 14ms/step\n",
      "Epoch 8/100\n",
      "250/250 - 3s - loss: 5.6458 - val_loss: 17.4671 - 3s/epoch - 14ms/step\n",
      "Epoch 9/100\n",
      "250/250 - 3s - loss: 3.6753 - val_loss: 17.2705 - 3s/epoch - 14ms/step\n",
      "Epoch 10/100\n",
      "250/250 - 3s - loss: 2.3593 - val_loss: 17.1544 - 3s/epoch - 14ms/step\n",
      "Epoch 11/100\n",
      "250/250 - 3s - loss: 1.5281 - val_loss: 17.0893 - 3s/epoch - 14ms/step\n",
      "Epoch 12/100\n",
      "250/250 - 4s - loss: 1.0107 - val_loss: 17.0500 - 4s/epoch - 14ms/step\n",
      "Epoch 13/100\n",
      "250/250 - 4s - loss: 0.6846 - val_loss: 17.0273 - 4s/epoch - 14ms/step\n",
      "Epoch 14/100\n",
      "250/250 - 3s - loss: 0.4760 - val_loss: 17.0145 - 3s/epoch - 14ms/step\n",
      "Epoch 15/100\n",
      "250/250 - 4s - loss: 0.3406 - val_loss: 17.0068 - 4s/epoch - 14ms/step\n",
      "Epoch 16/100\n",
      "250/250 - 3s - loss: 0.2507 - val_loss: 17.0034 - 3s/epoch - 14ms/step\n",
      "Epoch 17/100\n",
      "250/250 - 3s - loss: 0.1889 - val_loss: 17.0010 - 3s/epoch - 14ms/step\n",
      "Epoch 18/100\n",
      "250/250 - 3s - loss: 0.1449 - val_loss: 17.0009 - 3s/epoch - 14ms/step\n",
      "Epoch 19/100\n",
      "250/250 - 4s - loss: 0.1125 - val_loss: 16.9998 - 4s/epoch - 14ms/step\n",
      "Epoch 20/100\n",
      "250/250 - 4s - loss: 0.0879 - val_loss: 17.0001 - 4s/epoch - 14ms/step\n",
      "Epoch 21/100\n",
      "250/250 - 4s - loss: 0.0691 - val_loss: 16.9989 - 4s/epoch - 14ms/step\n",
      "Epoch 22/100\n",
      "250/250 - 4s - loss: 0.0548 - val_loss: 16.9987 - 4s/epoch - 14ms/step\n",
      "Epoch 23/100\n",
      "250/250 - 4s - loss: 0.0441 - val_loss: 16.9980 - 4s/epoch - 14ms/step\n",
      "Epoch 24/100\n",
      "250/250 - 4s - loss: 0.0362 - val_loss: 16.9984 - 4s/epoch - 14ms/step\n",
      "Epoch 25/100\n",
      "250/250 - 3s - loss: 0.0303 - val_loss: 16.9977 - 3s/epoch - 14ms/step\n",
      "Epoch 26/100\n",
      "250/250 - 4s - loss: 0.0258 - val_loss: 16.9986 - 4s/epoch - 14ms/step\n",
      "Epoch 27/100\n",
      "250/250 - 3s - loss: 0.0229 - val_loss: 16.9980 - 3s/epoch - 14ms/step\n",
      "Epoch 28/100\n",
      "250/250 - 3s - loss: 0.0220 - val_loss: 16.9977 - 3s/epoch - 14ms/step\n",
      "Epoch 29/100\n",
      "250/250 - 4s - loss: 0.0235 - val_loss: 16.9988 - 4s/epoch - 14ms/step\n",
      "Epoch 30/100\n",
      "250/250 - 3s - loss: 0.0265 - val_loss: 16.9976 - 3s/epoch - 14ms/step\n",
      "Epoch 31/100\n",
      "250/250 - 4s - loss: 0.0341 - val_loss: 16.9992 - 4s/epoch - 14ms/step\n",
      "Epoch 32/100\n",
      "250/250 - 3s - loss: 0.0456 - val_loss: 16.9977 - 3s/epoch - 14ms/step\n",
      "Epoch 33/100\n",
      "250/250 - 3s - loss: 0.0486 - val_loss: 17.0002 - 3s/epoch - 14ms/step\n",
      "Epoch 34/100\n",
      "250/250 - 4s - loss: 0.0424 - val_loss: 16.9989 - 4s/epoch - 14ms/step\n",
      "Epoch 35/100\n",
      "250/250 - 4s - loss: 0.0346 - val_loss: 17.0007 - 4s/epoch - 14ms/step\n",
      "Epoch 36/100\n",
      "250/250 - 3s - loss: 0.0292 - val_loss: 17.0008 - 3s/epoch - 14ms/step\n",
      "Epoch 37/100\n",
      "250/250 - 4s - loss: 0.0270 - val_loss: 16.9994 - 4s/epoch - 14ms/step\n",
      "Epoch 38/100\n",
      "250/250 - 4s - loss: 0.0265 - val_loss: 16.9976 - 4s/epoch - 14ms/step\n",
      "Epoch 39/100\n",
      "250/250 - 4s - loss: 0.0275 - val_loss: 16.9978 - 4s/epoch - 14ms/step\n",
      "Epoch 40/100\n",
      "250/250 - 4s - loss: 0.0304 - val_loss: 16.9957 - 4s/epoch - 14ms/step\n",
      "Epoch 41/100\n",
      "250/250 - 3s - loss: 0.0338 - val_loss: 16.9977 - 3s/epoch - 14ms/step\n",
      "Epoch 42/100\n",
      "250/250 - 3s - loss: 0.0354 - val_loss: 16.9955 - 3s/epoch - 14ms/step\n",
      "Epoch 43/100\n",
      "250/250 - 4s - loss: 0.0347 - val_loss: 16.9973 - 4s/epoch - 14ms/step\n",
      "Epoch 44/100\n",
      "250/250 - 3s - loss: 0.0327 - val_loss: 16.9962 - 3s/epoch - 14ms/step\n",
      "Epoch 45/100\n",
      "250/250 - 4s - loss: 0.0305 - val_loss: 16.9977 - 4s/epoch - 14ms/step\n",
      "Epoch 46/100\n",
      "250/250 - 4s - loss: 0.0291 - val_loss: 16.9966 - 4s/epoch - 14ms/step\n",
      "Epoch 47/100\n",
      "250/250 - 3s - loss: 0.0287 - val_loss: 16.9972 - 3s/epoch - 14ms/step\n",
      "Epoch 48/100\n",
      "250/250 - 3s - loss: 0.0289 - val_loss: 16.9953 - 3s/epoch - 14ms/step\n",
      "Epoch 49/100\n",
      "250/250 - 4s - loss: 0.0300 - val_loss: 16.9965 - 4s/epoch - 14ms/step\n",
      "Epoch 50/100\n",
      "250/250 - 4s - loss: 0.0312 - val_loss: 16.9949 - 4s/epoch - 14ms/step\n",
      "Epoch 51/100\n",
      "250/250 - 3s - loss: 0.0319 - val_loss: 16.9959 - 3s/epoch - 14ms/step\n",
      "Epoch 52/100\n",
      "250/250 - 3s - loss: 0.0315 - val_loss: 16.9944 - 3s/epoch - 14ms/step\n",
      "Epoch 53/100\n",
      "250/250 - 3s - loss: 0.0308 - val_loss: 16.9959 - 3s/epoch - 14ms/step\n",
      "Epoch 54/100\n",
      "250/250 - 3s - loss: 0.0299 - val_loss: 16.9951 - 3s/epoch - 14ms/step\n",
      "Epoch 55/100\n",
      "250/250 - 3s - loss: 0.0292 - val_loss: 16.9947 - 3s/epoch - 14ms/step\n",
      "Epoch 56/100\n",
      "250/250 - 4s - loss: 0.0289 - val_loss: 16.9948 - 4s/epoch - 14ms/step\n",
      "Epoch 57/100\n",
      "250/250 - 4s - loss: 0.0290 - val_loss: 16.9948 - 4s/epoch - 14ms/step\n",
      "Epoch 58/100\n",
      "250/250 - 3s - loss: 0.0294 - val_loss: 16.9938 - 3s/epoch - 14ms/step\n",
      "Epoch 59/100\n",
      "250/250 - 4s - loss: 0.0297 - val_loss: 16.9953 - 4s/epoch - 14ms/step\n",
      "Epoch 60/100\n",
      "250/250 - 3s - loss: 0.0299 - val_loss: 16.9933 - 3s/epoch - 14ms/step\n",
      "Epoch 61/100\n",
      "250/250 - 4s - loss: 0.0299 - val_loss: 16.9943 - 4s/epoch - 14ms/step\n",
      "Epoch 62/100\n",
      "250/250 - 3s - loss: 0.0295 - val_loss: 16.9932 - 3s/epoch - 14ms/step\n",
      "Epoch 63/100\n",
      "250/250 - 4s - loss: 0.0291 - val_loss: 16.9942 - 4s/epoch - 14ms/step\n",
      "Epoch 64/100\n",
      "250/250 - 3s - loss: 0.0286 - val_loss: 16.9925 - 3s/epoch - 14ms/step\n",
      "Epoch 65/100\n",
      "250/250 - 3s - loss: 0.0285 - val_loss: 16.9938 - 3s/epoch - 14ms/step\n",
      "Epoch 66/100\n",
      "250/250 - 4s - loss: 0.0283 - val_loss: 16.9934 - 4s/epoch - 14ms/step\n",
      "Epoch 67/100\n",
      "250/250 - 3s - loss: 0.0284 - val_loss: 16.9929 - 3s/epoch - 14ms/step\n",
      "Epoch 68/100\n",
      "250/250 - 3s - loss: 0.0286 - val_loss: 16.9920 - 3s/epoch - 14ms/step\n",
      "Epoch 69/100\n",
      "250/250 - 3s - loss: 0.0285 - val_loss: 16.9932 - 3s/epoch - 14ms/step\n",
      "Epoch 70/100\n",
      "250/250 - 3s - loss: 0.0284 - val_loss: 16.9920 - 3s/epoch - 14ms/step\n",
      "Epoch 71/100\n",
      "250/250 - 3s - loss: 0.0283 - val_loss: 16.9927 - 3s/epoch - 14ms/step\n",
      "Epoch 72/100\n",
      "250/250 - 3s - loss: 0.0282 - val_loss: 16.9917 - 3s/epoch - 14ms/step\n",
      "Epoch 73/100\n",
      "250/250 - 3s - loss: 0.0280 - val_loss: 16.9926 - 3s/epoch - 14ms/step\n",
      "Epoch 74/100\n",
      "250/250 - 3s - loss: 0.0279 - val_loss: 16.9915 - 3s/epoch - 14ms/step\n",
      "Epoch 75/100\n",
      "250/250 - 4s - loss: 0.0276 - val_loss: 16.9924 - 4s/epoch - 14ms/step\n",
      "Epoch 76/100\n",
      "250/250 - 4s - loss: 0.0277 - val_loss: 16.9909 - 4s/epoch - 14ms/step\n",
      "Epoch 77/100\n",
      "250/250 - 3s - loss: 0.0275 - val_loss: 16.9921 - 3s/epoch - 14ms/step\n",
      "Epoch 78/100\n",
      "250/250 - 3s - loss: 0.0275 - val_loss: 16.9908 - 3s/epoch - 14ms/step\n",
      "Epoch 79/100\n",
      "250/250 - 3s - loss: 0.0275 - val_loss: 16.9912 - 3s/epoch - 14ms/step\n",
      "Epoch 80/100\n",
      "250/250 - 3s - loss: 0.0273 - val_loss: 16.9907 - 3s/epoch - 14ms/step\n",
      "Epoch 81/100\n",
      "250/250 - 3s - loss: 0.0272 - val_loss: 16.9915 - 3s/epoch - 14ms/step\n",
      "Epoch 82/100\n",
      "250/250 - 3s - loss: 0.0270 - val_loss: 16.9902 - 3s/epoch - 14ms/step\n",
      "Epoch 83/100\n",
      "250/250 - 3s - loss: 0.0268 - val_loss: 16.9911 - 3s/epoch - 14ms/step\n",
      "Epoch 84/100\n",
      "250/250 - 4s - loss: 0.0267 - val_loss: 16.9900 - 4s/epoch - 14ms/step\n",
      "Epoch 85/100\n",
      "250/250 - 3s - loss: 0.0268 - val_loss: 16.9914 - 3s/epoch - 14ms/step\n",
      "Epoch 86/100\n",
      "250/250 - 3s - loss: 0.0266 - val_loss: 16.9897 - 3s/epoch - 14ms/step\n",
      "Epoch 87/100\n",
      "250/250 - 3s - loss: 0.0266 - val_loss: 16.9907 - 3s/epoch - 14ms/step\n",
      "Epoch 88/100\n",
      "250/250 - 4s - loss: 0.0265 - val_loss: 16.9893 - 4s/epoch - 14ms/step\n",
      "Epoch 89/100\n",
      "250/250 - 4s - loss: 0.0264 - val_loss: 16.9897 - 4s/epoch - 14ms/step\n",
      "Epoch 90/100\n",
      "250/250 - 4s - loss: 0.0263 - val_loss: 16.9891 - 4s/epoch - 14ms/step\n",
      "Epoch 91/100\n",
      "250/250 - 4s - loss: 0.0263 - val_loss: 16.9895 - 4s/epoch - 14ms/step\n",
      "Epoch 92/100\n",
      "250/250 - 3s - loss: 0.0261 - val_loss: 16.9889 - 3s/epoch - 14ms/step\n",
      "Epoch 93/100\n",
      "250/250 - 3s - loss: 0.0261 - val_loss: 16.9895 - 3s/epoch - 14ms/step\n",
      "Epoch 94/100\n",
      "250/250 - 4s - loss: 0.0260 - val_loss: 16.9886 - 4s/epoch - 14ms/step\n",
      "Epoch 95/100\n",
      "250/250 - 4s - loss: 0.0257 - val_loss: 16.9893 - 4s/epoch - 14ms/step\n",
      "Epoch 96/100\n",
      "250/250 - 3s - loss: 0.0257 - val_loss: 16.9885 - 3s/epoch - 14ms/step\n",
      "Epoch 97/100\n",
      "250/250 - 3s - loss: 0.0256 - val_loss: 16.9892 - 3s/epoch - 14ms/step\n",
      "Epoch 98/100\n",
      "250/250 - 3s - loss: 0.0255 - val_loss: 16.9881 - 3s/epoch - 14ms/step\n"
     ]
    },
    {
     "name": "stdout",
     "output_type": "stream",
     "text": [
      "Epoch 99/100\n",
      "250/250 - 3s - loss: 0.0255 - val_loss: 16.9891 - 3s/epoch - 14ms/step\n",
      "Epoch 100/100\n",
      "250/250 - 3s - loss: 0.0255 - val_loss: 16.9879 - 3s/epoch - 14ms/step\n"
     ]
    }
   ],
   "source": [
    "batch_size = 64\n",
    "epochs = 100\n",
    "\n",
    "history = model.fit(x = [X_train['USER'], X_train['ITEM']], y = Y_train, batch_size = batch_size, epochs = epochs, verbose = 2, validation_data = ([X_test['USER'], X_test['ITEM']], Y_test))\n"
   ]
  },
  {
   "cell_type": "code",
   "execution_count": 420,
   "id": "9de69e58",
   "metadata": {},
   "outputs": [
    {
     "data": {
      "image/png": "[encoded data removed]",
      "text/plain": [
       "<Figure size 576x288 with 1 Axes>"
      ]
     },
     "metadata": {
      "needs_background": "light"
     },
     "output_type": "display_data"
    }
   ],
   "source": [
    "# Funkcija gubitka tokom treniranja i testiranja\n",
    "training_loss = history.history['loss']\n",
    "test_loss = history.history['val_loss']\n",
    "\n",
    "# Broj epoha\n",
    "epoch_count = range(1, len(training_loss) + 1)\n",
    "\n",
    "# Vizualizacija gubitka kroz epohe\n",
    "plt.figure(figsize = (8,4))\n",
    "plt.plot(epoch_count, training_loss, 'r--')\n",
    "plt.plot(epoch_count, test_loss, 'b-')\n",
    "plt.legend(['Funkcija gubitka na trening skupu', 'Funkcija gubitka na test skupu'])\n",
    "plt.xlabel('Epoha')\n",
    "plt.ylabel('Funkcija gubitka')\n",
    "plt.show()"
   ]
  },
  {
   "cell_type": "code",
   "execution_count": null,
   "id": "1e699c08",
   "metadata": {},
   "outputs": [],
   "source": []
  },
  {
   "cell_type": "markdown",
   "id": "01e00208",
   "metadata": {},
   "source": [
    "Najmanja vrednost funkcije gubitka na test skupu je 17.5 što se postiže u većini slučajeva."
   ]
  },
  {
   "cell_type": "code",
   "execution_count": null,
   "id": "315d9dbb",
   "metadata": {},
   "outputs": [],
   "source": []
  },
  {
   "cell_type": "code",
   "execution_count": null,
   "id": "b41dd61b",
   "metadata": {},
   "outputs": [],
   "source": []
  }
 ],
 "metadata": {
  "kernelspec": {
   "display_name": "Python 3 (ipykernel)",
   "language": "python",
   "name": "python3"
  },
  "language_info": {
   "codemirror_mode": {
    "name": "ipython",
    "version": 3
   },
   "file_extension": ".py",
   "mimetype": "text/x-python",
   "name": "python",
   "nbconvert_exporter": "python",
   "pygments_lexer": "ipython3",
   "version": "3.8.10"
  }
 },
 "nbformat": 4,
 "nbformat_minor": 5
}
