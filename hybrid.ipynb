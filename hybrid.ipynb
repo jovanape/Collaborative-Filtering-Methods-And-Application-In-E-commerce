{
 "cells": [
  {
   "cell_type": "markdown",
   "id": "09f58c7b",
   "metadata": {},
   "source": [
    "### Učitavanje biblioteka"
   ]
  },
  {
   "cell_type": "code",
   "execution_count": 65,
   "id": "91585e23",
   "metadata": {},
   "outputs": [],
   "source": [
    "import numpy as np\n",
    "import pandas as pd \n",
    "import surprise as sp\n",
    "from sklearn.preprocessing import LabelEncoder"
   ]
  },
  {
   "cell_type": "markdown",
   "id": "ca2dbb68",
   "metadata": {},
   "source": [
    "### Učitavanje skupa podataka i pretprocesiranje"
   ]
  },
  {
   "cell_type": "code",
   "execution_count": 66,
   "id": "23f54f65",
   "metadata": {},
   "outputs": [
    {
     "name": "stderr",
     "output_type": "stream",
     "text": [
      "/tmp/ipykernel_22468/837364138.py:4: FutureWarning: The error_bad_lines argument has been deprecated and will be removed in a future version. Use on_bad_lines in the future.\n",
      "\n",
      "\n",
      "  df = pd.read_csv(f'{filename}.csv',sep=',',error_bad_lines=False, warn_bad_lines=False, encoding='latin-1')\n",
      "/tmp/ipykernel_22468/837364138.py:4: FutureWarning: The warn_bad_lines argument has been deprecated and will be removed in a future version. Use on_bad_lines in the future.\n",
      "\n",
      "\n",
      "  df = pd.read_csv(f'{filename}.csv',sep=',',error_bad_lines=False, warn_bad_lines=False, encoding='latin-1')\n",
      "/tmp/ipykernel_22468/837364138.py:4: DtypeWarning: Columns (149,150,151,152,153,154,155,156,157,158,159,160,161,230,231,232,242,243,244,247,248,249,250,251,252,253,254,255,256,257,258,259,260,261,262,263,264,265,266,267,268,269,270,271,272,275,276,277,278,279,280,281,282,283,284,285,286,287,288,289,290,291,292,293,294,295,296,297,298,299,300,301,302,303,304,305,306,307,308,309,310,311,312,313,314,315,316,317,318,319,320,321,322,323,324,325,326,327,328,329,330,331,332,333,334,335,336,337,338,339,340,341,342,343,344,345,346,347,348,349,350,351,352,353,354,355,356,358,360,361,362,363,364,365,366,367,368,369,370,371,373,374,375,376,377,378,379,380,381,382,383,384,386,392,393,394,395,396,397,398,399,400,401,402,403,404,405,406,407,408,409,410,411,412,413,414,415,416,417,418,419,420,421,422,423,424,426,427,428,429,430,431,432,433,435,436,437,438,440,441,442,443,444,445,447,448) have mixed types. Specify dtype option on import or set low_memory=False.\n",
      "  df = pd.read_csv(f'{filename}.csv',sep=',',error_bad_lines=False, warn_bad_lines=False, encoding='latin-1')\n",
      "/tmp/ipykernel_22468/837364138.py:4: FutureWarning: The error_bad_lines argument has been deprecated and will be removed in a future version. Use on_bad_lines in the future.\n",
      "\n",
      "\n",
      "  df = pd.read_csv(f'{filename}.csv',sep=',',error_bad_lines=False, warn_bad_lines=False, encoding='latin-1')\n",
      "/tmp/ipykernel_22468/837364138.py:4: FutureWarning: The warn_bad_lines argument has been deprecated and will be removed in a future version. Use on_bad_lines in the future.\n",
      "\n",
      "\n",
      "  df = pd.read_csv(f'{filename}.csv',sep=',',error_bad_lines=False, warn_bad_lines=False, encoding='latin-1')\n"
     ]
    }
   ],
   "source": [
    "# Učitavanje skupa podataka\n",
    "\n",
    "def loaddata(filename):\n",
    "    df = pd.read_csv(f'{filename}.csv',sep=',',error_bad_lines=False, warn_bad_lines=False, encoding='latin-1')\n",
    "    return df\n",
    "\n",
    "amazon_data = loaddata('skup_amazon/fashionMeta')\n",
    "data = loaddata('skup_amazon/fashion')"
   ]
  },
  {
   "cell_type": "code",
   "execution_count": 67,
   "id": "9ba5cc5d",
   "metadata": {},
   "outputs": [
    {
     "data": {
      "text/html": [
       "<div>\n",
       "<style scoped>\n",
       "    .dataframe tbody tr th:only-of-type {\n",
       "        vertical-align: middle;\n",
       "    }\n",
       "\n",
       "    .dataframe tbody tr th {\n",
       "        vertical-align: top;\n",
       "    }\n",
       "\n",
       "    .dataframe thead th {\n",
       "        text-align: right;\n",
       "    }\n",
       "</style>\n",
       "<table border=\"1\" class=\"dataframe\">\n",
       "  <thead>\n",
       "    <tr style=\"text-align: right;\">\n",
       "      <th></th>\n",
       "      <th>title</th>\n",
       "      <th>brand</th>\n",
       "      <th>feature/0</th>\n",
       "      <th>feature/1</th>\n",
       "      <th>rank</th>\n",
       "      <th>date</th>\n",
       "      <th>asin</th>\n",
       "      <th>imageURL/0</th>\n",
       "      <th>imageURLHighRes/0</th>\n",
       "      <th>imageURL/1</th>\n",
       "      <th>...</th>\n",
       "      <th>similar_item/4/features/Item Weight</th>\n",
       "      <th>similar_item/4/features/Size</th>\n",
       "      <th>similar_item/4/features/character</th>\n",
       "      <th>similar_item/5/features/Color</th>\n",
       "      <th>similar_item/5/features/Item Dimensions</th>\n",
       "      <th>similar_item/5/features/Item Weight</th>\n",
       "      <th>similar_item/5/features/Size</th>\n",
       "      <th>similar_item/5/features/character</th>\n",
       "      <th>tech1/Folding</th>\n",
       "      <th>tech1/Item Dimensions  L x W x H</th>\n",
       "    </tr>\n",
       "  </thead>\n",
       "  <tbody>\n",
       "    <tr>\n",
       "      <th>0</th>\n",
       "      <td>Slime Time Fall Fest [With CDROM and Collector...</td>\n",
       "      <td>Group Publishing (CO)</td>\n",
       "      <td>Product Dimensions:\\n                    \\n8.7...</td>\n",
       "      <td>Shipping Weight:\\n                    \\n2.4 po...</td>\n",
       "      <td>13,052,976inClothing,Shoesamp;Jewelry(</td>\n",
       "      <td>8.70 inches</td>\n",
       "      <td>0764443682</td>\n",
       "      <td>https://images-na.ssl-images-amazon.com/images...</td>\n",
       "      <td>https://images-na.ssl-images-amazon.com/images...</td>\n",
       "      <td>NaN</td>\n",
       "      <td>...</td>\n",
       "      <td>NaN</td>\n",
       "      <td>NaN</td>\n",
       "      <td>NaN</td>\n",
       "      <td>NaN</td>\n",
       "      <td>NaN</td>\n",
       "      <td>NaN</td>\n",
       "      <td>NaN</td>\n",
       "      <td>NaN</td>\n",
       "      <td>NaN</td>\n",
       "      <td>NaN</td>\n",
       "    </tr>\n",
       "    <tr>\n",
       "      <th>1</th>\n",
       "      <td>XCC Qi promise new spider snake preparing men'...</td>\n",
       "      <td>NaN</td>\n",
       "      <td>NaN</td>\n",
       "      <td>NaN</td>\n",
       "      <td>11,654,581inClothing,Shoesamp;Jewelry(</td>\n",
       "      <td>5 star</td>\n",
       "      <td>1291691480</td>\n",
       "      <td>https://images-na.ssl-images-amazon.com/images...</td>\n",
       "      <td>https://images-na.ssl-images-amazon.com/images...</td>\n",
       "      <td>https://images-na.ssl-images-amazon.com/images...</td>\n",
       "      <td>...</td>\n",
       "      <td>NaN</td>\n",
       "      <td>NaN</td>\n",
       "      <td>NaN</td>\n",
       "      <td>NaN</td>\n",
       "      <td>NaN</td>\n",
       "      <td>NaN</td>\n",
       "      <td>NaN</td>\n",
       "      <td>NaN</td>\n",
       "      <td>NaN</td>\n",
       "      <td>NaN</td>\n",
       "    </tr>\n",
       "  </tbody>\n",
       "</table>\n",
       "<p>2 rows × 449 columns</p>\n",
       "</div>"
      ],
      "text/plain": [
       "                                               title                  brand  \\\n",
       "0  Slime Time Fall Fest [With CDROM and Collector...  Group Publishing (CO)   \n",
       "1  XCC Qi promise new spider snake preparing men'...                    NaN   \n",
       "\n",
       "                                           feature/0  \\\n",
       "0  Product Dimensions:\\n                    \\n8.7...   \n",
       "1                                                NaN   \n",
       "\n",
       "                                           feature/1  \\\n",
       "0  Shipping Weight:\\n                    \\n2.4 po...   \n",
       "1                                                NaN   \n",
       "\n",
       "                                     rank         date        asin  \\\n",
       "0  13,052,976inClothing,Shoesamp;Jewelry(  8.70 inches  0764443682   \n",
       "1  11,654,581inClothing,Shoesamp;Jewelry(       5 star  1291691480   \n",
       "\n",
       "                                          imageURL/0  \\\n",
       "0  https://images-na.ssl-images-amazon.com/images...   \n",
       "1  https://images-na.ssl-images-amazon.com/images...   \n",
       "\n",
       "                                   imageURLHighRes/0  \\\n",
       "0  https://images-na.ssl-images-amazon.com/images...   \n",
       "1  https://images-na.ssl-images-amazon.com/images...   \n",
       "\n",
       "                                          imageURL/1  ...  \\\n",
       "0                                                NaN  ...   \n",
       "1  https://images-na.ssl-images-amazon.com/images...  ...   \n",
       "\n",
       "  similar_item/4/features/Item Weight similar_item/4/features/Size  \\\n",
       "0                                 NaN                          NaN   \n",
       "1                                 NaN                          NaN   \n",
       "\n",
       "  similar_item/4/features/character similar_item/5/features/Color  \\\n",
       "0                               NaN                           NaN   \n",
       "1                               NaN                           NaN   \n",
       "\n",
       "  similar_item/5/features/Item Dimensions similar_item/5/features/Item Weight  \\\n",
       "0                                     NaN                                 NaN   \n",
       "1                                     NaN                                 NaN   \n",
       "\n",
       "  similar_item/5/features/Size similar_item/5/features/character  \\\n",
       "0                          NaN                               NaN   \n",
       "1                          NaN                               NaN   \n",
       "\n",
       "  tech1/Folding tech1/Item Dimensions  L x W x H  \n",
       "0           NaN                              NaN  \n",
       "1           NaN                              NaN  \n",
       "\n",
       "[2 rows x 449 columns]"
      ]
     },
     "execution_count": 67,
     "metadata": {},
     "output_type": "execute_result"
    }
   ],
   "source": [
    "amazon_data.head(2)"
   ]
  },
  {
   "cell_type": "code",
   "execution_count": 68,
   "id": "32da7bd2",
   "metadata": {},
   "outputs": [
    {
     "data": {
      "text/html": [
       "<div>\n",
       "<style scoped>\n",
       "    .dataframe tbody tr th:only-of-type {\n",
       "        vertical-align: middle;\n",
       "    }\n",
       "\n",
       "    .dataframe tbody tr th {\n",
       "        vertical-align: top;\n",
       "    }\n",
       "\n",
       "    .dataframe thead th {\n",
       "        text-align: right;\n",
       "    }\n",
       "</style>\n",
       "<table border=\"1\" class=\"dataframe\">\n",
       "  <thead>\n",
       "    <tr style=\"text-align: right;\">\n",
       "      <th></th>\n",
       "      <th>asin</th>\n",
       "      <th>title</th>\n",
       "      <th>brand</th>\n",
       "      <th>dimensions</th>\n",
       "      <th>weight</th>\n",
       "    </tr>\n",
       "  </thead>\n",
       "  <tbody>\n",
       "    <tr>\n",
       "      <th>0</th>\n",
       "      <td>0764443682</td>\n",
       "      <td>Slime Time Fall Fest [With CDROM and Collector...</td>\n",
       "      <td>Group Publishing (CO)</td>\n",
       "      <td>Product Dimensions:\\n                    \\n8.7...</td>\n",
       "      <td>Shipping Weight:\\n                    \\n2.4 po...</td>\n",
       "    </tr>\n",
       "    <tr>\n",
       "      <th>2</th>\n",
       "      <td>1940280001</td>\n",
       "      <td>Magical Things I Really Do Do Too!</td>\n",
       "      <td>Christopher Manos</td>\n",
       "      <td>Package Dimensions:\\n                    \\n8.5...</td>\n",
       "      <td>Shipping Weight:\\n                    \\n6.1 ou...</td>\n",
       "    </tr>\n",
       "  </tbody>\n",
       "</table>\n",
       "</div>"
      ],
      "text/plain": [
       "         asin                                              title  \\\n",
       "0  0764443682  Slime Time Fall Fest [With CDROM and Collector...   \n",
       "2  1940280001                 Magical Things I Really Do Do Too!   \n",
       "\n",
       "                   brand                                         dimensions  \\\n",
       "0  Group Publishing (CO)  Product Dimensions:\\n                    \\n8.7...   \n",
       "2      Christopher Manos  Package Dimensions:\\n                    \\n8.5...   \n",
       "\n",
       "                                              weight  \n",
       "0  Shipping Weight:\\n                    \\n2.4 po...  \n",
       "2  Shipping Weight:\\n                    \\n6.1 ou...  "
      ]
     },
     "execution_count": 68,
     "metadata": {},
     "output_type": "execute_result"
    }
   ],
   "source": [
    "# Izdvajanje atributa\n",
    "filtered_amazon_data = amazon_data[['asin','title', 'brand', 'feature/0', 'feature/1']]\n",
    "\n",
    "# Uklanjanje NaN vrednosti za sve atribute\n",
    "cleaned_amazon_data = filtered_amazon_data.rename(columns={'feature/0': 'dimensions', 'feature/1' : 'weight'}).dropna()\n",
    "\n",
    "# Uklanjanje duplikata\n",
    "cleaned_amazon_data.drop_duplicates(inplace=True)\n",
    "cleaned_amazon_data\n",
    "\n",
    "cleaned_amazon_data.head(2)"
   ]
  },
  {
   "cell_type": "code",
   "execution_count": 69,
   "id": "b2f65b33",
   "metadata": {},
   "outputs": [
    {
     "data": {
      "text/html": [
       "<div>\n",
       "<style scoped>\n",
       "    .dataframe tbody tr th:only-of-type {\n",
       "        vertical-align: middle;\n",
       "    }\n",
       "\n",
       "    .dataframe tbody tr th {\n",
       "        vertical-align: top;\n",
       "    }\n",
       "\n",
       "    .dataframe thead th {\n",
       "        text-align: right;\n",
       "    }\n",
       "</style>\n",
       "<table border=\"1\" class=\"dataframe\">\n",
       "  <thead>\n",
       "    <tr style=\"text-align: right;\">\n",
       "      <th></th>\n",
       "      <th>asin</th>\n",
       "      <th>title</th>\n",
       "      <th>brand</th>\n",
       "      <th>dimensions</th>\n",
       "      <th>weight</th>\n",
       "      <th>itemID</th>\n",
       "    </tr>\n",
       "  </thead>\n",
       "  <tbody>\n",
       "    <tr>\n",
       "      <th>0</th>\n",
       "      <td>0764443682</td>\n",
       "      <td>Slime Time Fall Fest [With CDROM and Collector...</td>\n",
       "      <td>Group Publishing (CO)</td>\n",
       "      <td>Product Dimensions:\\n                    \\n8.7...</td>\n",
       "      <td>Shipping Weight:\\n                    \\n2.4 po...</td>\n",
       "      <td>0</td>\n",
       "    </tr>\n",
       "    <tr>\n",
       "      <th>2</th>\n",
       "      <td>1940280001</td>\n",
       "      <td>Magical Things I Really Do Do Too!</td>\n",
       "      <td>Christopher Manos</td>\n",
       "      <td>Package Dimensions:\\n                    \\n8.5...</td>\n",
       "      <td>Shipping Weight:\\n                    \\n6.1 ou...</td>\n",
       "      <td>1</td>\n",
       "    </tr>\n",
       "  </tbody>\n",
       "</table>\n",
       "</div>"
      ],
      "text/plain": [
       "         asin                                              title  \\\n",
       "0  0764443682  Slime Time Fall Fest [With CDROM and Collector...   \n",
       "2  1940280001                 Magical Things I Really Do Do Too!   \n",
       "\n",
       "                   brand                                         dimensions  \\\n",
       "0  Group Publishing (CO)  Product Dimensions:\\n                    \\n8.7...   \n",
       "2      Christopher Manos  Package Dimensions:\\n                    \\n8.5...   \n",
       "\n",
       "                                              weight  itemID  \n",
       "0  Shipping Weight:\\n                    \\n2.4 po...       0  \n",
       "2  Shipping Weight:\\n                    \\n6.1 ou...       1  "
      ]
     },
     "execution_count": 69,
     "metadata": {},
     "output_type": "execute_result"
    }
   ],
   "source": [
    "encoded_amazon_data = cleaned_amazon_data.copy()\n",
    "\n",
    "item_encoder = LabelEncoder()\n",
    "item_encoder.fit(encoded_amazon_data['asin'].values)\n",
    "n_items = len(item_encoder.classes_)\n",
    "\n",
    "encoded_amazon_data[\"itemID\"] = item_encoder.transform(encoded_amazon_data['asin'])\n",
    "\n",
    "encoded_amazon_data.head(2)"
   ]
  },
  {
   "cell_type": "code",
   "execution_count": 70,
   "id": "79504a33",
   "metadata": {},
   "outputs": [
    {
     "data": {
      "text/html": [
       "<div>\n",
       "<style scoped>\n",
       "    .dataframe tbody tr th:only-of-type {\n",
       "        vertical-align: middle;\n",
       "    }\n",
       "\n",
       "    .dataframe tbody tr th {\n",
       "        vertical-align: top;\n",
       "    }\n",
       "\n",
       "    .dataframe thead th {\n",
       "        text-align: right;\n",
       "    }\n",
       "</style>\n",
       "<table border=\"1\" class=\"dataframe\">\n",
       "  <thead>\n",
       "    <tr style=\"text-align: right;\">\n",
       "      <th></th>\n",
       "      <th>asin</th>\n",
       "      <th>title</th>\n",
       "      <th>brand</th>\n",
       "      <th>dimensions</th>\n",
       "      <th>weight</th>\n",
       "      <th>itemID</th>\n",
       "      <th>id</th>\n",
       "    </tr>\n",
       "  </thead>\n",
       "  <tbody>\n",
       "    <tr>\n",
       "      <th>0</th>\n",
       "      <td>0764443682</td>\n",
       "      <td>Slime Time Fall Fest [With CDROM and Collector...</td>\n",
       "      <td>Group Publishing (CO)</td>\n",
       "      <td>Product Dimensions:\\n                    \\n8.7...</td>\n",
       "      <td>Shipping Weight:\\n                    \\n2.4 po...</td>\n",
       "      <td>0</td>\n",
       "      <td>1</td>\n",
       "    </tr>\n",
       "    <tr>\n",
       "      <th>2</th>\n",
       "      <td>1940280001</td>\n",
       "      <td>Magical Things I Really Do Do Too!</td>\n",
       "      <td>Christopher Manos</td>\n",
       "      <td>Package Dimensions:\\n                    \\n8.5...</td>\n",
       "      <td>Shipping Weight:\\n                    \\n6.1 ou...</td>\n",
       "      <td>1</td>\n",
       "      <td>2</td>\n",
       "    </tr>\n",
       "  </tbody>\n",
       "</table>\n",
       "</div>"
      ],
      "text/plain": [
       "         asin                                              title  \\\n",
       "0  0764443682  Slime Time Fall Fest [With CDROM and Collector...   \n",
       "2  1940280001                 Magical Things I Really Do Do Too!   \n",
       "\n",
       "                   brand                                         dimensions  \\\n",
       "0  Group Publishing (CO)  Product Dimensions:\\n                    \\n8.7...   \n",
       "2      Christopher Manos  Package Dimensions:\\n                    \\n8.5...   \n",
       "\n",
       "                                              weight  itemID  id  \n",
       "0  Shipping Weight:\\n                    \\n2.4 po...       0   1  \n",
       "2  Shipping Weight:\\n                    \\n6.1 ou...       1   2  "
      ]
     },
     "execution_count": 70,
     "metadata": {},
     "output_type": "execute_result"
    }
   ],
   "source": [
    "items_all = encoded_amazon_data.assign(id=pd.Series(range(1, encoded_amazon_data.shape[0]+1), dtype=int, index=encoded_amazon_data.index))\n",
    "items_all.head(2)"
   ]
  },
  {
   "cell_type": "code",
   "execution_count": null,
   "id": "403c89ca",
   "metadata": {},
   "outputs": [],
   "source": []
  },
  {
   "cell_type": "code",
   "execution_count": null,
   "id": "280f3d9e",
   "metadata": {},
   "outputs": [],
   "source": []
  },
  {
   "cell_type": "code",
   "execution_count": 71,
   "id": "8f7b225d",
   "metadata": {},
   "outputs": [
    {
     "data": {
      "text/html": [
       "<div>\n",
       "<style scoped>\n",
       "    .dataframe tbody tr th:only-of-type {\n",
       "        vertical-align: middle;\n",
       "    }\n",
       "\n",
       "    .dataframe tbody tr th {\n",
       "        vertical-align: top;\n",
       "    }\n",
       "\n",
       "    .dataframe thead th {\n",
       "        text-align: right;\n",
       "    }\n",
       "</style>\n",
       "<table border=\"1\" class=\"dataframe\">\n",
       "  <thead>\n",
       "    <tr style=\"text-align: right;\">\n",
       "      <th></th>\n",
       "      <th>overall</th>\n",
       "      <th>verified</th>\n",
       "      <th>reviewTime</th>\n",
       "      <th>reviewerID</th>\n",
       "      <th>asin</th>\n",
       "      <th>reviewerName</th>\n",
       "      <th>reviewText</th>\n",
       "      <th>summary</th>\n",
       "      <th>unixReviewTime</th>\n",
       "      <th>vote</th>\n",
       "      <th>...</th>\n",
       "      <th>image/6</th>\n",
       "      <th>image/7</th>\n",
       "      <th>image/8</th>\n",
       "      <th>image/9</th>\n",
       "      <th>image/10</th>\n",
       "      <th>image/11</th>\n",
       "      <th>image/12</th>\n",
       "      <th>image/13</th>\n",
       "      <th>style/Size Name:</th>\n",
       "      <th>style/Style:</th>\n",
       "    </tr>\n",
       "  </thead>\n",
       "  <tbody>\n",
       "    <tr>\n",
       "      <th>0</th>\n",
       "      <td>5</td>\n",
       "      <td>True</td>\n",
       "      <td>10 20, 2014</td>\n",
       "      <td>A1D4G1SNUZWQOT</td>\n",
       "      <td>7106116521</td>\n",
       "      <td>Tracy</td>\n",
       "      <td>Exactly what I needed.</td>\n",
       "      <td>perfect replacements!!</td>\n",
       "      <td>1413763200</td>\n",
       "      <td>NaN</td>\n",
       "      <td>...</td>\n",
       "      <td>NaN</td>\n",
       "      <td>NaN</td>\n",
       "      <td>NaN</td>\n",
       "      <td>NaN</td>\n",
       "      <td>NaN</td>\n",
       "      <td>NaN</td>\n",
       "      <td>NaN</td>\n",
       "      <td>NaN</td>\n",
       "      <td>NaN</td>\n",
       "      <td>NaN</td>\n",
       "    </tr>\n",
       "    <tr>\n",
       "      <th>1</th>\n",
       "      <td>2</td>\n",
       "      <td>True</td>\n",
       "      <td>09 28, 2014</td>\n",
       "      <td>A3DDWDH9PX2YX2</td>\n",
       "      <td>7106116521</td>\n",
       "      <td>Sonja Lau</td>\n",
       "      <td>I agree with the other review, the opening is ...</td>\n",
       "      <td>I agree with the other review, the opening is ...</td>\n",
       "      <td>1411862400</td>\n",
       "      <td>3.0</td>\n",
       "      <td>...</td>\n",
       "      <td>NaN</td>\n",
       "      <td>NaN</td>\n",
       "      <td>NaN</td>\n",
       "      <td>NaN</td>\n",
       "      <td>NaN</td>\n",
       "      <td>NaN</td>\n",
       "      <td>NaN</td>\n",
       "      <td>NaN</td>\n",
       "      <td>NaN</td>\n",
       "      <td>NaN</td>\n",
       "    </tr>\n",
       "  </tbody>\n",
       "</table>\n",
       "<p>2 rows × 29 columns</p>\n",
       "</div>"
      ],
      "text/plain": [
       "   overall  verified   reviewTime      reviewerID        asin reviewerName  \\\n",
       "0        5      True  10 20, 2014  A1D4G1SNUZWQOT  7106116521        Tracy   \n",
       "1        2      True  09 28, 2014  A3DDWDH9PX2YX2  7106116521    Sonja Lau   \n",
       "\n",
       "                                          reviewText  \\\n",
       "0                             Exactly what I needed.   \n",
       "1  I agree with the other review, the opening is ...   \n",
       "\n",
       "                                             summary  unixReviewTime  vote  \\\n",
       "0                             perfect replacements!!      1413763200   NaN   \n",
       "1  I agree with the other review, the opening is ...      1411862400   3.0   \n",
       "\n",
       "   ... image/6 image/7 image/8 image/9 image/10 image/11 image/12 image/13  \\\n",
       "0  ...     NaN     NaN     NaN     NaN      NaN      NaN      NaN      NaN   \n",
       "1  ...     NaN     NaN     NaN     NaN      NaN      NaN      NaN      NaN   \n",
       "\n",
       "  style/Size Name: style/Style:  \n",
       "0              NaN          NaN  \n",
       "1              NaN          NaN  \n",
       "\n",
       "[2 rows x 29 columns]"
      ]
     },
     "execution_count": 71,
     "metadata": {},
     "output_type": "execute_result"
    }
   ],
   "source": [
    "data.head(2)"
   ]
  },
  {
   "cell_type": "code",
   "execution_count": 72,
   "id": "7e85f4a1",
   "metadata": {},
   "outputs": [
    {
     "name": "stderr",
     "output_type": "stream",
     "text": [
      "/tmp/ipykernel_22468/4291965330.py:8: SettingWithCopyWarning: \n",
      "A value is trying to be set on a copy of a slice from a DataFrame\n",
      "\n",
      "See the caveats in the documentation: https://pandas.pydata.org/pandas-docs/stable/user_guide/indexing.html#returning-a-view-versus-a-copy\n",
      "  cleaned_data.drop_duplicates(inplace=True)\n"
     ]
    },
    {
     "data": {
      "text/html": [
       "<div>\n",
       "<style scoped>\n",
       "    .dataframe tbody tr th:only-of-type {\n",
       "        vertical-align: middle;\n",
       "    }\n",
       "\n",
       "    .dataframe tbody tr th {\n",
       "        vertical-align: top;\n",
       "    }\n",
       "\n",
       "    .dataframe thead th {\n",
       "        text-align: right;\n",
       "    }\n",
       "</style>\n",
       "<table border=\"1\" class=\"dataframe\">\n",
       "  <thead>\n",
       "    <tr style=\"text-align: right;\">\n",
       "      <th></th>\n",
       "      <th>reviewerID</th>\n",
       "      <th>reviewerName</th>\n",
       "      <th>asin</th>\n",
       "      <th>reviewText</th>\n",
       "      <th>summary</th>\n",
       "      <th>overall</th>\n",
       "    </tr>\n",
       "  </thead>\n",
       "  <tbody>\n",
       "    <tr>\n",
       "      <th>0</th>\n",
       "      <td>A1D4G1SNUZWQOT</td>\n",
       "      <td>Tracy</td>\n",
       "      <td>7106116521</td>\n",
       "      <td>Exactly what I needed.</td>\n",
       "      <td>perfect replacements!!</td>\n",
       "      <td>5</td>\n",
       "    </tr>\n",
       "    <tr>\n",
       "      <th>1</th>\n",
       "      <td>A3DDWDH9PX2YX2</td>\n",
       "      <td>Sonja Lau</td>\n",
       "      <td>7106116521</td>\n",
       "      <td>I agree with the other review, the opening is ...</td>\n",
       "      <td>I agree with the other review, the opening is ...</td>\n",
       "      <td>2</td>\n",
       "    </tr>\n",
       "  </tbody>\n",
       "</table>\n",
       "</div>"
      ],
      "text/plain": [
       "       reviewerID reviewerName        asin  \\\n",
       "0  A1D4G1SNUZWQOT        Tracy  7106116521   \n",
       "1  A3DDWDH9PX2YX2    Sonja Lau  7106116521   \n",
       "\n",
       "                                          reviewText  \\\n",
       "0                             Exactly what I needed.   \n",
       "1  I agree with the other review, the opening is ...   \n",
       "\n",
       "                                             summary  overall  \n",
       "0                             perfect replacements!!        5  \n",
       "1  I agree with the other review, the opening is ...        2  "
      ]
     },
     "execution_count": 72,
     "metadata": {},
     "output_type": "execute_result"
    }
   ],
   "source": [
    "# Izdvajanje atributa\n",
    "filtered_data = data[['reviewerID', 'reviewerName', 'asin', 'reviewText', 'summary', 'overall']]\n",
    "\n",
    "# Uklanjanje NaN vrednosti za sve atribute\n",
    "cleaned_data = filtered_data.dropna()\n",
    "\n",
    "# Uklanjanje duplikata\n",
    "cleaned_data.drop_duplicates(inplace=True)\n",
    "cleaned_data\n",
    "\n",
    "cleaned_data.head(2)"
   ]
  },
  {
   "cell_type": "code",
   "execution_count": 73,
   "id": "6e595187",
   "metadata": {},
   "outputs": [
    {
     "data": {
      "text/html": [
       "<div>\n",
       "<style scoped>\n",
       "    .dataframe tbody tr th:only-of-type {\n",
       "        vertical-align: middle;\n",
       "    }\n",
       "\n",
       "    .dataframe tbody tr th {\n",
       "        vertical-align: top;\n",
       "    }\n",
       "\n",
       "    .dataframe thead th {\n",
       "        text-align: right;\n",
       "    }\n",
       "</style>\n",
       "<table border=\"1\" class=\"dataframe\">\n",
       "  <thead>\n",
       "    <tr style=\"text-align: right;\">\n",
       "      <th></th>\n",
       "      <th>reviewerID</th>\n",
       "      <th>reviewerName</th>\n",
       "      <th>asin</th>\n",
       "      <th>reviewText</th>\n",
       "      <th>summary</th>\n",
       "      <th>overall</th>\n",
       "      <th>userID</th>\n",
       "    </tr>\n",
       "  </thead>\n",
       "  <tbody>\n",
       "    <tr>\n",
       "      <th>0</th>\n",
       "      <td>A1D4G1SNUZWQOT</td>\n",
       "      <td>Tracy</td>\n",
       "      <td>7106116521</td>\n",
       "      <td>Exactly what I needed.</td>\n",
       "      <td>perfect replacements!!</td>\n",
       "      <td>5</td>\n",
       "      <td>1840</td>\n",
       "    </tr>\n",
       "    <tr>\n",
       "      <th>1</th>\n",
       "      <td>A3DDWDH9PX2YX2</td>\n",
       "      <td>Sonja Lau</td>\n",
       "      <td>7106116521</td>\n",
       "      <td>I agree with the other review, the opening is ...</td>\n",
       "      <td>I agree with the other review, the opening is ...</td>\n",
       "      <td>2</td>\n",
       "      <td>11443</td>\n",
       "    </tr>\n",
       "  </tbody>\n",
       "</table>\n",
       "</div>"
      ],
      "text/plain": [
       "       reviewerID reviewerName        asin  \\\n",
       "0  A1D4G1SNUZWQOT        Tracy  7106116521   \n",
       "1  A3DDWDH9PX2YX2    Sonja Lau  7106116521   \n",
       "\n",
       "                                          reviewText  \\\n",
       "0                             Exactly what I needed.   \n",
       "1  I agree with the other review, the opening is ...   \n",
       "\n",
       "                                             summary  overall  userID  \n",
       "0                             perfect replacements!!        5    1840  \n",
       "1  I agree with the other review, the opening is ...        2   11443  "
      ]
     },
     "execution_count": 73,
     "metadata": {},
     "output_type": "execute_result"
    }
   ],
   "source": [
    "encoded_data = cleaned_data.copy()\n",
    "\n",
    "user_encoder = LabelEncoder()\n",
    "user_encoder.fit(encoded_data['reviewerID'].values)\n",
    "n_users = len(user_encoder.classes_)\n",
    "\n",
    "encoded_data[\"userID\"] = user_encoder.transform(encoded_data['reviewerID'])\n",
    "encoded_data.head(2)"
   ]
  },
  {
   "cell_type": "code",
   "execution_count": 74,
   "id": "05d539ce",
   "metadata": {},
   "outputs": [
    {
     "data": {
      "text/html": [
       "<div>\n",
       "<style scoped>\n",
       "    .dataframe tbody tr th:only-of-type {\n",
       "        vertical-align: middle;\n",
       "    }\n",
       "\n",
       "    .dataframe tbody tr th {\n",
       "        vertical-align: top;\n",
       "    }\n",
       "\n",
       "    .dataframe thead th {\n",
       "        text-align: right;\n",
       "    }\n",
       "</style>\n",
       "<table border=\"1\" class=\"dataframe\">\n",
       "  <thead>\n",
       "    <tr style=\"text-align: right;\">\n",
       "      <th></th>\n",
       "      <th>reviewerID</th>\n",
       "      <th>reviewerName</th>\n",
       "      <th>asin</th>\n",
       "      <th>reviewText</th>\n",
       "      <th>summary</th>\n",
       "      <th>overall</th>\n",
       "      <th>userID</th>\n",
       "      <th>id</th>\n",
       "    </tr>\n",
       "  </thead>\n",
       "  <tbody>\n",
       "    <tr>\n",
       "      <th>0</th>\n",
       "      <td>A1D4G1SNUZWQOT</td>\n",
       "      <td>Tracy</td>\n",
       "      <td>7106116521</td>\n",
       "      <td>Exactly what I needed.</td>\n",
       "      <td>perfect replacements!!</td>\n",
       "      <td>5</td>\n",
       "      <td>1840</td>\n",
       "      <td>1</td>\n",
       "    </tr>\n",
       "    <tr>\n",
       "      <th>1</th>\n",
       "      <td>A3DDWDH9PX2YX2</td>\n",
       "      <td>Sonja Lau</td>\n",
       "      <td>7106116521</td>\n",
       "      <td>I agree with the other review, the opening is ...</td>\n",
       "      <td>I agree with the other review, the opening is ...</td>\n",
       "      <td>2</td>\n",
       "      <td>11443</td>\n",
       "      <td>2</td>\n",
       "    </tr>\n",
       "  </tbody>\n",
       "</table>\n",
       "</div>"
      ],
      "text/plain": [
       "       reviewerID reviewerName        asin  \\\n",
       "0  A1D4G1SNUZWQOT        Tracy  7106116521   \n",
       "1  A3DDWDH9PX2YX2    Sonja Lau  7106116521   \n",
       "\n",
       "                                          reviewText  \\\n",
       "0                             Exactly what I needed.   \n",
       "1  I agree with the other review, the opening is ...   \n",
       "\n",
       "                                             summary  overall  userID  id  \n",
       "0                             perfect replacements!!        5    1840   1  \n",
       "1  I agree with the other review, the opening is ...        2   11443   2  "
      ]
     },
     "execution_count": 74,
     "metadata": {},
     "output_type": "execute_result"
    }
   ],
   "source": [
    "users_all = encoded_data.assign(id=pd.Series(range(1, encoded_data.shape[0]+1), dtype=int, index=encoded_data.index))\n",
    "users_all.head(2)"
   ]
  },
  {
   "cell_type": "code",
   "execution_count": null,
   "id": "072ede05",
   "metadata": {},
   "outputs": [],
   "source": []
  },
  {
   "cell_type": "code",
   "execution_count": 75,
   "id": "65dfe7f1",
   "metadata": {},
   "outputs": [
    {
     "data": {
      "text/plain": [
       "A3W11493KS6Z2L    5\n",
       "A3IDT5LC91YJJU    4\n",
       "A1UF8LF658016W    4\n",
       "A17EOTC7REOQKA    3\n",
       "A33ZQAI5SUB533    3\n",
       "                 ..\n",
       "A1G5RTYYX13TTC    1\n",
       "A2JO75H05ZRHYJ    1\n",
       "A29BVA1UHTER23    1\n",
       "A2QVXKMAKV7GUL    1\n",
       "A2Y39N7FDHEPNY    1\n",
       "Name: reviewerID, Length: 18292, dtype: int64"
      ]
     },
     "execution_count": 75,
     "metadata": {},
     "output_type": "execute_result"
    }
   ],
   "source": [
    "# Koliko interakcija je vezano za svakog korisnika\n",
    "\n",
    "cleaned_data['reviewerID'].value_counts()"
   ]
  },
  {
   "cell_type": "code",
   "execution_count": null,
   "id": "083e2961",
   "metadata": {},
   "outputs": [],
   "source": []
  },
  {
   "cell_type": "code",
   "execution_count": null,
   "id": "d64fc60d",
   "metadata": {},
   "outputs": [],
   "source": []
  },
  {
   "cell_type": "code",
   "execution_count": 76,
   "id": "c134708d",
   "metadata": {},
   "outputs": [
    {
     "data": {
      "text/html": [
       "<div>\n",
       "<style scoped>\n",
       "    .dataframe tbody tr th:only-of-type {\n",
       "        vertical-align: middle;\n",
       "    }\n",
       "\n",
       "    .dataframe tbody tr th {\n",
       "        vertical-align: top;\n",
       "    }\n",
       "\n",
       "    .dataframe thead th {\n",
       "        text-align: right;\n",
       "    }\n",
       "</style>\n",
       "<table border=\"1\" class=\"dataframe\">\n",
       "  <thead>\n",
       "    <tr style=\"text-align: right;\">\n",
       "      <th></th>\n",
       "      <th>reviewerID</th>\n",
       "      <th>userID</th>\n",
       "      <th>asin</th>\n",
       "      <th>itemID</th>\n",
       "      <th>overall</th>\n",
       "    </tr>\n",
       "  </thead>\n",
       "  <tbody>\n",
       "    <tr>\n",
       "      <th>0</th>\n",
       "      <td>A1BB77SEBQT8VX</td>\n",
       "      <td>1591</td>\n",
       "      <td>B00007GDFV</td>\n",
       "      <td>11</td>\n",
       "      <td>3</td>\n",
       "    </tr>\n",
       "    <tr>\n",
       "      <th>1</th>\n",
       "      <td>AHWOW7D1ABO9C</td>\n",
       "      <td>15861</td>\n",
       "      <td>B00007GDFV</td>\n",
       "      <td>11</td>\n",
       "      <td>3</td>\n",
       "    </tr>\n",
       "  </tbody>\n",
       "</table>\n",
       "</div>"
      ],
      "text/plain": [
       "       reviewerID  userID        asin  itemID  overall\n",
       "0  A1BB77SEBQT8VX    1591  B00007GDFV      11        3\n",
       "1   AHWOW7D1ABO9C   15861  B00007GDFV      11        3"
      ]
     },
     "execution_count": 76,
     "metadata": {},
     "output_type": "execute_result"
    }
   ],
   "source": [
    "# Spajanje tabela\n",
    "\n",
    "ratings_all = users_all.merge(items_all, on=\"asin\")[['reviewerID', 'userID', 'asin', 'itemID', 'overall']]\n",
    "ratings_all.head(2)"
   ]
  },
  {
   "cell_type": "code",
   "execution_count": null,
   "id": "f753e7f8",
   "metadata": {},
   "outputs": [],
   "source": []
  },
  {
   "cell_type": "code",
   "execution_count": null,
   "id": "e4d9ac91",
   "metadata": {},
   "outputs": [],
   "source": []
  },
  {
   "cell_type": "code",
   "execution_count": 77,
   "id": "ab695e88",
   "metadata": {},
   "outputs": [
    {
     "data": {
      "text/plain": [
       "160    715\n",
       "90     319\n",
       "193    235\n",
       "314    226\n",
       "333    185\n",
       "      ... \n",
       "70       1\n",
       "75       1\n",
       "89       1\n",
       "106      1\n",
       "91       1\n",
       "Name: itemID, Length: 62, dtype: int64"
      ]
     },
     "execution_count": 77,
     "metadata": {},
     "output_type": "execute_result"
    }
   ],
   "source": [
    "# Koliko ocena je zabelezeno za svaku od stavki\n",
    "\n",
    "ratings_all['itemID'].value_counts()"
   ]
  },
  {
   "cell_type": "code",
   "execution_count": null,
   "id": "152bc4c1",
   "metadata": {},
   "outputs": [],
   "source": []
  },
  {
   "cell_type": "code",
   "execution_count": 78,
   "id": "d31671e4",
   "metadata": {},
   "outputs": [
    {
     "data": {
      "text/html": [
       "<div>\n",
       "<style scoped>\n",
       "    .dataframe tbody tr th:only-of-type {\n",
       "        vertical-align: middle;\n",
       "    }\n",
       "\n",
       "    .dataframe tbody tr th {\n",
       "        vertical-align: top;\n",
       "    }\n",
       "\n",
       "    .dataframe thead th {\n",
       "        text-align: right;\n",
       "    }\n",
       "</style>\n",
       "<table border=\"1\" class=\"dataframe\">\n",
       "  <thead>\n",
       "    <tr style=\"text-align: right;\">\n",
       "      <th></th>\n",
       "      <th>reviewerID</th>\n",
       "      <th>userID</th>\n",
       "      <th>asin</th>\n",
       "      <th>itemID</th>\n",
       "      <th>overall</th>\n",
       "    </tr>\n",
       "  </thead>\n",
       "  <tbody>\n",
       "    <tr>\n",
       "      <th>932</th>\n",
       "      <td>A1TEZWIOUZP5X5</td>\n",
       "      <td>3958</td>\n",
       "      <td>B0009MZWKW</td>\n",
       "      <td>106</td>\n",
       "      <td>5</td>\n",
       "    </tr>\n",
       "    <tr>\n",
       "      <th>3927</th>\n",
       "      <td>A1TEZWIOUZP5X5</td>\n",
       "      <td>3958</td>\n",
       "      <td>B0009MZWKW</td>\n",
       "      <td>50</td>\n",
       "      <td>2</td>\n",
       "    </tr>\n",
       "  </tbody>\n",
       "</table>\n",
       "</div>"
      ],
      "text/plain": [
       "          reviewerID  userID        asin  itemID  overall\n",
       "932   A1TEZWIOUZP5X5    3958  B0009MZWKW     106        5\n",
       "3927  A1TEZWIOUZP5X5    3958  B0009MZWKW      50        2"
      ]
     },
     "execution_count": 78,
     "metadata": {},
     "output_type": "execute_result"
    }
   ],
   "source": [
    "# Dodavanje novog reda u ratings_all dataframe, kako bi kasnije bio iskorišćen model zasnovan na sadržaju prilikom\n",
    "# poziva metoda predict_switching, koji bira algoritam na osnovu broja postojećih ocena za dati predmet (stavku).\n",
    "# Nakon izvršenja koda ispod, u ratings_all trebaju biti dva reda sa istim korisnikom/stavkom.\n",
    "\n",
    "new_row = {'userID':3958, 'reviewerID':'A1TEZWIOUZP5X5', 'itemID':50, 'asin':'B0009MZWKW', 'overall':2}\n",
    "#ratings_all = ratings_all.append(new_row, ignore_index=True)\n",
    "\n",
    "new_row_2 = {'userID':2000, 'reviewerID':'A1TEZWIOUZP5X5', 'itemID':106, 'asin':'B0009MZWKW', 'overall':2}\n",
    "\n",
    "new_df = pd.DataFrame([new_row])\n",
    "ratings_all = pd.concat([ratings_all, new_df], axis=0, ignore_index=True)\n",
    "\n",
    "new_df_2 = pd.DataFrame([new_row_2])\n",
    "ratings_all = pd.concat([ratings_all, new_df_2], axis=0, ignore_index=True)\n",
    "\n",
    "ratings_all[ratings_all['userID'] == 3958]\n",
    "\n",
    "#ratings[ratings['itemID'] == item_id]\n",
    "#ratings_all[ratings_all['userID'] == 13710]"
   ]
  },
  {
   "cell_type": "code",
   "execution_count": 79,
   "id": "f9d2302a",
   "metadata": {},
   "outputs": [
    {
     "data": {
      "text/html": [
       "<div>\n",
       "<style scoped>\n",
       "    .dataframe tbody tr th:only-of-type {\n",
       "        vertical-align: middle;\n",
       "    }\n",
       "\n",
       "    .dataframe tbody tr th {\n",
       "        vertical-align: top;\n",
       "    }\n",
       "\n",
       "    .dataframe thead th {\n",
       "        text-align: right;\n",
       "    }\n",
       "</style>\n",
       "<table border=\"1\" class=\"dataframe\">\n",
       "  <thead>\n",
       "    <tr style=\"text-align: right;\">\n",
       "      <th></th>\n",
       "      <th>reviewerID</th>\n",
       "      <th>userID</th>\n",
       "      <th>asin</th>\n",
       "      <th>itemID</th>\n",
       "      <th>overall</th>\n",
       "    </tr>\n",
       "  </thead>\n",
       "  <tbody>\n",
       "    <tr>\n",
       "      <th>932</th>\n",
       "      <td>A1TEZWIOUZP5X5</td>\n",
       "      <td>3958</td>\n",
       "      <td>B0009MZWKW</td>\n",
       "      <td>106</td>\n",
       "      <td>5</td>\n",
       "    </tr>\n",
       "    <tr>\n",
       "      <th>3928</th>\n",
       "      <td>A1TEZWIOUZP5X5</td>\n",
       "      <td>2000</td>\n",
       "      <td>B0009MZWKW</td>\n",
       "      <td>106</td>\n",
       "      <td>2</td>\n",
       "    </tr>\n",
       "  </tbody>\n",
       "</table>\n",
       "</div>"
      ],
      "text/plain": [
       "          reviewerID  userID        asin  itemID  overall\n",
       "932   A1TEZWIOUZP5X5    3958  B0009MZWKW     106        5\n",
       "3928  A1TEZWIOUZP5X5    2000  B0009MZWKW     106        2"
      ]
     },
     "execution_count": 79,
     "metadata": {},
     "output_type": "execute_result"
    }
   ],
   "source": [
    "ratings_all[ratings_all['itemID'] == 106]"
   ]
  },
  {
   "cell_type": "code",
   "execution_count": null,
   "id": "0d7af4ca",
   "metadata": {},
   "outputs": [],
   "source": []
  },
  {
   "cell_type": "markdown",
   "id": "aaf7dbbc",
   "metadata": {},
   "source": [
    "### Implementacija različitih pristupa"
   ]
  },
  {
   "cell_type": "code",
   "execution_count": 80,
   "id": "91db520a",
   "metadata": {},
   "outputs": [],
   "source": [
    "##### CF korak po korak #####"
   ]
  },
  {
   "cell_type": "code",
   "execution_count": 81,
   "id": "14646aa0",
   "metadata": {},
   "outputs": [],
   "source": [
    "# ratings_all[ratings_all['itemID'] == 106]"
   ]
  },
  {
   "cell_type": "code",
   "execution_count": 82,
   "id": "f5846141",
   "metadata": {},
   "outputs": [],
   "source": [
    "# users_all = users_all[['userID', 'reviewerID', 'reviewText', 'summary']]\n",
    "# users_all"
   ]
  },
  {
   "cell_type": "code",
   "execution_count": 83,
   "id": "f1f400a4",
   "metadata": {},
   "outputs": [],
   "source": [
    "# ratings_all[~is_target][['userID', 'itemID', 'overall']]"
   ]
  },
  {
   "cell_type": "code",
   "execution_count": 84,
   "id": "c54da155",
   "metadata": {},
   "outputs": [],
   "source": [
    "# ratings_all[ratings_all['userID'] == 5702]"
   ]
  },
  {
   "cell_type": "code",
   "execution_count": 85,
   "id": "c4d51600",
   "metadata": {},
   "outputs": [],
   "source": [
    "# is_target = (ratings_all['userID'] == 5702) & (ratings_all['itemID'] == 163)\n",
    "# is_target"
   ]
  },
  {
   "cell_type": "code",
   "execution_count": 86,
   "id": "673b6620",
   "metadata": {},
   "outputs": [],
   "source": [
    "# ratings_all[is_target]"
   ]
  },
  {
   "cell_type": "code",
   "execution_count": 87,
   "id": "2c35c8a1",
   "metadata": {},
   "outputs": [],
   "source": [
    "# target = ratings_all[is_target].iloc[0]\n",
    "# target"
   ]
  },
  {
   "cell_type": "code",
   "execution_count": 88,
   "id": "04b6964d",
   "metadata": {},
   "outputs": [],
   "source": [
    "##### CF korak po korak #####"
   ]
  },
  {
   "cell_type": "code",
   "execution_count": 89,
   "id": "d617fde8",
   "metadata": {},
   "outputs": [],
   "source": [
    "#is_target = (ratings_all['userID'] == 1591) & (ratings_all['itemID'] == 11)\n",
    "#is_target"
   ]
  },
  {
   "cell_type": "code",
   "execution_count": 90,
   "id": "2b165a57",
   "metadata": {},
   "outputs": [],
   "source": [
    "#target = ratings_all[is_target].iloc[0]\n",
    "#target"
   ]
  },
  {
   "cell_type": "code",
   "execution_count": 91,
   "id": "e85c40c0",
   "metadata": {},
   "outputs": [],
   "source": [
    "#train_set = sp.Dataset.load_from_df(ratings_all[~is_target][['userID', 'itemID', 'overall']], sp.Reader(rating_scale=(1, 5))).build_full_trainset()\n",
    "#train_set"
   ]
  },
  {
   "cell_type": "code",
   "execution_count": 92,
   "id": "64e57089",
   "metadata": {},
   "outputs": [],
   "source": [
    "#algo = sp.KNNBasic(verbose=False)\n",
    "#algo.fit(train_set)"
   ]
  },
  {
   "cell_type": "code",
   "execution_count": 93,
   "id": "d55296aa",
   "metadata": {},
   "outputs": [],
   "source": [
    "#prediction = algo.predict(target['userID'], target['itemID'], verbose=False)\n",
    "#prediction"
   ]
  },
  {
   "cell_type": "code",
   "execution_count": 94,
   "id": "cf586b87",
   "metadata": {},
   "outputs": [],
   "source": [
    "#prediction.est"
   ]
  },
  {
   "cell_type": "code",
   "execution_count": 95,
   "id": "ca4dfe83",
   "metadata": {},
   "outputs": [],
   "source": [
    "#prediction.est - target['overall']"
   ]
  },
  {
   "cell_type": "code",
   "execution_count": 96,
   "id": "2f13d05b",
   "metadata": {},
   "outputs": [],
   "source": [
    "#target['overall']"
   ]
  },
  {
   "cell_type": "code",
   "execution_count": 98,
   "id": "873cb1eb",
   "metadata": {},
   "outputs": [],
   "source": [
    "# Uzajamno filtriranje\n",
    "\n",
    "def cf_predict(ratings, user_id, item_id):\n",
    "    # pronalazi red u dataframe-u koji sadrzi prosledjeni user id i item id (to je red nazvan target)\n",
    "    is_target = (ratings['userID'] == user_id) & (ratings['itemID'] == item_id)\n",
    "    target = ratings[is_target].iloc[0]\n",
    "    \n",
    "    # kreiranje trening skupa podataka na osnovu svih redova osim target reda\n",
    "    # izdvajaju se atributi 'userID', 'itemID', 'overall'\n",
    "    train_set = sp.Dataset.load_from_df(\n",
    "        ratings[~is_target][['userID', 'itemID', 'overall']], \n",
    "        sp.Reader(rating_scale=(1, 5))\n",
    "    ).build_full_trainset()\n",
    "\n",
    "    # kreiranje modela - koriscenje KNNBasic\n",
    "    algo = sp.KNNBasic(verbose=False)\n",
    "    # treniranje\n",
    "    algo.fit(train_set)\n",
    "    # predvidjanje ocene za proslednjeni user id i item id\n",
    "    prediction = algo.predict(target['userID'], target['itemID'], verbose=False)\n",
    "    \n",
    "    # vracanje predvidjene ocene, razlike izmedju previdjene i stvarne ocene i stvarne ocene\n",
    "    return prediction.est, prediction.est - target['overall'], target['overall']"
   ]
  },
  {
   "cell_type": "code",
   "execution_count": 99,
   "id": "cbc1ff00",
   "metadata": {},
   "outputs": [
    {
     "data": {
      "text/plain": [
       "(4.12550916496945, 1.1255091649694497, 3)"
      ]
     },
     "execution_count": 99,
     "metadata": {},
     "output_type": "execute_result"
    }
   ],
   "source": [
    "cf_predict(ratings_all, 1591, 11)"
   ]
  },
  {
   "cell_type": "code",
   "execution_count": 100,
   "id": "2600933d",
   "metadata": {},
   "outputs": [
    {
     "data": {
      "text/plain": [
       "(4.125, -0.875, 5)"
      ]
     },
     "execution_count": 100,
     "metadata": {},
     "output_type": "execute_result"
    }
   ],
   "source": [
    "cf_predict(ratings_all, 5702, 163)"
   ]
  },
  {
   "cell_type": "code",
   "execution_count": null,
   "id": "62629d60",
   "metadata": {},
   "outputs": [],
   "source": []
  },
  {
   "cell_type": "code",
   "execution_count": null,
   "id": "cd236b27",
   "metadata": {},
   "outputs": [],
   "source": [
    "#user_ratings = ratings_all[ratings_all['userID'] == 3958].join(items_all.set_index('id'), on='itemID', how='left', lsuffix='_left', rsuffix='_right')\n",
    "#user_ratings"
   ]
  },
  {
   "cell_type": "code",
   "execution_count": null,
   "id": "fb60f3f0",
   "metadata": {},
   "outputs": [],
   "source": [
    "#user_ratings['itemID_left'] == 106"
   ]
  },
  {
   "cell_type": "code",
   "execution_count": null,
   "id": "e123c84f",
   "metadata": {},
   "outputs": [],
   "source": [
    "# ratings_all[ratings_all['userID'] == 5702]"
   ]
  },
  {
   "cell_type": "code",
   "execution_count": null,
   "id": "5cdf0bd2",
   "metadata": {},
   "outputs": [],
   "source": [
    "# user_ratings = ratings_all[ratings_all['userID'] == 5702].join(items_all.set_index('id'), on='itemID', how='left', lsuffix='_left', rsuffix='_right')\n",
    "# is_target = (user_ratings['itemID_left'] == 163)\n",
    "# is_target"
   ]
  },
  {
   "cell_type": "code",
   "execution_count": null,
   "id": "c41d44f6",
   "metadata": {},
   "outputs": [],
   "source": []
  },
  {
   "cell_type": "code",
   "execution_count": 101,
   "id": "72c70c86",
   "metadata": {},
   "outputs": [],
   "source": [
    "# Filtriranje zasnovano na sadržaju\n",
    "\n",
    "from sklearn.preprocessing import LabelEncoder, MinMaxScaler\n",
    "from sklearn.neighbors import KNeighborsClassifier\n",
    "\n",
    "\n",
    "def cb_predict(ratings, items, user_id, item_id):\n",
    "    \n",
    "    # kreiranje dataframe-a user_ratings sa informacijama o interakcijama\n",
    "    # koje se odnose na korisnika sa datim id-em user_id i informacijama o povezanim proizvodima\n",
    "    user_ratings = ratings[ratings['userID'] == user_id].join(items.set_index('id'), on='itemID',\n",
    "                                                              how='left', lsuffix='_left', rsuffix='_right')\n",
    "    # is_target kaze koji red iz dataframe-a user_ratings se odnosi na konkretan proizvod sa id-em item_id\n",
    "    # 2260     True\n",
    "    # 2563    False\n",
    "    # 3241    False\n",
    "    is_target = (user_ratings['itemID_left'] == item_id)\n",
    "    \n",
    "    # podela vrednosti atributa na trening i test (koriste se za predvidjanje, na kraju)\n",
    "    # na primer ukoliko je pronadjeno 3 reda u kojima se javlja korisnik sa datim id-em,\n",
    "    # dva ce ici u train_features i jedan (ako sadrzi dati item_id) ide u target_features\n",
    "    features = pd.get_dummies(user_ratings.drop(columns=['overall']))\n",
    "    train_features = features[~is_target]\n",
    "    target_features = features[is_target]\n",
    "    \n",
    "    # enkodiranje vrednosti za atribut ocena (overall) koji se predvidja\n",
    "    # npr. 5 --> 0\n",
    "    encoder = LabelEncoder()\n",
    "    train_labels = encoder.fit_transform(user_ratings[~is_target]['overall'])\n",
    "    # target_label se ne enkodira, tu se samo smesta stvarna ocena koja treba biti predvidjena\n",
    "    target_label = user_ratings[is_target]['overall'].iloc[0]\n",
    "    \n",
    "    # kreiranje modela, koriscenje KNeighborsClassifier\n",
    "    clf = KNeighborsClassifier(n_neighbors=1)\n",
    "    # treniranje modela na skupu za trening (prosledjuju se atributi i ciljna promenljiva - ocena,\n",
    "    # koja je enkodirana)\n",
    "    clf.fit(train_features, train_labels)\n",
    "\n",
    "    # predvidjanje ocene koristeci target_features, a potom enkodiranje vrednosti nazad\n",
    "    prediction = encoder.inverse_transform(clf.predict(target_features))[0]\n",
    "    \n",
    "    # vracanje predvidjene ocene, razlike izmedju predvidjene i prave ocene, prave ocene\n",
    "    return prediction, prediction - target_label, target_label"
   ]
  },
  {
   "cell_type": "code",
   "execution_count": 102,
   "id": "74d04089",
   "metadata": {},
   "outputs": [
    {
     "data": {
      "text/plain": [
       "(5, 0, 5)"
      ]
     },
     "execution_count": 102,
     "metadata": {},
     "output_type": "execute_result"
    }
   ],
   "source": [
    "cb_predict(ratings_all, items_all, 5702, 163)"
   ]
  },
  {
   "cell_type": "code",
   "execution_count": null,
   "id": "69420ec1",
   "metadata": {},
   "outputs": [],
   "source": []
  },
  {
   "cell_type": "code",
   "execution_count": null,
   "id": "ab324235",
   "metadata": {},
   "outputs": [],
   "source": []
  },
  {
   "cell_type": "code",
   "execution_count": 46,
   "id": "692927ed",
   "metadata": {},
   "outputs": [],
   "source": [
    "def test_classifier(ratings, items, user_id, item_id):\n",
    "    pred_cf, error_cf, truth = cf_predict(ratings, user_id, item_id)\n",
    "    pred_cn, error_cn, truth = cb_predict(ratings, items, user_id, item_id)\n",
    "    print(\"Rezultati za korisnika sa id-em {} za stavku sa id-em {}:\".format(user_id, item_id))\n",
    "    print(\"Pristup zasnovan na uzajamnom filtriranju: \\t prediction: {:.5f} \\t error: {:.5f}\".format(pred_cf, error_cf))\n",
    "    print(\"Pristup zasnovan na sadržaju: \\t\\t\\t prediction: {:.5f} \\t error: {:.5f}\".format(pred_cn, error_cn))"
   ]
  },
  {
   "cell_type": "code",
   "execution_count": 47,
   "id": "1c4e9fd8",
   "metadata": {},
   "outputs": [
    {
     "name": "stdout",
     "output_type": "stream",
     "text": [
      "Rezultati za korisnika sa id-em 5702 za stavku sa id-em 163:\n",
      "Pristup zasnovan na uzajamnom filtriranju: \t prediction: 4.12500 \t error: -0.87500\n",
      "Pristup zasnovan na sadržaju: \t\t\t prediction: 5.00000 \t error: 0.00000\n"
     ]
    }
   ],
   "source": [
    "test_classifier(ratings_all, items_all, 5702, 163)"
   ]
  },
  {
   "cell_type": "code",
   "execution_count": null,
   "id": "a932b995",
   "metadata": {},
   "outputs": [],
   "source": []
  },
  {
   "cell_type": "markdown",
   "id": "a70b52b7",
   "metadata": {},
   "source": [
    "### Implementacija hibridnih sistema preporuka"
   ]
  },
  {
   "cell_type": "code",
   "execution_count": 49,
   "id": "8f83fd50",
   "metadata": {},
   "outputs": [],
   "source": [
    "def predict_weighted(ratings, items, user_id, item_id):\n",
    "    prediction_cf, _, true_rating = cf_predict(ratings, user_id, item_id)\n",
    "    prediction_cb, _, true_rating = cb_predict(ratings, items, user_id, item_id)\n",
    "    \n",
    "    # Težine mogu biti odabrane drugačije,\n",
    "    # prema tome koji model daje bolje preporuke.\n",
    "    \n",
    "    prediction = 0.5 * prediction_cf + 0.5 * prediction_cb\n",
    "    error = prediction - true_rating\n",
    "    \n",
    "    return prediction, error, true_rating"
   ]
  },
  {
   "cell_type": "code",
   "execution_count": 58,
   "id": "624cf4b1",
   "metadata": {},
   "outputs": [
    {
     "name": "stdout",
     "output_type": "stream",
     "text": [
      "Hibrid sa težinama: \t predviđena ocena: 4.56250 \t greška: -0.43750\n"
     ]
    }
   ],
   "source": [
    "pred_weighted, error_weighted, true_rating = predict_weighted(ratings_all, items_all, user_id=5702, item_id=163)\n",
    "print(\"Hibrid sa težinama: \\t predviđena ocena: {:.5f} \\t greška: {:.5f}\".format(pred_weighted, error_weighted))"
   ]
  },
  {
   "cell_type": "code",
   "execution_count": null,
   "id": "8650c2be",
   "metadata": {},
   "outputs": [],
   "source": []
  },
  {
   "cell_type": "code",
   "execution_count": null,
   "id": "82298e08",
   "metadata": {},
   "outputs": [],
   "source": []
  },
  {
   "cell_type": "code",
   "execution_count": 53,
   "id": "93c016f0",
   "metadata": {},
   "outputs": [],
   "source": [
    "def predict_switching(ratings, items, user_id, item_id):\n",
    "    \n",
    "    # Odabir modela (sistema preporuka) je izvršen na osnovu\n",
    "    # broja ocena koje su dostupne za datu stavku.\n",
    "    \n",
    "    num_ratings = len(ratings[ratings['itemID'] == item_id])\n",
    "    if num_ratings > 3:\n",
    "        print('Korišćenjem sistema zasnovanog na uzajamnom filtriranju')\n",
    "        return predict_cf(ratings, user_id, item_id)\n",
    "    else:\n",
    "        print('Korišćenjem sistema zasnovanog na sadržaju')\n",
    "        return predict_cn(ratings, items, user_id, item_id)"
   ]
  },
  {
   "cell_type": "code",
   "execution_count": 59,
   "id": "ea4dcac6",
   "metadata": {},
   "outputs": [
    {
     "name": "stdout",
     "output_type": "stream",
     "text": [
      "Korišćenjem sistema zasnovanog na uzajamnom filtriranju\n",
      "Hibrid sa smenjivanjem: \t predviđena ocena: 4.12500 \t greška: -0.87500\n"
     ]
    }
   ],
   "source": [
    "pred, error, true_rating = predict_switching(ratings_all, items_all, user_id=5702, item_id=163)\n",
    "print(\"Hibrid sa smenjivanjem: \\t predviđena ocena: {:.5f} \\t greška: {:.5f}\".format(pred, error))"
   ]
  },
  {
   "cell_type": "code",
   "execution_count": 103,
   "id": "321df6b2",
   "metadata": {},
   "outputs": [],
   "source": [
    "# Provera da li postoje bar dva reda u dataframe-u sa korisnikom ciji je user_id = 3958\n",
    "# ratings_all[ratings_all['userID'] == 3958]"
   ]
  },
  {
   "cell_type": "code",
   "execution_count": 104,
   "id": "f0c0a9bf",
   "metadata": {},
   "outputs": [],
   "source": [
    "# Provera da li postoje bar dva reda u dataframe-u sa stavkom ciji je item_id = 16\n",
    "# ratings_all[ratings_all['itemID'] == 106]"
   ]
  },
  {
   "cell_type": "code",
   "execution_count": null,
   "id": "c2a77b03",
   "metadata": {},
   "outputs": [],
   "source": [
    "# items_all[items_all['itemID'] == 106]"
   ]
  },
  {
   "cell_type": "code",
   "execution_count": 60,
   "id": "89a4450e",
   "metadata": {},
   "outputs": [
    {
     "name": "stdout",
     "output_type": "stream",
     "text": [
      "Korišćenjem sistema zasnovanog na sadržaju\n",
      "Hibrid sa smenjivanjem: \t predviđena ocena: 2.00000 \t greška: -3.00000\n"
     ]
    }
   ],
   "source": [
    "pred, error, true_rating = predict_switching(ratings_all, items_all, user_id=3958, item_id=106)\n",
    "print(\"Hibrid sa smenjivanjem: \\t predviđena ocena: {:.5f} \\t greška: {:.5f}\".format(pred, error))"
   ]
  },
  {
   "cell_type": "code",
   "execution_count": null,
   "id": "65d4c55e",
   "metadata": {},
   "outputs": [],
   "source": []
  },
  {
   "cell_type": "code",
   "execution_count": null,
   "id": "789cc339",
   "metadata": {},
   "outputs": [],
   "source": [
    "# Hibridni sistem sa težinama daje dobre rezultate.\n",
    "\n",
    "# Što se tiče hibridnog sistema sa smenjivanjem,\n",
    "# izrazito bolje rezultate daje model zasnovan na uzajamnom filtriranju."
   ]
  },
  {
   "cell_type": "code",
   "execution_count": null,
   "id": "d0bbe7b2",
   "metadata": {},
   "outputs": [],
   "source": []
  },
  {
   "cell_type": "code",
   "execution_count": null,
   "id": "feb5d780",
   "metadata": {},
   "outputs": [],
   "source": []
  }
 ],
 "metadata": {
  "kernelspec": {
   "display_name": "Python 3 (ipykernel)",
   "language": "python",
   "name": "python3"
  },
  "language_info": {
   "codemirror_mode": {
    "name": "ipython",
    "version": 3
   },
   "file_extension": ".py",
   "mimetype": "text/x-python",
   "name": "python",
   "nbconvert_exporter": "python",
   "pygments_lexer": "ipython3",
   "version": "3.8.10"
  }
 },
 "nbformat": 4,
 "nbformat_minor": 5
}
