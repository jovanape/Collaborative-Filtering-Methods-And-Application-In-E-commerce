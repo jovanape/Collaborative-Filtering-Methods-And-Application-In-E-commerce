{
 "cells": [
  {
   "cell_type": "code",
   "execution_count": 2,
   "id": "b54a842a",
   "metadata": {},
   "outputs": [],
   "source": [
    "#pip install plotly"
   ]
  },
  {
   "cell_type": "code",
   "execution_count": 3,
   "id": "33629e06",
   "metadata": {},
   "outputs": [],
   "source": [
    "#pip install -U kaleido"
   ]
  },
  {
   "cell_type": "markdown",
   "id": "d33a31a3",
   "metadata": {},
   "source": [
    "### Učitavanje biblioteka"
   ]
  },
  {
   "cell_type": "code",
   "execution_count": 4,
   "id": "436cdaf0",
   "metadata": {},
   "outputs": [],
   "source": [
    "# Biblioteke za pripremu podataka i vizualizaciju\n",
    "import numpy as np\n",
    "import pandas as pd\n",
    "import matplotlib.pyplot as plt\n",
    "import plotly.offline as py\n",
    "import plotly.graph_objs as go\n",
    "import plotly.io as pio\n",
    "pio.renderers.default = \"png\"\n",
    "\n",
    "# pip install scikit-surprise\n",
    "# Importovanje biblioteka za kreiranje modela i evaluaciju\n",
    "from sklearn.model_selection import train_test_split\n",
    "from surprise import Reader, Dataset\n",
    "from surprise.model_selection import train_test_split, cross_validate, GridSearchCV\n",
    "from surprise import KNNBasic, KNNWithMeans, KNNWithZScore, KNNBaseline, SVD\n",
    "from surprise import accuracy"
   ]
  },
  {
   "cell_type": "markdown",
   "id": "850a0a89",
   "metadata": {},
   "source": [
    "### Učitavanje skupa podataka i pretprocesiranje"
   ]
  },
  {
   "cell_type": "code",
   "execution_count": 5,
   "id": "eeda6dd6",
   "metadata": {},
   "outputs": [
    {
     "name": "stderr",
     "output_type": "stream",
     "text": [
      "/tmp/ipykernel_20567/837364138.py:4: FutureWarning:\n",
      "\n",
      "The error_bad_lines argument has been deprecated and will be removed in a future version. Use on_bad_lines in the future.\n",
      "\n",
      "\n",
      "\n",
      "/tmp/ipykernel_20567/837364138.py:4: FutureWarning:\n",
      "\n",
      "The warn_bad_lines argument has been deprecated and will be removed in a future version. Use on_bad_lines in the future.\n",
      "\n",
      "\n",
      "\n",
      "/tmp/ipykernel_20567/837364138.py:4: DtypeWarning:\n",
      "\n",
      "Columns (149,150,151,152,153,154,155,156,157,158,159,160,161,230,231,232,242,243,244,247,248,249,250,251,252,253,254,255,256,257,258,259,260,261,262,263,264,265,266,267,268,269,270,271,272,275,276,277,278,279,280,281,282,283,284,285,286,287,288,289,290,291,292,293,294,295,296,297,298,299,300,301,302,303,304,305,306,307,308,309,310,311,312,313,314,315,316,317,318,319,320,321,322,323,324,325,326,327,328,329,330,331,332,333,334,335,336,337,338,339,340,341,342,343,344,345,346,347,348,349,350,351,352,353,354,355,356,358,360,361,362,363,364,365,366,367,368,369,370,371,373,374,375,376,377,378,379,380,381,382,383,384,386,392,393,394,395,396,397,398,399,400,401,402,403,404,405,406,407,408,409,410,411,412,413,414,415,416,417,418,419,420,421,422,423,424,426,427,428,429,430,431,432,433,435,436,437,438,440,441,442,443,444,445,447,448) have mixed types. Specify dtype option on import or set low_memory=False.\n",
      "\n",
      "/tmp/ipykernel_20567/837364138.py:4: FutureWarning:\n",
      "\n",
      "The error_bad_lines argument has been deprecated and will be removed in a future version. Use on_bad_lines in the future.\n",
      "\n",
      "\n",
      "\n",
      "/tmp/ipykernel_20567/837364138.py:4: FutureWarning:\n",
      "\n",
      "The warn_bad_lines argument has been deprecated and will be removed in a future version. Use on_bad_lines in the future.\n",
      "\n",
      "\n",
      "\n"
     ]
    }
   ],
   "source": [
    "# Učitavanje skupa podataka\n",
    "\n",
    "def loaddata(filename):\n",
    "    df = pd.read_csv(f'{filename}.csv',sep=',',error_bad_lines=False, warn_bad_lines=False, encoding='latin-1')\n",
    "    return df\n",
    "\n",
    "amazon_data = loaddata('skup_amazon/fashionMeta')\n",
    "data = loaddata('skup_amazon/fashion')"
   ]
  },
  {
   "cell_type": "code",
   "execution_count": 17,
   "id": "b945ace6",
   "metadata": {},
   "outputs": [
    {
     "data": {
      "text/html": [
       "<div>\n",
       "<style scoped>\n",
       "    .dataframe tbody tr th:only-of-type {\n",
       "        vertical-align: middle;\n",
       "    }\n",
       "\n",
       "    .dataframe tbody tr th {\n",
       "        vertical-align: top;\n",
       "    }\n",
       "\n",
       "    .dataframe thead th {\n",
       "        text-align: right;\n",
       "    }\n",
       "</style>\n",
       "<table border=\"1\" class=\"dataframe\">\n",
       "  <thead>\n",
       "    <tr style=\"text-align: right;\">\n",
       "      <th></th>\n",
       "      <th>title</th>\n",
       "      <th>brand</th>\n",
       "      <th>feature/0</th>\n",
       "      <th>feature/1</th>\n",
       "      <th>rank</th>\n",
       "      <th>date</th>\n",
       "      <th>asin</th>\n",
       "      <th>imageURL/0</th>\n",
       "      <th>imageURLHighRes/0</th>\n",
       "      <th>imageURL/1</th>\n",
       "      <th>...</th>\n",
       "      <th>similar_item/4/features/Item Weight</th>\n",
       "      <th>similar_item/4/features/Size</th>\n",
       "      <th>similar_item/4/features/character</th>\n",
       "      <th>similar_item/5/features/Color</th>\n",
       "      <th>similar_item/5/features/Item Dimensions</th>\n",
       "      <th>similar_item/5/features/Item Weight</th>\n",
       "      <th>similar_item/5/features/Size</th>\n",
       "      <th>similar_item/5/features/character</th>\n",
       "      <th>tech1/Folding</th>\n",
       "      <th>tech1/Item Dimensions  L x W x H</th>\n",
       "    </tr>\n",
       "  </thead>\n",
       "  <tbody>\n",
       "    <tr>\n",
       "      <th>0</th>\n",
       "      <td>Slime Time Fall Fest [With CDROM and Collector...</td>\n",
       "      <td>Group Publishing (CO)</td>\n",
       "      <td>Product Dimensions:\\n                    \\n8.7...</td>\n",
       "      <td>Shipping Weight:\\n                    \\n2.4 po...</td>\n",
       "      <td>13,052,976inClothing,Shoesamp;Jewelry(</td>\n",
       "      <td>8.70 inches</td>\n",
       "      <td>0764443682</td>\n",
       "      <td>https://images-na.ssl-images-amazon.com/images...</td>\n",
       "      <td>https://images-na.ssl-images-amazon.com/images...</td>\n",
       "      <td>NaN</td>\n",
       "      <td>...</td>\n",
       "      <td>NaN</td>\n",
       "      <td>NaN</td>\n",
       "      <td>NaN</td>\n",
       "      <td>NaN</td>\n",
       "      <td>NaN</td>\n",
       "      <td>NaN</td>\n",
       "      <td>NaN</td>\n",
       "      <td>NaN</td>\n",
       "      <td>NaN</td>\n",
       "      <td>NaN</td>\n",
       "    </tr>\n",
       "    <tr>\n",
       "      <th>1</th>\n",
       "      <td>XCC Qi promise new spider snake preparing men'...</td>\n",
       "      <td>NaN</td>\n",
       "      <td>NaN</td>\n",
       "      <td>NaN</td>\n",
       "      <td>11,654,581inClothing,Shoesamp;Jewelry(</td>\n",
       "      <td>5 star</td>\n",
       "      <td>1291691480</td>\n",
       "      <td>https://images-na.ssl-images-amazon.com/images...</td>\n",
       "      <td>https://images-na.ssl-images-amazon.com/images...</td>\n",
       "      <td>https://images-na.ssl-images-amazon.com/images...</td>\n",
       "      <td>...</td>\n",
       "      <td>NaN</td>\n",
       "      <td>NaN</td>\n",
       "      <td>NaN</td>\n",
       "      <td>NaN</td>\n",
       "      <td>NaN</td>\n",
       "      <td>NaN</td>\n",
       "      <td>NaN</td>\n",
       "      <td>NaN</td>\n",
       "      <td>NaN</td>\n",
       "      <td>NaN</td>\n",
       "    </tr>\n",
       "    <tr>\n",
       "      <th>2</th>\n",
       "      <td>Magical Things I Really Do Do Too!</td>\n",
       "      <td>Christopher Manos</td>\n",
       "      <td>Package Dimensions:\\n                    \\n8.5...</td>\n",
       "      <td>Shipping Weight:\\n                    \\n6.1 ou...</td>\n",
       "      <td>19,308,073inClothing,ShoesJewelry(</td>\n",
       "      <td>5 star</td>\n",
       "      <td>1940280001</td>\n",
       "      <td>https://images-na.ssl-images-amazon.com/images...</td>\n",
       "      <td>https://images-na.ssl-images-amazon.com/images...</td>\n",
       "      <td>https://images-na.ssl-images-amazon.com/images...</td>\n",
       "      <td>...</td>\n",
       "      <td>NaN</td>\n",
       "      <td>NaN</td>\n",
       "      <td>NaN</td>\n",
       "      <td>NaN</td>\n",
       "      <td>NaN</td>\n",
       "      <td>NaN</td>\n",
       "      <td>NaN</td>\n",
       "      <td>NaN</td>\n",
       "      <td>NaN</td>\n",
       "      <td>NaN</td>\n",
       "    </tr>\n",
       "  </tbody>\n",
       "</table>\n",
       "<p>3 rows × 449 columns</p>\n",
       "</div>"
      ],
      "text/plain": [
       "                                               title                  brand  \\\n",
       "0  Slime Time Fall Fest [With CDROM and Collector...  Group Publishing (CO)   \n",
       "1  XCC Qi promise new spider snake preparing men'...                    NaN   \n",
       "2                 Magical Things I Really Do Do Too!      Christopher Manos   \n",
       "\n",
       "                                           feature/0  \\\n",
       "0  Product Dimensions:\\n                    \\n8.7...   \n",
       "1                                                NaN   \n",
       "2  Package Dimensions:\\n                    \\n8.5...   \n",
       "\n",
       "                                           feature/1  \\\n",
       "0  Shipping Weight:\\n                    \\n2.4 po...   \n",
       "1                                                NaN   \n",
       "2  Shipping Weight:\\n                    \\n6.1 ou...   \n",
       "\n",
       "                                     rank         date        asin  \\\n",
       "0  13,052,976inClothing,Shoesamp;Jewelry(  8.70 inches  0764443682   \n",
       "1  11,654,581inClothing,Shoesamp;Jewelry(       5 star  1291691480   \n",
       "2      19,308,073inClothing,ShoesJewelry(       5 star  1940280001   \n",
       "\n",
       "                                          imageURL/0  \\\n",
       "0  https://images-na.ssl-images-amazon.com/images...   \n",
       "1  https://images-na.ssl-images-amazon.com/images...   \n",
       "2  https://images-na.ssl-images-amazon.com/images...   \n",
       "\n",
       "                                   imageURLHighRes/0  \\\n",
       "0  https://images-na.ssl-images-amazon.com/images...   \n",
       "1  https://images-na.ssl-images-amazon.com/images...   \n",
       "2  https://images-na.ssl-images-amazon.com/images...   \n",
       "\n",
       "                                          imageURL/1  ...  \\\n",
       "0                                                NaN  ...   \n",
       "1  https://images-na.ssl-images-amazon.com/images...  ...   \n",
       "2  https://images-na.ssl-images-amazon.com/images...  ...   \n",
       "\n",
       "  similar_item/4/features/Item Weight similar_item/4/features/Size  \\\n",
       "0                                 NaN                          NaN   \n",
       "1                                 NaN                          NaN   \n",
       "2                                 NaN                          NaN   \n",
       "\n",
       "  similar_item/4/features/character similar_item/5/features/Color  \\\n",
       "0                               NaN                           NaN   \n",
       "1                               NaN                           NaN   \n",
       "2                               NaN                           NaN   \n",
       "\n",
       "  similar_item/5/features/Item Dimensions similar_item/5/features/Item Weight  \\\n",
       "0                                     NaN                                 NaN   \n",
       "1                                     NaN                                 NaN   \n",
       "2                                     NaN                                 NaN   \n",
       "\n",
       "  similar_item/5/features/Size similar_item/5/features/character  \\\n",
       "0                          NaN                               NaN   \n",
       "1                          NaN                               NaN   \n",
       "2                          NaN                               NaN   \n",
       "\n",
       "  tech1/Folding tech1/Item Dimensions  L x W x H  \n",
       "0           NaN                              NaN  \n",
       "1           NaN                              NaN  \n",
       "2           NaN                              NaN  \n",
       "\n",
       "[3 rows x 449 columns]"
      ]
     },
     "execution_count": 17,
     "metadata": {},
     "output_type": "execute_result"
    }
   ],
   "source": [
    "amazon_data.head(3)"
   ]
  },
  {
   "cell_type": "code",
   "execution_count": 18,
   "id": "df3c778a",
   "metadata": {},
   "outputs": [
    {
     "data": {
      "text/plain": [
       "(19999, 449)"
      ]
     },
     "execution_count": 18,
     "metadata": {},
     "output_type": "execute_result"
    }
   ],
   "source": [
    "amazon_data.shape"
   ]
  },
  {
   "cell_type": "code",
   "execution_count": 7,
   "id": "50d6824a",
   "metadata": {},
   "outputs": [
    {
     "data": {
      "text/html": [
       "<div>\n",
       "<style scoped>\n",
       "    .dataframe tbody tr th:only-of-type {\n",
       "        vertical-align: middle;\n",
       "    }\n",
       "\n",
       "    .dataframe tbody tr th {\n",
       "        vertical-align: top;\n",
       "    }\n",
       "\n",
       "    .dataframe thead th {\n",
       "        text-align: right;\n",
       "    }\n",
       "</style>\n",
       "<table border=\"1\" class=\"dataframe\">\n",
       "  <thead>\n",
       "    <tr style=\"text-align: right;\">\n",
       "      <th></th>\n",
       "      <th>overall</th>\n",
       "      <th>verified</th>\n",
       "      <th>reviewTime</th>\n",
       "      <th>reviewerID</th>\n",
       "      <th>asin</th>\n",
       "      <th>reviewerName</th>\n",
       "      <th>reviewText</th>\n",
       "      <th>summary</th>\n",
       "      <th>unixReviewTime</th>\n",
       "      <th>vote</th>\n",
       "      <th>...</th>\n",
       "      <th>image/6</th>\n",
       "      <th>image/7</th>\n",
       "      <th>image/8</th>\n",
       "      <th>image/9</th>\n",
       "      <th>image/10</th>\n",
       "      <th>image/11</th>\n",
       "      <th>image/12</th>\n",
       "      <th>image/13</th>\n",
       "      <th>style/Size Name:</th>\n",
       "      <th>style/Style:</th>\n",
       "    </tr>\n",
       "  </thead>\n",
       "  <tbody>\n",
       "    <tr>\n",
       "      <th>0</th>\n",
       "      <td>5</td>\n",
       "      <td>True</td>\n",
       "      <td>10 20, 2014</td>\n",
       "      <td>A1D4G1SNUZWQOT</td>\n",
       "      <td>7106116521</td>\n",
       "      <td>Tracy</td>\n",
       "      <td>Exactly what I needed.</td>\n",
       "      <td>perfect replacements!!</td>\n",
       "      <td>1413763200</td>\n",
       "      <td>NaN</td>\n",
       "      <td>...</td>\n",
       "      <td>NaN</td>\n",
       "      <td>NaN</td>\n",
       "      <td>NaN</td>\n",
       "      <td>NaN</td>\n",
       "      <td>NaN</td>\n",
       "      <td>NaN</td>\n",
       "      <td>NaN</td>\n",
       "      <td>NaN</td>\n",
       "      <td>NaN</td>\n",
       "      <td>NaN</td>\n",
       "    </tr>\n",
       "    <tr>\n",
       "      <th>1</th>\n",
       "      <td>2</td>\n",
       "      <td>True</td>\n",
       "      <td>09 28, 2014</td>\n",
       "      <td>A3DDWDH9PX2YX2</td>\n",
       "      <td>7106116521</td>\n",
       "      <td>Sonja Lau</td>\n",
       "      <td>I agree with the other review, the opening is ...</td>\n",
       "      <td>I agree with the other review, the opening is ...</td>\n",
       "      <td>1411862400</td>\n",
       "      <td>3.0</td>\n",
       "      <td>...</td>\n",
       "      <td>NaN</td>\n",
       "      <td>NaN</td>\n",
       "      <td>NaN</td>\n",
       "      <td>NaN</td>\n",
       "      <td>NaN</td>\n",
       "      <td>NaN</td>\n",
       "      <td>NaN</td>\n",
       "      <td>NaN</td>\n",
       "      <td>NaN</td>\n",
       "      <td>NaN</td>\n",
       "    </tr>\n",
       "    <tr>\n",
       "      <th>2</th>\n",
       "      <td>4</td>\n",
       "      <td>False</td>\n",
       "      <td>08 25, 2014</td>\n",
       "      <td>A2MWC41EW7XL15</td>\n",
       "      <td>7106116521</td>\n",
       "      <td>Kathleen</td>\n",
       "      <td>Love these... I am going to order another pack...</td>\n",
       "      <td>My New 'Friends' !!</td>\n",
       "      <td>1408924800</td>\n",
       "      <td>NaN</td>\n",
       "      <td>...</td>\n",
       "      <td>NaN</td>\n",
       "      <td>NaN</td>\n",
       "      <td>NaN</td>\n",
       "      <td>NaN</td>\n",
       "      <td>NaN</td>\n",
       "      <td>NaN</td>\n",
       "      <td>NaN</td>\n",
       "      <td>NaN</td>\n",
       "      <td>NaN</td>\n",
       "      <td>NaN</td>\n",
       "    </tr>\n",
       "  </tbody>\n",
       "</table>\n",
       "<p>3 rows × 29 columns</p>\n",
       "</div>"
      ],
      "text/plain": [
       "   overall  verified   reviewTime      reviewerID        asin reviewerName  \\\n",
       "0        5      True  10 20, 2014  A1D4G1SNUZWQOT  7106116521        Tracy   \n",
       "1        2      True  09 28, 2014  A3DDWDH9PX2YX2  7106116521    Sonja Lau   \n",
       "2        4     False  08 25, 2014  A2MWC41EW7XL15  7106116521     Kathleen   \n",
       "\n",
       "                                          reviewText  \\\n",
       "0                             Exactly what I needed.   \n",
       "1  I agree with the other review, the opening is ...   \n",
       "2  Love these... I am going to order another pack...   \n",
       "\n",
       "                                             summary  unixReviewTime  vote  \\\n",
       "0                             perfect replacements!!      1413763200   NaN   \n",
       "1  I agree with the other review, the opening is ...      1411862400   3.0   \n",
       "2                                My New 'Friends' !!      1408924800   NaN   \n",
       "\n",
       "   ... image/6 image/7 image/8 image/9 image/10 image/11 image/12 image/13  \\\n",
       "0  ...     NaN     NaN     NaN     NaN      NaN      NaN      NaN      NaN   \n",
       "1  ...     NaN     NaN     NaN     NaN      NaN      NaN      NaN      NaN   \n",
       "2  ...     NaN     NaN     NaN     NaN      NaN      NaN      NaN      NaN   \n",
       "\n",
       "  style/Size Name: style/Style:  \n",
       "0              NaN          NaN  \n",
       "1              NaN          NaN  \n",
       "2              NaN          NaN  \n",
       "\n",
       "[3 rows x 29 columns]"
      ]
     },
     "execution_count": 7,
     "metadata": {},
     "output_type": "execute_result"
    }
   ],
   "source": [
    "data.head(3)"
   ]
  },
  {
   "cell_type": "code",
   "execution_count": 19,
   "id": "6d57f721",
   "metadata": {},
   "outputs": [
    {
     "data": {
      "text/plain": [
       "(19999, 29)"
      ]
     },
     "execution_count": 19,
     "metadata": {},
     "output_type": "execute_result"
    }
   ],
   "source": [
    "data.shape"
   ]
  },
  {
   "cell_type": "code",
   "execution_count": null,
   "id": "3b4e4e4c",
   "metadata": {},
   "outputs": [],
   "source": []
  },
  {
   "cell_type": "code",
   "execution_count": 8,
   "id": "44044e73",
   "metadata": {},
   "outputs": [
    {
     "data": {
      "text/html": [
       "<div>\n",
       "<style scoped>\n",
       "    .dataframe tbody tr th:only-of-type {\n",
       "        vertical-align: middle;\n",
       "    }\n",
       "\n",
       "    .dataframe tbody tr th {\n",
       "        vertical-align: top;\n",
       "    }\n",
       "\n",
       "    .dataframe thead th {\n",
       "        text-align: right;\n",
       "    }\n",
       "</style>\n",
       "<table border=\"1\" class=\"dataframe\">\n",
       "  <thead>\n",
       "    <tr style=\"text-align: right;\">\n",
       "      <th></th>\n",
       "      <th>overall</th>\n",
       "      <th>reviewerID</th>\n",
       "      <th>asin</th>\n",
       "    </tr>\n",
       "  </thead>\n",
       "  <tbody>\n",
       "    <tr>\n",
       "      <th>0</th>\n",
       "      <td>5</td>\n",
       "      <td>A1D4G1SNUZWQOT</td>\n",
       "      <td>7106116521</td>\n",
       "    </tr>\n",
       "    <tr>\n",
       "      <th>1</th>\n",
       "      <td>2</td>\n",
       "      <td>A3DDWDH9PX2YX2</td>\n",
       "      <td>7106116521</td>\n",
       "    </tr>\n",
       "    <tr>\n",
       "      <th>2</th>\n",
       "      <td>4</td>\n",
       "      <td>A2MWC41EW7XL15</td>\n",
       "      <td>7106116521</td>\n",
       "    </tr>\n",
       "    <tr>\n",
       "      <th>3</th>\n",
       "      <td>2</td>\n",
       "      <td>A2UH2QQ275NV45</td>\n",
       "      <td>7106116521</td>\n",
       "    </tr>\n",
       "    <tr>\n",
       "      <th>4</th>\n",
       "      <td>3</td>\n",
       "      <td>A89F3LQADZBS5</td>\n",
       "      <td>7106116521</td>\n",
       "    </tr>\n",
       "    <tr>\n",
       "      <th>...</th>\n",
       "      <td>...</td>\n",
       "      <td>...</td>\n",
       "      <td>...</td>\n",
       "    </tr>\n",
       "    <tr>\n",
       "      <th>19994</th>\n",
       "      <td>5</td>\n",
       "      <td>A2I8U2L6ZOLPP9</td>\n",
       "      <td>B000P0X15G</td>\n",
       "    </tr>\n",
       "    <tr>\n",
       "      <th>19995</th>\n",
       "      <td>5</td>\n",
       "      <td>A38SLX4EMMLSTL</td>\n",
       "      <td>B000P0X15G</td>\n",
       "    </tr>\n",
       "    <tr>\n",
       "      <th>19996</th>\n",
       "      <td>5</td>\n",
       "      <td>A24NGH58L8CWDT</td>\n",
       "      <td>B000P0X15G</td>\n",
       "    </tr>\n",
       "    <tr>\n",
       "      <th>19997</th>\n",
       "      <td>5</td>\n",
       "      <td>A1NJ9OSQZOZB02</td>\n",
       "      <td>B000P0X15G</td>\n",
       "    </tr>\n",
       "    <tr>\n",
       "      <th>19998</th>\n",
       "      <td>5</td>\n",
       "      <td>A2Y39N7FDHEPNY</td>\n",
       "      <td>B000P0X15G</td>\n",
       "    </tr>\n",
       "  </tbody>\n",
       "</table>\n",
       "<p>19999 rows × 3 columns</p>\n",
       "</div>"
      ],
      "text/plain": [
       "       overall      reviewerID        asin\n",
       "0            5  A1D4G1SNUZWQOT  7106116521\n",
       "1            2  A3DDWDH9PX2YX2  7106116521\n",
       "2            4  A2MWC41EW7XL15  7106116521\n",
       "3            2  A2UH2QQ275NV45  7106116521\n",
       "4            3   A89F3LQADZBS5  7106116521\n",
       "...        ...             ...         ...\n",
       "19994        5  A2I8U2L6ZOLPP9  B000P0X15G\n",
       "19995        5  A38SLX4EMMLSTL  B000P0X15G\n",
       "19996        5  A24NGH58L8CWDT  B000P0X15G\n",
       "19997        5  A1NJ9OSQZOZB02  B000P0X15G\n",
       "19998        5  A2Y39N7FDHEPNY  B000P0X15G\n",
       "\n",
       "[19999 rows x 3 columns]"
      ]
     },
     "execution_count": 8,
     "metadata": {},
     "output_type": "execute_result"
    }
   ],
   "source": [
    "# Eliminisanje atributa koji nisu od značaja za dalju implementaciju\n",
    "\n",
    "rating = data.drop(['verified', 'reviewTime', 'reviewerName', 'reviewText', 'summary','unixReviewTime', 'vote', 'style/Color:', 'style/Size:', 'image/0', 'style/Metal Type:', 'image/1', 'image/2', 'image/3', 'image/4', 'image/5', 'image/6', 'image/7', 'image/8', 'image/9', 'image/10', 'image/11', 'image/12', 'image/13', 'style/Size Name:', 'style/Style:'], axis=1)\n",
    "rating"
   ]
  },
  {
   "cell_type": "code",
   "execution_count": 9,
   "id": "e48a7560",
   "metadata": {},
   "outputs": [
    {
     "data": {
      "text/plain": [
       "(1, 5)"
      ]
     },
     "execution_count": 9,
     "metadata": {},
     "output_type": "execute_result"
    }
   ],
   "source": [
    "# Minimalna i maksimalna ocena koji je korisnik dao proizvodu\n",
    "\n",
    "rating['overall'].min(), rating['overall'].max()"
   ]
  },
  {
   "cell_type": "code",
   "execution_count": 10,
   "id": "d93ce0f0",
   "metadata": {},
   "outputs": [
    {
     "data": {
      "text/plain": [
       "182"
      ]
     },
     "execution_count": 10,
     "metadata": {},
     "output_type": "execute_result"
    }
   ],
   "source": [
    "rating.duplicated().sum()"
   ]
  },
  {
   "cell_type": "code",
   "execution_count": 11,
   "id": "42d4f9b0",
   "metadata": {},
   "outputs": [
    {
     "data": {
      "text/html": [
       "<div>\n",
       "<style scoped>\n",
       "    .dataframe tbody tr th:only-of-type {\n",
       "        vertical-align: middle;\n",
       "    }\n",
       "\n",
       "    .dataframe tbody tr th {\n",
       "        vertical-align: top;\n",
       "    }\n",
       "\n",
       "    .dataframe thead th {\n",
       "        text-align: right;\n",
       "    }\n",
       "</style>\n",
       "<table border=\"1\" class=\"dataframe\">\n",
       "  <thead>\n",
       "    <tr style=\"text-align: right;\">\n",
       "      <th></th>\n",
       "      <th>overall</th>\n",
       "      <th>reviewerID</th>\n",
       "      <th>asin</th>\n",
       "    </tr>\n",
       "  </thead>\n",
       "  <tbody>\n",
       "    <tr>\n",
       "      <th>0</th>\n",
       "      <td>5</td>\n",
       "      <td>A1D4G1SNUZWQOT</td>\n",
       "      <td>7106116521</td>\n",
       "    </tr>\n",
       "    <tr>\n",
       "      <th>1</th>\n",
       "      <td>2</td>\n",
       "      <td>A3DDWDH9PX2YX2</td>\n",
       "      <td>7106116521</td>\n",
       "    </tr>\n",
       "    <tr>\n",
       "      <th>2</th>\n",
       "      <td>4</td>\n",
       "      <td>A2MWC41EW7XL15</td>\n",
       "      <td>7106116521</td>\n",
       "    </tr>\n",
       "    <tr>\n",
       "      <th>3</th>\n",
       "      <td>2</td>\n",
       "      <td>A2UH2QQ275NV45</td>\n",
       "      <td>7106116521</td>\n",
       "    </tr>\n",
       "    <tr>\n",
       "      <th>4</th>\n",
       "      <td>3</td>\n",
       "      <td>A89F3LQADZBS5</td>\n",
       "      <td>7106116521</td>\n",
       "    </tr>\n",
       "    <tr>\n",
       "      <th>...</th>\n",
       "      <td>...</td>\n",
       "      <td>...</td>\n",
       "      <td>...</td>\n",
       "    </tr>\n",
       "    <tr>\n",
       "      <th>19994</th>\n",
       "      <td>5</td>\n",
       "      <td>A2I8U2L6ZOLPP9</td>\n",
       "      <td>B000P0X15G</td>\n",
       "    </tr>\n",
       "    <tr>\n",
       "      <th>19995</th>\n",
       "      <td>5</td>\n",
       "      <td>A38SLX4EMMLSTL</td>\n",
       "      <td>B000P0X15G</td>\n",
       "    </tr>\n",
       "    <tr>\n",
       "      <th>19996</th>\n",
       "      <td>5</td>\n",
       "      <td>A24NGH58L8CWDT</td>\n",
       "      <td>B000P0X15G</td>\n",
       "    </tr>\n",
       "    <tr>\n",
       "      <th>19997</th>\n",
       "      <td>5</td>\n",
       "      <td>A1NJ9OSQZOZB02</td>\n",
       "      <td>B000P0X15G</td>\n",
       "    </tr>\n",
       "    <tr>\n",
       "      <th>19998</th>\n",
       "      <td>5</td>\n",
       "      <td>A2Y39N7FDHEPNY</td>\n",
       "      <td>B000P0X15G</td>\n",
       "    </tr>\n",
       "  </tbody>\n",
       "</table>\n",
       "<p>19817 rows × 3 columns</p>\n",
       "</div>"
      ],
      "text/plain": [
       "       overall      reviewerID        asin\n",
       "0            5  A1D4G1SNUZWQOT  7106116521\n",
       "1            2  A3DDWDH9PX2YX2  7106116521\n",
       "2            4  A2MWC41EW7XL15  7106116521\n",
       "3            2  A2UH2QQ275NV45  7106116521\n",
       "4            3   A89F3LQADZBS5  7106116521\n",
       "...        ...             ...         ...\n",
       "19994        5  A2I8U2L6ZOLPP9  B000P0X15G\n",
       "19995        5  A38SLX4EMMLSTL  B000P0X15G\n",
       "19996        5  A24NGH58L8CWDT  B000P0X15G\n",
       "19997        5  A1NJ9OSQZOZB02  B000P0X15G\n",
       "19998        5  A2Y39N7FDHEPNY  B000P0X15G\n",
       "\n",
       "[19817 rows x 3 columns]"
      ]
     },
     "execution_count": 11,
     "metadata": {},
     "output_type": "execute_result"
    }
   ],
   "source": [
    "# Eliminisanjje duplikata\n",
    "\n",
    "rating.drop_duplicates(inplace=True)\n",
    "rating"
   ]
  },
  {
   "cell_type": "code",
   "execution_count": 12,
   "id": "cb6d6c51",
   "metadata": {},
   "outputs": [
    {
     "data": {
      "text/plain": [
       "(19817, 3)"
      ]
     },
     "execution_count": 12,
     "metadata": {},
     "output_type": "execute_result"
    }
   ],
   "source": [
    "rating.shape"
   ]
  },
  {
   "cell_type": "code",
   "execution_count": 13,
   "id": "5479b1e2",
   "metadata": {},
   "outputs": [
    {
     "data": {
      "text/plain": [
       "0"
      ]
     },
     "execution_count": 13,
     "metadata": {},
     "output_type": "execute_result"
    }
   ],
   "source": [
    "rating.duplicated().sum()"
   ]
  },
  {
   "cell_type": "code",
   "execution_count": 15,
   "id": "f6505c82",
   "metadata": {},
   "outputs": [
    {
     "data": {
      "text/plain": [
       "Int64Index([5, 4, 3, 1, 2], dtype='int64')"
      ]
     },
     "execution_count": 15,
     "metadata": {},
     "output_type": "execute_result"
    }
   ],
   "source": [
    "rating_types = rating['overall'].value_counts()\n",
    "rating_types.index"
   ]
  },
  {
   "cell_type": "code",
   "execution_count": 16,
   "id": "117dfcb1",
   "metadata": {},
   "outputs": [
    {
     "data": {
      "text/plain": [
       "array([12549,  3587,  1639,  1071,   971])"
      ]
     },
     "execution_count": 16,
     "metadata": {},
     "output_type": "execute_result"
    }
   ],
   "source": [
    "rating_types.values"
   ]
  },
  {
   "cell_type": "code",
   "execution_count": 13,
   "id": "ae65f6bb",
   "metadata": {},
   "outputs": [
    {
     "data": {
      "image/png": "[encoded data removed]",
      "text/plain": [
       "<Figure size 720x360 with 1 Axes>"
      ]
     },
     "metadata": {
      "needs_background": "light"
     },
     "output_type": "display_data"
    }
   ],
   "source": [
    "# Vizuelni prikaz koliko je kojih ocena dato od strane korisnika\n",
    "\n",
    "rating_types = rating['overall'].value_counts()\n",
    "\n",
    "fig = plt.figure(figsize = (10, 5))\n",
    "plt.bar(rating_types.index, rating_types.values, color ='maroon', width = 0.4)\n",
    "\n",
    "\n",
    "plt.xlabel(\"Ocene\")\n",
    "plt.ylabel(\"Broj ocena\")\n",
    "plt.title(\"Ocenjivanje proizvoda\")\n",
    "plt.show()"
   ]
  },
  {
   "cell_type": "code",
   "execution_count": 14,
   "id": "a10abb4d",
   "metadata": {},
   "outputs": [
    {
     "data": {
      "image/png": "[encoded data removed]",
      "text/plain": [
       "<Figure size 432x288 with 1 Axes>"
      ]
     },
     "metadata": {
      "needs_background": "light"
     },
     "output_type": "display_data"
    }
   ],
   "source": [
    "rating_users = rating['reviewerID'].value_counts().reset_index().\\\n",
    "               rename({'index':'reviewerID','reviewerID':'rating'}, axis=1)\n",
    "\n",
    "plt.scatter(x=rating_users.index, y=rating_users['rating'], c=\"blue\")\n",
    "\n",
    "\n",
    "plt.xlabel(\"Korisnik\")\n",
    "plt.ylabel(\"Broj ocena\")\n",
    "plt.title(\"Broj ocena po korisniku\")\n",
    "plt.show()"
   ]
  },
  {
   "cell_type": "code",
   "execution_count": 15,
   "id": "8cbff9cc",
   "metadata": {},
   "outputs": [
    {
     "data": {
      "image/png": "[encoded data removed]",
      "text/plain": [
       "<Figure size 432x288 with 1 Axes>"
      ]
     },
     "metadata": {
      "needs_background": "light"
     },
     "output_type": "display_data"
    }
   ],
   "source": [
    "rating_products = rating['asin'].value_counts().reset_index().\\\n",
    "               rename({'Index':'asin','asin':'rating'}, axis=1)\n",
    "\n",
    "plt.scatter(x = rating_products.index, y= rating_products['rating'], c=\"blue\")\n",
    "\n",
    "\n",
    "plt.xlabel(\"Proizvod\")\n",
    "plt.ylabel(\"Ocene\")\n",
    "plt.title(\"Ocene date po proizvodu\")\n",
    "plt.show()"
   ]
  },
  {
   "cell_type": "code",
   "execution_count": 16,
   "id": "3005aebe",
   "metadata": {},
   "outputs": [
    {
     "data": {
      "text/html": [
       "<div>\n",
       "<style scoped>\n",
       "    .dataframe tbody tr th:only-of-type {\n",
       "        vertical-align: middle;\n",
       "    }\n",
       "\n",
       "    .dataframe tbody tr th {\n",
       "        vertical-align: top;\n",
       "    }\n",
       "\n",
       "    .dataframe thead th {\n",
       "        text-align: right;\n",
       "    }\n",
       "</style>\n",
       "<table border=\"1\" class=\"dataframe\">\n",
       "  <thead>\n",
       "    <tr style=\"text-align: right;\">\n",
       "      <th></th>\n",
       "      <th>overall</th>\n",
       "      <th>reviewerID</th>\n",
       "      <th>asin</th>\n",
       "    </tr>\n",
       "  </thead>\n",
       "  <tbody>\n",
       "    <tr>\n",
       "      <th>406</th>\n",
       "      <td>5</td>\n",
       "      <td>AVH1YOFM8WG9W</td>\n",
       "      <td>B00062NHH0</td>\n",
       "    </tr>\n",
       "    <tr>\n",
       "      <th>480</th>\n",
       "      <td>4</td>\n",
       "      <td>A39ZXN06R8UBQ0</td>\n",
       "      <td>B00062NHH0</td>\n",
       "    </tr>\n",
       "    <tr>\n",
       "      <th>840</th>\n",
       "      <td>5</td>\n",
       "      <td>A174NYS7K8Q24K</td>\n",
       "      <td>B00062NHH0</td>\n",
       "    </tr>\n",
       "    <tr>\n",
       "      <th>860</th>\n",
       "      <td>4</td>\n",
       "      <td>A1I32A4YCT5ITX</td>\n",
       "      <td>B00062NHH0</td>\n",
       "    </tr>\n",
       "    <tr>\n",
       "      <th>867</th>\n",
       "      <td>5</td>\n",
       "      <td>A1I32A4YCT5ITX</td>\n",
       "      <td>B00062NHH0</td>\n",
       "    </tr>\n",
       "    <tr>\n",
       "      <th>...</th>\n",
       "      <td>...</td>\n",
       "      <td>...</td>\n",
       "      <td>...</td>\n",
       "    </tr>\n",
       "    <tr>\n",
       "      <th>18161</th>\n",
       "      <td>5</td>\n",
       "      <td>AVH1YOFM8WG9W</td>\n",
       "      <td>B000OI56VG</td>\n",
       "    </tr>\n",
       "    <tr>\n",
       "      <th>18462</th>\n",
       "      <td>4</td>\n",
       "      <td>AFGGH4YX5U2R1</td>\n",
       "      <td>B000P0X15G</td>\n",
       "    </tr>\n",
       "    <tr>\n",
       "      <th>18735</th>\n",
       "      <td>4</td>\n",
       "      <td>A2ZN3Z5U9TV4C</td>\n",
       "      <td>B000P0X15G</td>\n",
       "    </tr>\n",
       "    <tr>\n",
       "      <th>19311</th>\n",
       "      <td>3</td>\n",
       "      <td>A35KNTHJO9Q3YE</td>\n",
       "      <td>B000P0X15G</td>\n",
       "    </tr>\n",
       "    <tr>\n",
       "      <th>19407</th>\n",
       "      <td>4</td>\n",
       "      <td>A1KPFFU7NOVNCY</td>\n",
       "      <td>B000P0X15G</td>\n",
       "    </tr>\n",
       "  </tbody>\n",
       "</table>\n",
       "<p>2937 rows × 3 columns</p>\n",
       "</div>"
      ],
      "text/plain": [
       "       overall      reviewerID        asin\n",
       "406          5   AVH1YOFM8WG9W  B00062NHH0\n",
       "480          4  A39ZXN06R8UBQ0  B00062NHH0\n",
       "840          5  A174NYS7K8Q24K  B00062NHH0\n",
       "860          4  A1I32A4YCT5ITX  B00062NHH0\n",
       "867          5  A1I32A4YCT5ITX  B00062NHH0\n",
       "...        ...             ...         ...\n",
       "18161        5   AVH1YOFM8WG9W  B000OI56VG\n",
       "18462        4   AFGGH4YX5U2R1  B000P0X15G\n",
       "18735        4   A2ZN3Z5U9TV4C  B000P0X15G\n",
       "19311        3  A35KNTHJO9Q3YE  B000P0X15G\n",
       "19407        4  A1KPFFU7NOVNCY  B000P0X15G\n",
       "\n",
       "[2937 rows x 3 columns]"
      ]
     },
     "execution_count": 16,
     "metadata": {},
     "output_type": "execute_result"
    }
   ],
   "source": [
    "rating = rating[rating['reviewerID'].isin(rating_users[rating_users['rating']>1]['reviewerID'])]\n",
    "rating = rating[rating['asin'].isin(rating_products[rating_products['rating']>250]['index'])]\n",
    "\n",
    "rating"
   ]
  },
  {
   "cell_type": "code",
   "execution_count": 17,
   "id": "38eb035e",
   "metadata": {},
   "outputs": [
    {
     "data": {
      "text/html": [
       "<div>\n",
       "<style scoped>\n",
       "    .dataframe tbody tr th:only-of-type {\n",
       "        vertical-align: middle;\n",
       "    }\n",
       "\n",
       "    .dataframe tbody tr th {\n",
       "        vertical-align: top;\n",
       "    }\n",
       "\n",
       "    .dataframe thead th {\n",
       "        text-align: right;\n",
       "    }\n",
       "</style>\n",
       "<table border=\"1\" class=\"dataframe\">\n",
       "  <thead>\n",
       "    <tr style=\"text-align: right;\">\n",
       "      <th></th>\n",
       "      <th>reviewerID</th>\n",
       "      <th>title</th>\n",
       "      <th>overall</th>\n",
       "    </tr>\n",
       "  </thead>\n",
       "  <tbody>\n",
       "    <tr>\n",
       "      <th>0</th>\n",
       "      <td>AVH1YOFM8WG9W</td>\n",
       "      <td>Calvin Klein Men's 3-Pack Classic V-Neck T-Shirt</td>\n",
       "      <td>5</td>\n",
       "    </tr>\n",
       "    <tr>\n",
       "      <th>1</th>\n",
       "      <td>A39ZXN06R8UBQ0</td>\n",
       "      <td>Calvin Klein Men's 3-Pack Classic V-Neck T-Shirt</td>\n",
       "      <td>4</td>\n",
       "    </tr>\n",
       "    <tr>\n",
       "      <th>2</th>\n",
       "      <td>A174NYS7K8Q24K</td>\n",
       "      <td>Calvin Klein Men's 3-Pack Classic V-Neck T-Shirt</td>\n",
       "      <td>5</td>\n",
       "    </tr>\n",
       "    <tr>\n",
       "      <th>3</th>\n",
       "      <td>A1I32A4YCT5ITX</td>\n",
       "      <td>Calvin Klein Men's 3-Pack Classic V-Neck T-Shirt</td>\n",
       "      <td>4</td>\n",
       "    </tr>\n",
       "    <tr>\n",
       "      <th>4</th>\n",
       "      <td>A1I32A4YCT5ITX</td>\n",
       "      <td>Calvin Klein Men's 3-Pack Classic V-Neck T-Shirt</td>\n",
       "      <td>5</td>\n",
       "    </tr>\n",
       "    <tr>\n",
       "      <th>...</th>\n",
       "      <td>...</td>\n",
       "      <td>...</td>\n",
       "      <td>...</td>\n",
       "    </tr>\n",
       "    <tr>\n",
       "      <th>2932</th>\n",
       "      <td>AVH1YOFM8WG9W</td>\n",
       "      <td>Ray-Ban Junior Kid's RJ9506S Aviator Sunglasses</td>\n",
       "      <td>5</td>\n",
       "    </tr>\n",
       "    <tr>\n",
       "      <th>2933</th>\n",
       "      <td>AFGGH4YX5U2R1</td>\n",
       "      <td>i play. Girls' Baby Brim Sun Protection Hat, A...</td>\n",
       "      <td>4</td>\n",
       "    </tr>\n",
       "    <tr>\n",
       "      <th>2934</th>\n",
       "      <td>A2ZN3Z5U9TV4C</td>\n",
       "      <td>i play. Girls' Baby Brim Sun Protection Hat, A...</td>\n",
       "      <td>4</td>\n",
       "    </tr>\n",
       "    <tr>\n",
       "      <th>2935</th>\n",
       "      <td>A35KNTHJO9Q3YE</td>\n",
       "      <td>i play. Girls' Baby Brim Sun Protection Hat, A...</td>\n",
       "      <td>3</td>\n",
       "    </tr>\n",
       "    <tr>\n",
       "      <th>2936</th>\n",
       "      <td>A1KPFFU7NOVNCY</td>\n",
       "      <td>i play. Girls' Baby Brim Sun Protection Hat, A...</td>\n",
       "      <td>4</td>\n",
       "    </tr>\n",
       "  </tbody>\n",
       "</table>\n",
       "<p>2937 rows × 3 columns</p>\n",
       "</div>"
      ],
      "text/plain": [
       "          reviewerID                                              title  \\\n",
       "0      AVH1YOFM8WG9W   Calvin Klein Men's 3-Pack Classic V-Neck T-Shirt   \n",
       "1     A39ZXN06R8UBQ0   Calvin Klein Men's 3-Pack Classic V-Neck T-Shirt   \n",
       "2     A174NYS7K8Q24K   Calvin Klein Men's 3-Pack Classic V-Neck T-Shirt   \n",
       "3     A1I32A4YCT5ITX   Calvin Klein Men's 3-Pack Classic V-Neck T-Shirt   \n",
       "4     A1I32A4YCT5ITX   Calvin Klein Men's 3-Pack Classic V-Neck T-Shirt   \n",
       "...              ...                                                ...   \n",
       "2932   AVH1YOFM8WG9W    Ray-Ban Junior Kid's RJ9506S Aviator Sunglasses   \n",
       "2933   AFGGH4YX5U2R1  i play. Girls' Baby Brim Sun Protection Hat, A...   \n",
       "2934   A2ZN3Z5U9TV4C  i play. Girls' Baby Brim Sun Protection Hat, A...   \n",
       "2935  A35KNTHJO9Q3YE  i play. Girls' Baby Brim Sun Protection Hat, A...   \n",
       "2936  A1KPFFU7NOVNCY  i play. Girls' Baby Brim Sun Protection Hat, A...   \n",
       "\n",
       "      overall  \n",
       "0           5  \n",
       "1           4  \n",
       "2           5  \n",
       "3           4  \n",
       "4           5  \n",
       "...       ...  \n",
       "2932        5  \n",
       "2933        4  \n",
       "2934        4  \n",
       "2935        3  \n",
       "2936        4  \n",
       "\n",
       "[2937 rows x 3 columns]"
      ]
     },
     "execution_count": 17,
     "metadata": {},
     "output_type": "execute_result"
    }
   ],
   "source": [
    "# Spajanje tabela kako bi umesto id-a proizvoda bio prikazan naziv\n",
    "\n",
    "rating = rating.merge(amazon_data, on=\"asin\")[['reviewerID','title','overall']]\n",
    "rating"
   ]
  },
  {
   "cell_type": "code",
   "execution_count": null,
   "id": "2c48c524",
   "metadata": {},
   "outputs": [],
   "source": []
  },
  {
   "cell_type": "code",
   "execution_count": 18,
   "id": "c52c1bde",
   "metadata": {},
   "outputs": [
    {
     "data": {
      "text/html": [
       "<div>\n",
       "<style scoped>\n",
       "    .dataframe tbody tr th:only-of-type {\n",
       "        vertical-align: middle;\n",
       "    }\n",
       "\n",
       "    .dataframe tbody tr th {\n",
       "        vertical-align: top;\n",
       "    }\n",
       "\n",
       "    .dataframe thead th {\n",
       "        text-align: right;\n",
       "    }\n",
       "</style>\n",
       "<table border=\"1\" class=\"dataframe\">\n",
       "  <thead>\n",
       "    <tr style=\"text-align: right;\">\n",
       "      <th></th>\n",
       "      <th>reviewerID</th>\n",
       "      <th>title</th>\n",
       "      <th>overall</th>\n",
       "    </tr>\n",
       "  </thead>\n",
       "  <tbody>\n",
       "    <tr>\n",
       "      <th>0</th>\n",
       "      <td>AVH1YOFM8WG9W</td>\n",
       "      <td>Calvin Klein Men's 3-Pack Classic V-Neck T-Shirt</td>\n",
       "      <td>5</td>\n",
       "    </tr>\n",
       "    <tr>\n",
       "      <th>1</th>\n",
       "      <td>A39ZXN06R8UBQ0</td>\n",
       "      <td>Calvin Klein Men's 3-Pack Classic V-Neck T-Shirt</td>\n",
       "      <td>4</td>\n",
       "    </tr>\n",
       "    <tr>\n",
       "      <th>2</th>\n",
       "      <td>A174NYS7K8Q24K</td>\n",
       "      <td>Calvin Klein Men's 3-Pack Classic V-Neck T-Shirt</td>\n",
       "      <td>5</td>\n",
       "    </tr>\n",
       "    <tr>\n",
       "      <th>3</th>\n",
       "      <td>A1I32A4YCT5ITX</td>\n",
       "      <td>Calvin Klein Men's 3-Pack Classic V-Neck T-Shirt</td>\n",
       "      <td>4</td>\n",
       "    </tr>\n",
       "    <tr>\n",
       "      <th>4</th>\n",
       "      <td>A1I32A4YCT5ITX</td>\n",
       "      <td>Calvin Klein Men's 3-Pack Classic V-Neck T-Shirt</td>\n",
       "      <td>5</td>\n",
       "    </tr>\n",
       "    <tr>\n",
       "      <th>...</th>\n",
       "      <td>...</td>\n",
       "      <td>...</td>\n",
       "      <td>...</td>\n",
       "    </tr>\n",
       "    <tr>\n",
       "      <th>2932</th>\n",
       "      <td>AVH1YOFM8WG9W</td>\n",
       "      <td>Ray-Ban Junior Kid's RJ9506S Aviator Sunglasses</td>\n",
       "      <td>5</td>\n",
       "    </tr>\n",
       "    <tr>\n",
       "      <th>2933</th>\n",
       "      <td>AFGGH4YX5U2R1</td>\n",
       "      <td>i play. Girls' Baby Brim Sun Protection Hat, A...</td>\n",
       "      <td>4</td>\n",
       "    </tr>\n",
       "    <tr>\n",
       "      <th>2934</th>\n",
       "      <td>A2ZN3Z5U9TV4C</td>\n",
       "      <td>i play. Girls' Baby Brim Sun Protection Hat, A...</td>\n",
       "      <td>4</td>\n",
       "    </tr>\n",
       "    <tr>\n",
       "      <th>2935</th>\n",
       "      <td>A35KNTHJO9Q3YE</td>\n",
       "      <td>i play. Girls' Baby Brim Sun Protection Hat, A...</td>\n",
       "      <td>3</td>\n",
       "    </tr>\n",
       "    <tr>\n",
       "      <th>2936</th>\n",
       "      <td>A1KPFFU7NOVNCY</td>\n",
       "      <td>i play. Girls' Baby Brim Sun Protection Hat, A...</td>\n",
       "      <td>4</td>\n",
       "    </tr>\n",
       "  </tbody>\n",
       "</table>\n",
       "<p>1523 rows × 3 columns</p>\n",
       "</div>"
      ],
      "text/plain": [
       "          reviewerID                                              title  \\\n",
       "0      AVH1YOFM8WG9W   Calvin Klein Men's 3-Pack Classic V-Neck T-Shirt   \n",
       "1     A39ZXN06R8UBQ0   Calvin Klein Men's 3-Pack Classic V-Neck T-Shirt   \n",
       "2     A174NYS7K8Q24K   Calvin Klein Men's 3-Pack Classic V-Neck T-Shirt   \n",
       "3     A1I32A4YCT5ITX   Calvin Klein Men's 3-Pack Classic V-Neck T-Shirt   \n",
       "4     A1I32A4YCT5ITX   Calvin Klein Men's 3-Pack Classic V-Neck T-Shirt   \n",
       "...              ...                                                ...   \n",
       "2932   AVH1YOFM8WG9W    Ray-Ban Junior Kid's RJ9506S Aviator Sunglasses   \n",
       "2933   AFGGH4YX5U2R1  i play. Girls' Baby Brim Sun Protection Hat, A...   \n",
       "2934   A2ZN3Z5U9TV4C  i play. Girls' Baby Brim Sun Protection Hat, A...   \n",
       "2935  A35KNTHJO9Q3YE  i play. Girls' Baby Brim Sun Protection Hat, A...   \n",
       "2936  A1KPFFU7NOVNCY  i play. Girls' Baby Brim Sun Protection Hat, A...   \n",
       "\n",
       "      overall  \n",
       "0           5  \n",
       "1           4  \n",
       "2           5  \n",
       "3           4  \n",
       "4           5  \n",
       "...       ...  \n",
       "2932        5  \n",
       "2933        4  \n",
       "2934        4  \n",
       "2935        3  \n",
       "2936        4  \n",
       "\n",
       "[1523 rows x 3 columns]"
      ]
     },
     "execution_count": 18,
     "metadata": {},
     "output_type": "execute_result"
    }
   ],
   "source": [
    "rating.drop_duplicates(inplace=True)\n",
    "rating"
   ]
  },
  {
   "cell_type": "code",
   "execution_count": null,
   "id": "07b8eea7",
   "metadata": {},
   "outputs": [],
   "source": []
  },
  {
   "cell_type": "code",
   "execution_count": null,
   "id": "b826a615",
   "metadata": {},
   "outputs": [],
   "source": [
    "list_of_distinct_users = list(rating['reviewerID'].unique())\n",
    "list_of_distinct_users"
   ]
  },
  {
   "cell_type": "code",
   "execution_count": null,
   "id": "6323e70b",
   "metadata": {},
   "outputs": [],
   "source": []
  },
  {
   "cell_type": "code",
   "execution_count": null,
   "id": "ba119d7d",
   "metadata": {},
   "outputs": [],
   "source": []
  },
  {
   "cell_type": "code",
   "execution_count": 20,
   "id": "fa25b9bd",
   "metadata": {},
   "outputs": [
    {
     "data": {
      "text/plain": [
       "<surprise.dataset.DatasetAutoFolds at 0x7f6ca21f0d60>"
      ]
     },
     "execution_count": 20,
     "metadata": {},
     "output_type": "execute_result"
    }
   ],
   "source": [
    "# Kreiranje surprise objekta\n",
    "\n",
    "reader = Reader(rating_scale=(1, 5))\n",
    "data   = Dataset.load_from_df(rating[['reviewerID','title','overall']], reader)\n",
    "data"
   ]
  },
  {
   "cell_type": "code",
   "execution_count": null,
   "id": "dbaa41a8",
   "metadata": {},
   "outputs": [],
   "source": []
  },
  {
   "cell_type": "code",
   "execution_count": 48,
   "id": "78578445",
   "metadata": {},
   "outputs": [
    {
     "data": {
      "text/plain": [
       "[('AVH1YOFM8WG9W',\n",
       "  \"Calvin Klein Men's 3-Pack Classic V-Neck T-Shirt\",\n",
       "  5.0,\n",
       "  None),\n",
       " ('A39ZXN06R8UBQ0',\n",
       "  \"Calvin Klein Men's 3-Pack Classic V-Neck T-Shirt\",\n",
       "  4.0,\n",
       "  None)]"
      ]
     },
     "execution_count": 48,
     "metadata": {},
     "output_type": "execute_result"
    }
   ],
   "source": [
    "# Podela podataka na trening i test skup. U Python-ovoj surprise dokumentaciji nalazi se detaljan opis.\n",
    "# https://surprise.readthedocs.io/en/stable/FAQ.html\n",
    "\n",
    "raw_ratings = data.raw_ratings\n",
    "raw_ratings[:2] # tuples: korisnik, naslov proizvoda, ocena"
   ]
  },
  {
   "cell_type": "code",
   "execution_count": null,
   "id": "caeb07fa",
   "metadata": {},
   "outputs": [],
   "source": []
  },
  {
   "cell_type": "code",
   "execution_count": 49,
   "id": "6af9f014",
   "metadata": {},
   "outputs": [
    {
     "data": {
      "text/plain": [
       "[('A13N0LN619P19V',\n",
       "  \"Carhartt Men's Loose Fit Five Pocket Canvas Carpenter Pant B159\",\n",
       "  5.0),\n",
       " ('A2EA0LNYX7S3WE',\n",
       "  \"Carhartt Men's Loose Fit Five Pocket Canvas Carpenter Pant B159\",\n",
       "  5.0)]"
      ]
     },
     "execution_count": 49,
     "metadata": {},
     "output_type": "execute_result"
    }
   ],
   "source": [
    "import random\n",
    "random.shuffle(raw_ratings)                 # shuffle-ovanje skupa podataka\n",
    "\n",
    "threshold   = int(len(raw_ratings)*0.8)\n",
    "\n",
    "train_raw_ratings = raw_ratings[:threshold] # 80% podataka je trening skup\n",
    "test_raw_ratings  = raw_ratings[threshold:] # 20% podataka je test skup\n",
    "\n",
    "data.raw_ratings = train_raw_ratings        # data je sada trening skup\n",
    "trainset         = data.build_full_trainset() \n",
    "testset          = data.construct_testset(test_raw_ratings)\n",
    "\n",
    "testset[:2]"
   ]
  },
  {
   "cell_type": "code",
   "execution_count": null,
   "id": "825cfd4f",
   "metadata": {},
   "outputs": [],
   "source": []
  },
  {
   "cell_type": "code",
   "execution_count": null,
   "id": "c5221f42",
   "metadata": {},
   "outputs": [],
   "source": []
  },
  {
   "cell_type": "code",
   "execution_count": 52,
   "id": "13d4d575",
   "metadata": {},
   "outputs": [
    {
     "data": {
      "text/plain": [
       "(<surprise.dataset.DatasetAutoFolds at 0x7f6cb4d0ae80>,\n",
       " [('A1CT1N98MMFUVN',\n",
       "   \"Carhartt Men's Loose Fit Five Pocket Canvas Carpenter Pant B159\",\n",
       "   3.0,\n",
       "   None),\n",
       "  ('A1AD3IQV5JWTT6',\n",
       "   \"Carhartt Men's Loose Fit Five Pocket Canvas Carpenter Pant B159\",\n",
       "   3.0,\n",
       "   None)])"
      ]
     },
     "execution_count": 52,
     "metadata": {},
     "output_type": "execute_result"
    }
   ],
   "source": [
    "data, data.raw_ratings[:2]"
   ]
  },
  {
   "cell_type": "markdown",
   "id": "5b7d720e",
   "metadata": {},
   "source": [
    "### Isprobavanje različitih modela, odabir najboljeg, evaluacija"
   ]
  },
  {
   "cell_type": "code",
   "execution_count": 24,
   "id": "52d10df1",
   "metadata": {},
   "outputs": [],
   "source": [
    "# U nastavku su isprobane varijacije k-NN (eng. K-Nearest Neighbors) i SVD (eng. Singluar Value decomposition)\n",
    "# algoritama koristeći podrazumevane parametre modela.\n",
    "\n",
    "models=[KNNBasic(),KNNWithMeans(),KNNWithZScore(),KNNBaseline(),SVD()] \n",
    "results = {}\n",
    "\n",
    "for model in models:\n",
    "    # izvođenje 5-slojne unakrsne validacije (eng. 5 fold cross validation)\n",
    "    # evaluacione metrike: mean absolute error (MAE) i root mean square error (RMSE)\n",
    "    CV_scores = cross_validate(model, data, measures=[\"MAE\",\"RMSE\"], cv=5, n_jobs=-1)  \n",
    "    \n",
    "    # čuvanje prosečnog skora za 5-slojnu unakrsnu validaciju za svaki od modela\n",
    "    result = pd.DataFrame.from_dict(CV_scores).mean(axis=0).\\\n",
    "             rename({'test_mae':'MAE', 'test_rmse': 'RMSE'})\n",
    "    results[str(model).split(\"algorithms.\")[1].split(\"object \")[0]] = result"
   ]
  },
  {
   "cell_type": "code",
   "execution_count": null,
   "id": "3b1fb2e8",
   "metadata": {},
   "outputs": [],
   "source": []
  },
  {
   "cell_type": "code",
   "execution_count": 25,
   "id": "52518b4a",
   "metadata": {},
   "outputs": [
    {
     "name": "stdout",
     "output_type": "stream",
     "text": [
      "Performanse modela: \n",
      "\n"
     ]
    },
    {
     "data": {
      "text/html": [
       "<div>\n",
       "<style scoped>\n",
       "    .dataframe tbody tr th:only-of-type {\n",
       "        vertical-align: middle;\n",
       "    }\n",
       "\n",
       "    .dataframe tbody tr th {\n",
       "        vertical-align: top;\n",
       "    }\n",
       "\n",
       "    .dataframe thead th {\n",
       "        text-align: right;\n",
       "    }\n",
       "</style>\n",
       "<table border=\"1\" class=\"dataframe\">\n",
       "  <thead>\n",
       "    <tr style=\"text-align: right;\">\n",
       "      <th></th>\n",
       "      <th>MAE</th>\n",
       "      <th>RMSE</th>\n",
       "      <th>fit_time</th>\n",
       "      <th>test_time</th>\n",
       "    </tr>\n",
       "  </thead>\n",
       "  <tbody>\n",
       "    <tr>\n",
       "      <th>matrix_factorization.SVD</th>\n",
       "      <td>0.867750</td>\n",
       "      <td>1.101980</td>\n",
       "      <td>0.176200</td>\n",
       "      <td>0.003896</td>\n",
       "    </tr>\n",
       "    <tr>\n",
       "      <th>knns.KNNBasic</th>\n",
       "      <td>0.880254</td>\n",
       "      <td>1.110472</td>\n",
       "      <td>0.080414</td>\n",
       "      <td>0.006664</td>\n",
       "    </tr>\n",
       "    <tr>\n",
       "      <th>knns.KNNBaseline</th>\n",
       "      <td>0.880010</td>\n",
       "      <td>1.112268</td>\n",
       "      <td>0.106874</td>\n",
       "      <td>0.003639</td>\n",
       "    </tr>\n",
       "    <tr>\n",
       "      <th>knns.KNNWithZScore</th>\n",
       "      <td>0.894693</td>\n",
       "      <td>1.140163</td>\n",
       "      <td>0.225376</td>\n",
       "      <td>0.005911</td>\n",
       "    </tr>\n",
       "    <tr>\n",
       "      <th>knns.KNNWithMeans</th>\n",
       "      <td>0.896406</td>\n",
       "      <td>1.141539</td>\n",
       "      <td>0.173159</td>\n",
       "      <td>0.004205</td>\n",
       "    </tr>\n",
       "  </tbody>\n",
       "</table>\n",
       "</div>"
      ],
      "text/plain": [
       "                                MAE      RMSE  fit_time  test_time\n",
       "matrix_factorization.SVD   0.867750  1.101980  0.176200   0.003896\n",
       "knns.KNNBasic              0.880254  1.110472  0.080414   0.006664\n",
       "knns.KNNBaseline           0.880010  1.112268  0.106874   0.003639\n",
       "knns.KNNWithZScore         0.894693  1.140163  0.225376   0.005911\n",
       "knns.KNNWithMeans          0.896406  1.141539  0.173159   0.004205"
      ]
     },
     "execution_count": 25,
     "metadata": {},
     "output_type": "execute_result"
    }
   ],
   "source": [
    "performance_df = pd.DataFrame.from_dict(results)\n",
    "print(\"Performanse modela: \\n\")\n",
    "performance_df.T.sort_values(by='RMSE')"
   ]
  },
  {
   "cell_type": "code",
   "execution_count": 26,
   "id": "40ba5873",
   "metadata": {},
   "outputs": [],
   "source": [
    "# Među isprobanim aloritmima, najmanju grešku RMSE ima SVD.\n",
    "# Što se tiče varijacija k-NN algoritama zasnovanih na memoriji, najmanju grešku RMSE ima KNNBasic.\n",
    "# Maksimalan fit_time je za model KNNWithZScore, ali test_time je najmanje."
   ]
  },
  {
   "cell_type": "code",
   "execution_count": 27,
   "id": "f98e1a06",
   "metadata": {},
   "outputs": [],
   "source": [
    "# Hyperparameter tuning korišćenjem GridSearchCV\n",
    "\n",
    "# KNNBasic\n",
    "\n",
    "# user_based: Podrazumevana vrednost ovog parametra je'True'.\n",
    "# Druga opcija je 'False', što odgovara pristupu zasnovanom na stavkama.\n",
    "\n",
    "# min_support: Označava broj stavki koji se uzima u razmatranje (u pristupu zasnovanom na korisnicima)\n",
    "# ili broj korisnika koji se uzima u razmatranje (u pristupu zasnovanom na stavkama)\n",
    "# da bi se izračunala sličnost.\n",
    "\n",
    "# name: Označava naziv mere za računanje rastojanja koja se koristi da bi se izračunala sličnost.\n",
    "# Podrazumevana vrednost je srednje kvadratna distanca (eng. Mean Squared Distance, MSD).\n",
    "# Mera rastojanja za podatke zasnovane na ocenama koja se takođe često koristi je 'cosine'."
   ]
  },
  {
   "cell_type": "code",
   "execution_count": 28,
   "id": "28c0c666",
   "metadata": {},
   "outputs": [
    {
     "name": "stdout",
     "output_type": "stream",
     "text": [
      "MAE najbolji parametri:  {'sim_options': {'name': 'msd', 'min_support': 3, 'user_based': False}}\n",
      "MAE najbolji skor:       0.8973147218293468\n",
      "\n",
      "RMSE najbolji parametri: {'sim_options': {'name': 'msd', 'min_support': 3, 'user_based': False}}\n",
      "RMSE najbolji skor:      1.136310769972861\n",
      "\n"
     ]
    }
   ],
   "source": [
    "# Hyperparameter tuning - KNNBasic\n",
    "\n",
    "param_grid = { 'sim_options' : {'name': ['msd','cosine'], \\\n",
    "                                'min_support': [3,5], \\\n",
    "                                'user_based': [False, True]}\n",
    "             }\n",
    "\n",
    "gridsearchKNNBasic = GridSearchCV(KNNBasic, param_grid, measures=['mae', 'rmse'], \\\n",
    "                                      cv=5, n_jobs=-1)\n",
    "                                    \n",
    "gridsearchKNNBasic.fit(data)\n",
    "\n",
    "print(f'MAE najbolji parametri:  {gridsearchKNNBasic.best_params[\"mae\"]}')\n",
    "print(f'MAE najbolji skor:       {gridsearchKNNBasic.best_score[\"mae\"]}\\n')\n",
    "\n",
    "print(f'RMSE najbolji parametri: {gridsearchKNNBasic.best_params[\"rmse\"]}')\n",
    "print(f'RMSE najbolji skor:      {gridsearchKNNBasic.best_score[\"rmse\"]}\\n')\n"
   ]
  },
  {
   "cell_type": "code",
   "execution_count": 29,
   "id": "d80eb01f",
   "metadata": {},
   "outputs": [],
   "source": [
    "# Najbolji parametri su isti za obe metrike - MAE i RMSE\n",
    "\n",
    "# 'msd' kao mera rastojanja, min_support: 3 i user_based: False (pristup zasnovan na stavkama)\n",
    "\n",
    "# Logika, odnosno kod u nastavku se može izmeniti tako da kreira preporuke koristeći cosine i user based metod"
   ]
  },
  {
   "cell_type": "code",
   "execution_count": null,
   "id": "beb603f9",
   "metadata": {},
   "outputs": [],
   "source": []
  },
  {
   "cell_type": "code",
   "execution_count": 30,
   "id": "34e0a782",
   "metadata": {},
   "outputs": [
    {
     "name": "stdout",
     "output_type": "stream",
     "text": [
      "Computing the msd similarity matrix...\n",
      "Done computing similarity matrix.\n",
      "\n",
      "Performanse na test skupu:\n",
      "MAE:  0.8617\n",
      "RMSE: 1.0567\n",
      "MAE: 0.8617459420172818, RMSE: 1.0566893152378167\n"
     ]
    }
   ],
   "source": [
    "# Treniranje modela i predikcija - KNNBasic\n",
    "\n",
    "sim_options = {'name':'msd','min_support':3,'user_based':False}\n",
    "final_model = KNNBasic(sim_options=sim_options)\n",
    "\n",
    "# Treniranje modela na trainset-u i predviđanje na testset-u, štampajući test accuracy\n",
    "pred = final_model.fit(trainset).test(testset)\n",
    "\n",
    "print(f'\\nPerformanse na test skupu:')\n",
    "print(f'MAE: {accuracy.mae(pred)}, RMSE: {accuracy.rmse(pred)}')\n"
   ]
  },
  {
   "cell_type": "code",
   "execution_count": 31,
   "id": "b35c51bc",
   "metadata": {},
   "outputs": [],
   "source": [
    "# MAE i RMSE metrike za testset su uporedive sa onima dobijenim koristeći unakrsnu validaciju i \n",
    "# hyperparameter tuning za trainset, što znači da odabrani model dobro generalizuje"
   ]
  },
  {
   "cell_type": "code",
   "execution_count": null,
   "id": "a53c166f",
   "metadata": {},
   "outputs": [],
   "source": []
  },
  {
   "cell_type": "code",
   "execution_count": 32,
   "id": "1fcd45d4",
   "metadata": {},
   "outputs": [],
   "source": [
    "# SVD\n",
    "\n",
    "# n_factors: broj latentnih faktora (eng. hidden characteristics) za matricu faktorizacije / redukcije dimenzionalnosti.\n",
    "# Podrazumevano ova vrednost je 100.\n",
    "\n",
    "# n_epochs: broj iteracija procedure stohastičkog gradijentnog spusta (eng. stochiastic gradient descent),\n",
    "# za učenje parametara i minimizaciju greške\n",
    "\n",
    "# lr_all i reg_all: learning rate i regularization rate.\n",
    "# Learning rate je veličina koraka u gore pomenutom algoritmu SGD, gde regularization rate služi da\n",
    "# spreči preprilagođavanje, tako da model generalizuje dobro nad podacima koje još nije video.\n",
    "# Podrazumevano ove vrednosti su 0.005 i 0.02"
   ]
  },
  {
   "cell_type": "code",
   "execution_count": 33,
   "id": "6a1354e7",
   "metadata": {},
   "outputs": [
    {
     "name": "stdout",
     "output_type": "stream",
     "text": [
      "MAE Best Parameters:  {'n_factors': 70, 'n_epochs': 5, 'lr_all': 0.002, 'reg_all': 0.5}\n",
      "MAE Best Score:       0.8647320755567606\n",
      "\n",
      "RMSE Best Parameters: {'n_factors': 30, 'n_epochs': 5, 'lr_all': 0.002, 'reg_all': 0.5}\n",
      "RMSE Best Score:      1.0957389815676033\n",
      "\n"
     ]
    }
   ],
   "source": [
    "# Hyperparameter tuning - SVD\n",
    "\n",
    "param_grid = {\"n_factors\": range(10,100,20),\n",
    "              \"n_epochs\" : [5, 10, 20],\n",
    "              \"lr_all\"   : [0.002, 0.005],\n",
    "              \"reg_all\"  : [0.2, 0.5]}\n",
    "\n",
    "gridsearchSVD = GridSearchCV(SVD, param_grid, measures=['mae', 'rmse'], cv=5, n_jobs=-1)\n",
    "                                    \n",
    "gridsearchSVD.fit(data)\n",
    "\n",
    "print(f'MAE Best Parameters:  {gridsearchSVD.best_params[\"mae\"]}')\n",
    "print(f'MAE Best Score:       {gridsearchSVD.best_score[\"mae\"]}\\n')\n",
    "\n",
    "print(f'RMSE Best Parameters: {gridsearchSVD.best_params[\"rmse\"]}')\n",
    "print(f'RMSE Best Score:      {gridsearchSVD.best_score[\"rmse\"]}\\n')"
   ]
  },
  {
   "cell_type": "code",
   "execution_count": 34,
   "id": "cdfaa250",
   "metadata": {},
   "outputs": [],
   "source": [
    "#Najbolji parametri su različiti za metrike MAE i RMSE.\n",
    "#'n_factors':30, 'n_epochs':5, 'lr_all':0.002 i 'reg_all': 0.5 je odabrano za kreiranje preporuka"
   ]
  },
  {
   "cell_type": "code",
   "execution_count": null,
   "id": "c1a87cf4",
   "metadata": {},
   "outputs": [],
   "source": []
  },
  {
   "cell_type": "code",
   "execution_count": 35,
   "id": "6f87d09b",
   "metadata": {},
   "outputs": [
    {
     "name": "stdout",
     "output_type": "stream",
     "text": [
      "\\Performanse na skupu za testiranje\n",
      "MAE:  0.8403\n",
      "RMSE: 1.0387\n",
      "MAE: 0.8403193394292355, RMSE: 1.0386906276541776\n"
     ]
    }
   ],
   "source": [
    "# Treniranje modela i predikcija - SVD\n",
    "\n",
    "final_model = SVD(n_factors=30, n_epochs=5, lr_all=0.002, reg_all= 0.5)\n",
    "\n",
    "# Treniranje modela na trening skupu (trainset) i predviđanje na test skupu (testset), štampajući test accuracy\n",
    "pred = final_model.fit(trainset).test(testset)\n",
    "\n",
    "print(f'\\Performanse na skupu za testiranje')\n",
    "print(f'MAE: {accuracy.mae(pred)}, RMSE: {accuracy.rmse(pred)}')\n"
   ]
  },
  {
   "cell_type": "code",
   "execution_count": 36,
   "id": "53dbf305",
   "metadata": {},
   "outputs": [],
   "source": [
    "# Metrike MAE i RMSE za test skup (testset) su uporedive sa onima dobijenim unakrsnom validacijom i\n",
    "# hyperparameter tuning na skupu podataka za treniranje (trainset), što znači da odabrani model, ponovo,\n",
    "# dobro generalizuje."
   ]
  },
  {
   "cell_type": "code",
   "execution_count": 37,
   "id": "602cc2db",
   "metadata": {},
   "outputs": [],
   "source": [
    "# KREIRANJE PREPORUKA"
   ]
  },
  {
   "cell_type": "code",
   "execution_count": 38,
   "id": "5d6a8054",
   "metadata": {},
   "outputs": [],
   "source": [
    "# Ceo skup podataka će biti korišćen za kreiranje preporuka.\n",
    "\n",
    "reader = Reader(rating_scale=(1, 5))\n",
    "data = Dataset.load_from_df(rating[['reviewerID','title','overall']], reader)\n",
    "trainset = data.build_full_trainset()\n",
    "\n",
    "# Lista trainset metoda je objašnjena ovde: \n",
    "# https://surprise.readthedocs.io/en/stable/trainset.html"
   ]
  },
  {
   "cell_type": "code",
   "execution_count": 39,
   "id": "43d5a820",
   "metadata": {},
   "outputs": [],
   "source": [
    "#Implementirane su dve različite funkcije za generisanje preporuka sa modelima koji su odabrani (KNNBasic i SVD)"
   ]
  },
  {
   "cell_type": "code",
   "execution_count": 40,
   "id": "2015424a",
   "metadata": {},
   "outputs": [],
   "source": [
    "# KNNBasic\n",
    "\n",
    "def generate_recommendationsKNN(userID='AVH1YOFM8WG9W', like_recommend=5, get_recommend =10):\n",
    "    \n",
    "    ''' Ova funkcija generiše \"get_recommend\" preporuka proizvoda (odnosi se na broj preporuka) \n",
    "        koristeći KNNBasic i filtriranje zasnovano na stavkama.\n",
    "        \n",
    "        Parametri:\n",
    "        (1) userID - userID za koga treba gerisati preporuke \n",
    "        (2) like_recommend - broj koliko prvih ocena korisnika (ocenjenih proizvoda korisnika)\n",
    "        sa id-em userID se uzimaju u razmatranje za kreiranje preporuka\n",
    "        (3) get_recommend - broj preporuka koje treba generisati\n",
    "        \n",
    "        Podrazumevane vrednosti su: userID=\"AVH1YOFM8WG9W\", like_recommend=5, get_recommend=10\n",
    "    '''\n",
    "    \n",
    "    # Izračunavanje matrice sličnosti zasnovane na stavkama\n",
    "    sim_options       = {'name':'msd','min_support':3,'user_based':False}\n",
    "    similarity_matrix = KNNBasic(sim_options=sim_options).fit(trainset).\\\n",
    "                        compute_similarities() \n",
    "    \n",
    "    userID      = trainset.to_inner_uid(userID)    # konvertuje raw userID u innerID\n",
    "    userRatings = trainset.ur[userID]              # metod .ur uzima korisnikov innerID i \n",
    "                                                   # nazad vraća korisnikovu ocenu\n",
    "    \n",
    "    \n",
    "    # userRatings je lista tuple-ova [(,),(,),(,)..], gde svaki tuple sadrži proizvod i ocenu\n",
    "    # datu od strane korisnika za tu stavku (proizvod). Tuple-ovi su sortirani unutar liste u opadajućem\n",
    "    # redosledu, po oceni. Ekstraktovano je prvih 'like_recommend' stavki i ocena.\n",
    "    \n",
    "    temp_df = pd.DataFrame(userRatings).sort_values(by=1, ascending=False).\\\n",
    "              head(like_recommend)\n",
    "    userRatings = temp_df.to_records(index=False) \n",
    "    \n",
    "    # Za svaki par (item, rating) u prvih like_recommend parova, pomnožena je korisnikova ocena data za proizvod sa\n",
    "    # vrednošću sličnosti (kasnije je izračunata iz matrice sličnosti stavki) za sve stavke.\n",
    "    # Pomoću ovoga se računaju ocene sa težinama (eng. weighted rating) za sve stavke.\n",
    "    # Ocene sa težinama su sabrane i podeljene sa sumom težina da bi se predvidela ocena koju je korisnik dao stavci.\n",
    "    \n",
    "    recommendations   = {}\n",
    "\n",
    "    for user_top_item, user_top_item_rating  in userRatings:\n",
    "\n",
    "        all_item_indices          =   list(pd.DataFrame(similarity_matrix)[user_top_item].index)\n",
    "        all_item_weighted_rating  =   list(pd.DataFrame(similarity_matrix)[user_top_item].values*\\\n",
    "                                          user_top_item_rating)\n",
    "        \n",
    "        all_item_weights          =   list(pd.DataFrame(similarity_matrix)[user_top_item].values)\n",
    "        \n",
    "        \n",
    "        # Sve stavke i konačno predviđene ocene se dodaju u rečnik nazvan recommendations.\n",
    "        \n",
    "        for index in range(len(all_item_indices)):\n",
    "            if index in recommendations:\n",
    "                # suma ocena sa težinama\n",
    "                recommendations[index] += all_item_weighted_rating[index]        \n",
    "            else:                        \n",
    "                recommendations[index]  = all_item_weighted_rating[index]\n",
    "\n",
    "    \n",
    "    for index in range(len(all_item_indices)):                               \n",
    "            if all_item_weights[index]  !=0:\n",
    "                # Konačne ocene (suma ocena sa težinama/suma težina)\n",
    "                recommendations[index]   =recommendations[index]/\\\n",
    "                                          (all_item_weights[index]*like_recommend)\n",
    "                      \n",
    "\n",
    "    # Konvertovanje rečnika preporuka u listu tuple-ova [(,),(,),(,)],\n",
    "    # gde svaki tuple predstavlja stavku i procenjenu ocenu koju bi korisnik dao toj stavci.\n",
    "    # Sortiranje tuple-ove u listi tako da budu u opadajućem redosledu, po procenjenoj oceni.\n",
    "\n",
    "    temp_df = pd.Series(recommendations).reset_index().sort_values(by=0, ascending=False)\n",
    "    recommendations = list(temp_df.to_records(index=False))\n",
    "    \n",
    "    # Vraća se get_recommend preporuka (odnosi se na broj preporuka)\n",
    "    # (vraćaju se isključivo oni proizvodi koje korisnik nije prethodno ocenio)\n",
    "    \n",
    "    final_recommendations = []\n",
    "    count = 0\n",
    "    \n",
    "    for item, score in recommendations:\n",
    "        flag = True\n",
    "        for userItem, userRating in trainset.ur[userID]:\n",
    "            if item == userItem: \n",
    "                flag = False       # ako item u recommendations nije ocenjena od strane korisnika, \n",
    "                break              # dodaje se u final_recommendations\n",
    "        if flag == True:\n",
    "            final_recommendations.append(trainset.to_raw_iid(item)) \n",
    "            count +=1              # u trainset-u se stavke čuvaju kao inner id,  \n",
    "                                   # to se konvertuje u originalan id i nadovezuje \n",
    "            \n",
    "        if count > get_recommend:  # Uzima se samo 'get_recommend' preporuka (odnosi se na broj preporuka)\n",
    "            break\n",
    "    \n",
    "    return(final_recommendations)"
   ]
  },
  {
   "cell_type": "code",
   "execution_count": 41,
   "id": "bf7ed2c4",
   "metadata": {},
   "outputs": [
    {
     "name": "stdout",
     "output_type": "stream",
     "text": [
      "Computing the msd similarity matrix...\n",
      "Done computing similarity matrix.\n",
      "Computing the msd similarity matrix...\n",
      "Done computing similarity matrix.\n"
     ]
    },
    {
     "data": {
      "text/plain": [
       "['Secret Wishes Deluxe Wonder Woman Costume, Blue/Red, Large',\n",
       " 'California Costumes Fashion Flapper Adult Costume-',\n",
       " \"Carhartt Men's Loose Fit Five Pocket Canvas Carpenter Pant B159\",\n",
       " 'Vans Adult Classic Slip-On, (Checkerboard) Black/Pewter',\n",
       " \"Calvin Klein Boy's Assorted Boxer Briefs (Pack of 2)\",\n",
       " 'Powerstep Pinnacle Orthotic Shoe Insoles',\n",
       " \"Havaianas Women's Top Flip Flop Sandal\",\n",
       " 'Sterling Silver Cubic Zirconia All-Around Band Stacking Ring Set (Set of 3)',\n",
       " \"i play. Girls' Baby Brim Sun Protection Hat, Aqua Shellflowers, 0/6mo\"]"
      ]
     },
     "execution_count": 41,
     "metadata": {},
     "output_type": "execute_result"
    }
   ],
   "source": [
    "recommendationsKNN = generate_recommendationsKNN(userID='AVH1YOFM8WG9W', like_recommend=5, get_recommend=10)\n",
    "recommendationsKNN"
   ]
  },
  {
   "cell_type": "code",
   "execution_count": 42,
   "id": "58bdc2a3",
   "metadata": {},
   "outputs": [],
   "source": [
    "# Izlaz iznad predstavlja top 10 preporuka za korisnika sa id-em 'AVH1YOFM8WG9W'\n",
    "# zasnovano na top 5 ocenjenih proizvoda korisnika"
   ]
  },
  {
   "cell_type": "code",
   "execution_count": null,
   "id": "2736107d",
   "metadata": {},
   "outputs": [],
   "source": []
  },
  {
   "cell_type": "code",
   "execution_count": 43,
   "id": "7a5373bf",
   "metadata": {},
   "outputs": [],
   "source": [
    "# SVD\n",
    "\n",
    "def generate_recommendationsSVD(userID='AVH1YOFM8WG9W', get_recommend =10):\n",
    "    \n",
    "    ''' Ova funkcija generiše \"get_recommend\" preporuka proizvoda (odnosi se na broj preporuka)\n",
    "        koristeći SVD.\n",
    "        \n",
    "        Parametri:\n",
    "        (1) userID - userID za koga preporuke trebaju biti generisane\n",
    "        (2) get_recommend - broj preporuka koliko treba generisati\n",
    "        \n",
    "        Podrazumevane vrednosti parametara su: userID=\"AVH1YOFM8WG9W\", get_recommend=10\n",
    "    '''\n",
    "    \n",
    "    model = SVD(n_factors=30, n_epochs=5, lr_all=0.002, reg_all= 0.5)\n",
    "    model.fit(trainset)\n",
    "    \n",
    "    # predviđa ocene za sve parove korisnika i stavki koje nisu u trainset-u\n",
    "    \n",
    "    testset = trainset.build_anti_testset()\n",
    "    predictions = model.test(testset)\n",
    "    predictions_df = pd.DataFrame(predictions)\n",
    "    \n",
    "    # uzima prvih get_recommend predikcija za userID\n",
    "    \n",
    "    predictions_userID = predictions_df[predictions_df['uid'] == userID].\\\n",
    "                         sort_values(by=\"est\", ascending = False).head(get_recommend)\n",
    "    \n",
    "    recommendations = []\n",
    "    recommendations.append(list(predictions_userID['iid']))\n",
    "    recommendations = recommendations[0]\n",
    "    \n",
    "    return(recommendations)"
   ]
  },
  {
   "cell_type": "code",
   "execution_count": 44,
   "id": "029b3abe",
   "metadata": {},
   "outputs": [
    {
     "data": {
      "text/plain": [
       "[\"i play. Girls' Baby Brim Sun Protection Hat, Aqua Shellflowers, 0/6mo\",\n",
       " 'Sterling Silver Cubic Zirconia All-Around Band Stacking Ring Set (Set of 3)',\n",
       " 'Vans Adult Classic Slip-On, (Checkerboard) Black/Pewter',\n",
       " \"Carhartt Men's Loose Fit Five Pocket Canvas Carpenter Pant B159\",\n",
       " 'Secret Wishes Deluxe Wonder Woman Costume, Blue/Red, Large',\n",
       " \"Calvin Klein Boy's Assorted Boxer Briefs (Pack of 2)\",\n",
       " \"Havaianas Women's Top Flip Flop Sandal\",\n",
       " 'California Costumes Fashion Flapper Adult Costume-',\n",
       " 'Powerstep Pinnacle Orthotic Shoe Insoles']"
      ]
     },
     "execution_count": 44,
     "metadata": {},
     "output_type": "execute_result"
    }
   ],
   "source": [
    "recommendationsSVD = generate_recommendationsSVD(userID='AVH1YOFM8WG9W', get_recommend =10)\n",
    "recommendationsSVD"
   ]
  },
  {
   "cell_type": "code",
   "execution_count": 45,
   "id": "0eb29903",
   "metadata": {},
   "outputs": [],
   "source": [
    "# Izlaz iznad predstavlja top 10 preporuka za istog korisnika sa id-em 'AVH1YOFM8WG9W'"
   ]
  },
  {
   "cell_type": "code",
   "execution_count": null,
   "id": "86341944",
   "metadata": {},
   "outputs": [],
   "source": []
  },
  {
   "cell_type": "markdown",
   "id": "b8738da3",
   "metadata": {},
   "source": [
    "### Upoređivanje preporuka i zaključak"
   ]
  },
  {
   "cell_type": "code",
   "execution_count": 46,
   "id": "f94f8db7",
   "metadata": {},
   "outputs": [],
   "source": [
    "# Upoređivanje preporuka\n",
    "\n",
    "# Preporuke generisane koristeci KNNBasic i SVD su iste, samo je redosled odnosno prioritet drugačiji,\n",
    "# što je i očekivano s obzirom na to da su u pitanju različiti algoritmi.\n",
    "\n",
    "\n",
    "# Zaključak i sledeći koraci\n",
    "\n",
    "# Uspešno je implementiran pristup zasnovan na memoriji kao i pristup zasnovan na modelu za generisanje preporuka.\n",
    "# U slučaju novog korisnika ili nove stavke, kada je malo toga poznato u vezi preferenci i ocena,\n",
    "# uzajamno filtriranje nije dobra opcija za generisanje preporuka.\n",
    "# Umesto toga, metodi zasnovani na sadržaju mogu biti pogodniji i davati bolje rezultate.\n",
    "# Ovaj projekat može biti proširen implementacijom hiridnih sistema preporuka,\n",
    "# kako bi se, u određenim situacijama, istakle prednosti jednog i zaobišle mane drugog pristupa."
   ]
  },
  {
   "cell_type": "code",
   "execution_count": null,
   "id": "774dd13f",
   "metadata": {},
   "outputs": [],
   "source": []
  },
  {
   "cell_type": "code",
   "execution_count": null,
   "id": "7b89dac1",
   "metadata": {},
   "outputs": [],
   "source": []
  },
  {
   "cell_type": "code",
   "execution_count": null,
   "id": "f4a6e465",
   "metadata": {},
   "outputs": [],
   "source": []
  }
 ],
 "metadata": {
  "kernelspec": {
   "display_name": "Python 3 (ipykernel)",
   "language": "python",
   "name": "python3"
  },
  "language_info": {
   "codemirror_mode": {
    "name": "ipython",
    "version": 3
   },
   "file_extension": ".py",
   "mimetype": "text/x-python",
   "name": "python",
   "nbconvert_exporter": "python",
   "pygments_lexer": "ipython3",
   "version": "3.8.10"
  }
 },
 "nbformat": 4,
 "nbformat_minor": 5
}
