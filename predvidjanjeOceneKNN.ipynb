{
  "nbformat": 4,
  "nbformat_minor": 0,
  "metadata": {
    "colab": {
      "provenance": []
    },
    "kernelspec": {
      "name": "python3",
      "display_name": "Python 3"
    },
    "language_info": {
      "name": "python"
    }
  },
  "cells": [
    {
      "cell_type": "code",
      "execution_count": null,
      "metadata": {
        "id": "4a4rg6YLSQwl"
      },
      "outputs": [],
      "source": [
        "import numpy as np\n",
        "import pandas as pd\n",
        "import os\n",
        "from sklearn.metrics.pairwise import cosine_similarity\n",
        "from sklearn.model_selection import train_test_split\n",
        "from scipy import sparse as sps\n",
        "from scipy import sparse\n",
        "import statistics\n",
        "from math import sqrt"
      ]
    },
    {
      "cell_type": "code",
      "source": [
        "EPS = 0.000000003"
      ],
      "metadata": {
        "id": "4Y7z_N0EU5tV"
      },
      "execution_count": null,
      "outputs": []
    },
    {
      "cell_type": "code",
      "source": [
        "# Učitavanje skupa podataka\n",
        "\n",
        "def loaddata(filename):\n",
        "    df = pd.read_csv(f'{filename}.csv',sep=',',error_bad_lines=False, warn_bad_lines=False, encoding='latin-1')\n",
        "    return df\n",
        "\n",
        "amazon_data = loaddata('skup_amazon/fashionMeta')\n",
        "data = loaddata('skup_amazon/fashion')"
      ],
      "metadata": {
        "id": "l3wa8YIPSRdU"
      },
      "execution_count": null,
      "outputs": []
    },
    {
      "cell_type": "code",
      "source": [
        "# Eliminisanje atributa koji nisu od značaja za dalju implementaciju\n",
        "\n",
        "rating = data.drop(['verified', 'reviewTime', 'reviewerName', 'reviewText', 'summary','unixReviewTime', 'vote', 'style/Color:', 'style/Size:', 'image/0', 'style/Metal Type:', 'image/1', 'image/2', 'image/3', 'image/4', 'image/5', 'image/6', 'image/7', 'image/8', 'image/9', 'image/10', 'image/11', 'image/12', 'image/13', 'style/Size Name:', 'style/Style:'], axis=1)\n",
        "rating"
      ],
      "metadata": {
        "colab": {
          "base_uri": "https://localhost:8080/",
          "height": 235
        },
        "id": "MQ3zoSCASRfw",
        "outputId": "b2254c3c-eb54-4827-ee15-106b6f929282"
      },
      "execution_count": 23,
      "outputs": [
        {
          "output_type": "error",
          "ename": "NameError",
          "evalue": "ignored",
          "traceback": [
            "\u001b[0;31m---------------------------------------------------------------------------\u001b[0m",
            "\u001b[0;31mNameError\u001b[0m                                 Traceback (most recent call last)",
            "\u001b[0;32m<ipython-input-23-4bf711e73a5f>\u001b[0m in \u001b[0;36m<module>\u001b[0;34m\u001b[0m\n\u001b[1;32m      1\u001b[0m \u001b[0;31m# Eliminisanje atributa koji nisu od značaja za dalju implementaciju\u001b[0m\u001b[0;34m\u001b[0m\u001b[0;34m\u001b[0m\u001b[0;34m\u001b[0m\u001b[0m\n\u001b[1;32m      2\u001b[0m \u001b[0;34m\u001b[0m\u001b[0m\n\u001b[0;32m----> 3\u001b[0;31m \u001b[0mrating\u001b[0m \u001b[0;34m=\u001b[0m \u001b[0mdata\u001b[0m\u001b[0;34m.\u001b[0m\u001b[0mdrop\u001b[0m\u001b[0;34m(\u001b[0m\u001b[0;34m[\u001b[0m\u001b[0;34m'verified'\u001b[0m\u001b[0;34m,\u001b[0m \u001b[0;34m'reviewTime'\u001b[0m\u001b[0;34m,\u001b[0m \u001b[0;34m'reviewerName'\u001b[0m\u001b[0;34m,\u001b[0m \u001b[0;34m'reviewText'\u001b[0m\u001b[0;34m,\u001b[0m \u001b[0;34m'summary'\u001b[0m\u001b[0;34m,\u001b[0m\u001b[0;34m'unixReviewTime'\u001b[0m\u001b[0;34m,\u001b[0m \u001b[0;34m'vote'\u001b[0m\u001b[0;34m,\u001b[0m \u001b[0;34m'style/Color:'\u001b[0m\u001b[0;34m,\u001b[0m \u001b[0;34m'style/Size:'\u001b[0m\u001b[0;34m,\u001b[0m \u001b[0;34m'image/0'\u001b[0m\u001b[0;34m,\u001b[0m \u001b[0;34m'style/Metal Type:'\u001b[0m\u001b[0;34m,\u001b[0m \u001b[0;34m'image/1'\u001b[0m\u001b[0;34m,\u001b[0m \u001b[0;34m'image/2'\u001b[0m\u001b[0;34m,\u001b[0m \u001b[0;34m'image/3'\u001b[0m\u001b[0;34m,\u001b[0m \u001b[0;34m'image/4'\u001b[0m\u001b[0;34m,\u001b[0m \u001b[0;34m'image/5'\u001b[0m\u001b[0;34m,\u001b[0m \u001b[0;34m'image/6'\u001b[0m\u001b[0;34m,\u001b[0m \u001b[0;34m'image/7'\u001b[0m\u001b[0;34m,\u001b[0m \u001b[0;34m'image/8'\u001b[0m\u001b[0;34m,\u001b[0m \u001b[0;34m'image/9'\u001b[0m\u001b[0;34m,\u001b[0m \u001b[0;34m'image/10'\u001b[0m\u001b[0;34m,\u001b[0m \u001b[0;34m'image/11'\u001b[0m\u001b[0;34m,\u001b[0m \u001b[0;34m'image/12'\u001b[0m\u001b[0;34m,\u001b[0m \u001b[0;34m'image/13'\u001b[0m\u001b[0;34m,\u001b[0m \u001b[0;34m'style/Size Name:'\u001b[0m\u001b[0;34m,\u001b[0m \u001b[0;34m'style/Style:'\u001b[0m\u001b[0;34m]\u001b[0m\u001b[0;34m,\u001b[0m \u001b[0maxis\u001b[0m\u001b[0;34m=\u001b[0m\u001b[0;36m1\u001b[0m\u001b[0;34m)\u001b[0m\u001b[0;34m\u001b[0m\u001b[0;34m\u001b[0m\u001b[0m\n\u001b[0m\u001b[1;32m      4\u001b[0m \u001b[0mrating\u001b[0m\u001b[0;34m\u001b[0m\u001b[0;34m\u001b[0m\u001b[0m\n",
            "\u001b[0;31mNameError\u001b[0m: name 'data' is not defined"
          ]
        }
      ]
    },
    {
      "cell_type": "code",
      "source": [
        "def encode_user_item(df, user_col, item_col, rating_col):\n",
        "    \"\"\"Funkcija za enkoiranje korisnika i stavki\n",
        "    \n",
        "    Parametri:     \n",
        "        df (pd.DataFrame): Pandas dataframe - tabela sa interakcijama.\n",
        "        user_col (string): Naziv kolone koja predstavlja korisnika.\n",
        "        item_col (string): Naziv kolone koja predstavlja stavku.\n",
        "        rating_col (string): Naziv kolone koja predstavlja ocenu.\n",
        "    \n",
        "    Povratna vrednost: \n",
        "        encoded_df (pd.DataFrame): Modifikovan dataframe sa indeksima korisnika i stavki\n",
        "    \"\"\"\n",
        "    \n",
        "    encoded_df = df.copy()\n",
        "    \n",
        "    user_encoder = LabelEncoder() # Enkodiranje vrednosti promenljie sa vrednostima između 0 i n_classes-1.\n",
        "    user_encoder.fit(encoded_df[user_col].values)\n",
        "    n_users = len(user_encoder.classes_)\n",
        "    \n",
        "    item_encoder = LabelEncoder()\n",
        "    item_encoder.fit(encoded_df[item_col].values)\n",
        "    n_items = len(item_encoder.classes_)\n",
        "\n",
        "    encoded_df[\"USER\"] = user_encoder.transform(encoded_df[user_col])\n",
        "    encoded_df[\"ITEM\"] = item_encoder.transform(encoded_df[item_col])\n",
        "    \n",
        "    encoded_df.rename({rating_col: \"RATING\"}, axis=1, inplace=True)\n",
        "    \n",
        "    print(\"Broj korisnika: \", n_users)\n",
        "    print(\"Broj stavki: \", n_items)\n",
        "    \n",
        "    return encoded_df, user_encoder, item_encoder"
      ],
      "metadata": {
        "id": "g9U0AlzGXG6E"
      },
      "execution_count": 24,
      "outputs": []
    },
    {
      "cell_type": "code",
      "source": [
        "DATA, user_encoder, item_encoder = encode_user_item(ratings, \"reviewerID\", \"asin\", \"overall\")"
      ],
      "metadata": {
        "id": "nDFhWrxdXHV0"
      },
      "execution_count": null,
      "outputs": []
    },
    {
      "cell_type": "code",
      "source": [
        "ratings_pivot_df = DATA.pivot(index='USER',columns='ITEM',values='RATING').fillna(0)\n",
        "ratings_pivot_df.head()"
      ],
      "metadata": {
        "id": "a2I4gZD8SRiS"
      },
      "execution_count": null,
      "outputs": []
    },
    {
      "cell_type": "code",
      "source": [
        "ratings_csr_matrix = sps.csr_matrix(ratings_pivot_df)\n",
        "ratings_pivot_df.shape, print(ratings_csr_matrix.todense()) # toarray vraća ndarray; todense vraća matrix"
      ],
      "metadata": {
        "id": "1SZ68Tk0SRkh"
      },
      "execution_count": null,
      "outputs": []
    },
    {
      "cell_type": "code",
      "source": [
        "# Podela datog skupa podataka na skup za trening i skup za test se u narednoj funkciji\n",
        "# vrši tako što se iz datog skupa \"uzima\" procenat ocena koje se upisuju u test skup,\n",
        "# a uklanjaju iz trening skupa\n",
        "\n",
        "# parametar ratings_csr_matrix je skup podataka koji treba podeliti na trening i test skup\n",
        "# percentage je broj koji predstavlja procenat ocena koje ulaze u test skup\n",
        "\n",
        "def split_train_test(ratings_csr_matrix, percentage):\n",
        "    \n",
        "    test_ratings_number = percentage / 100\n",
        "    print(\"Odnos ocena u skupu za testiranje: \", percentage, \"%\")\n",
        "    print(\"Odnos ocena u skupu za treniranje: \", 100-percentage, \"%\")\n",
        "\n",
        "    total_ratings = ratings_csr_matrix.toarray()\n",
        "\n",
        "    dimensions_of_total_ratings = total_ratings.shape\n",
        "    print(\"Ukupan broj korisnika: \", dimensions_of_total_ratings[0])\n",
        "    print(\"Ukupan broj stavki: \", dimensions_of_total_ratings[1])\n",
        "\n",
        "    test = np.zeros(dimensions_of_total_ratings)\n",
        "    train = total_ratings.copy()\n",
        "\n",
        "    nonzero_ratings_per_row = (total_ratings != 0).sum(1)\n",
        "    print(\"Ukupan broj ne-nula ocena u svim redovima: \\n\", nonzero_ratings_per_row)\n",
        "    \n",
        "    for user in range(dimensions_of_total_ratings[0]):\n",
        "        \n",
        "        # indeksi ne-nula elemenata\n",
        "        nonzero_test_ratings_per_user = int(np.ceil(test_ratings_number*nonzero_ratings_per_row[user]))\n",
        "        \n",
        "        test_ratings = np.random.choice(total_ratings[user, :].nonzero()[0], size = nonzero_test_ratings_per_user, replace = False)\n",
        "        \n",
        "        # ocene se izbacuju iz trening skupa (upisuju se nule na odabranim pozicijama)\n",
        "        train[user, test_ratings] = 0\n",
        "\n",
        "        # ubacuju se u test skup (upisuju se ocene iz polaznog skupa, koje su uklonjene iz trening skupa)\n",
        "        test[user, test_ratings] = total_ratings[user, test_ratings]\n",
        "        \n",
        "    if (not(np.all((train * test) == 0))):\n",
        "        print(\"Greska!\")\n",
        "    else:    \n",
        "        return sps.csr_matrix(train),sps.csr_matrix(test)"
      ],
      "metadata": {
        "id": "ER2rQ8OEUf-c"
      },
      "execution_count": null,
      "outputs": []
    },
    {
      "cell_type": "code",
      "source": [
        "# Funkcija za sortiranje liste opadajuće\n",
        "\n",
        "def sort_descending(li):\n",
        "    # reverse (opcioni parametar)\n",
        "    # reverse = True - sortirana lista se preokreće (postaje sortirana opadajuće)\n",
        "    # reverse = None - lista ostaje sortirana rastuće\n",
        "    li.sort(key = lambda x: x[0], reverse=True)\n",
        "    return li"
      ],
      "metadata": {
        "id": "UGCXjX9wUizE"
      },
      "execution_count": null,
      "outputs": []
    },
    {
      "cell_type": "code",
      "source": [
        "# Funkcija filtrira datu matricu ocena tako da ostaju samo redovi korisnika koji su glasali vise od n puta\n",
        "\n",
        "def filter_matrix(matrix, n):\n",
        "    ratings_array = matrix.toarray()\n",
        "    ratings_matrix_filtered = []\n",
        "    for row in ratings_array:\n",
        "        sum = 0\n",
        "        nonzero_count = np.count_nonzero(row)\n",
        "        if (nonzero_count > n):\n",
        "            ratings_matrix_filtered.append(row)\n",
        "    ratings_matrix_filtered_shape = np.vstack(ratings_matrix_filtered).shape\n",
        "    print(\"Dimenzije filtrirane matrice ocena su: \", ratings_matrix_filtered_shape)\n",
        "    return np.vstack(ratings_matrix_filtered)"
      ],
      "metadata": {
        "id": "cevJq4vkUlJI"
      },
      "execution_count": null,
      "outputs": []
    },
    {
      "cell_type": "code",
      "source": [
        "# Funkcija računa ocenu korisnika u za stavku i na osnovu suseda čija je sličnost sa korisnikom u veća od postavljenog praga\n",
        "\n",
        "def user_based_similarity_limit_ratings_prediction(u, i, users_similarity, ratings, similarity_limit):\n",
        "    \n",
        "    neighbors = []\n",
        "    \n",
        "    similarities = list(zip(users_similarity[u][:], range(users_similarity.shape[0])))  # id-evi korisnika\n",
        "    similarities_sorted = sort_descending(similarities)\n",
        "    similarities_sorted_dict = dict(similarities_sorted)\n",
        "    \n",
        "    most_similar_users_dict = dict(filter(lambda elem: similarity_limit < elem[0] < 0.999, similarities_sorted_dict.items()))\n",
        "\n",
        "    print('Korisnici cija je slicnost sa ciljnim korisnikom veca od {} su:'.format(similarity_limit))\n",
        "    for key in most_similar_users_dict:\n",
        "        print('Vrednost: {:.3f} - slicnost ciljnog korisnika id={} i korisnika id={}'.format(key, u, most_similar_users_dict[key]))\n",
        "    \n",
        "    for key in most_similar_users_dict:\n",
        "        neighbors.append(most_similar_users_dict[key])\n",
        "        \n",
        "    print('Id-evi najslicnijih korisnika: ', neighbors)\n",
        "    \n",
        "    rated_by_u = np.count_nonzero(ratings[u].toarray()[0])\n",
        "    print('Broj ocena koje je dao korisnik u: ', rated_by_u)\n",
        "\n",
        "    user_u_mean = 0\n",
        "    user_u_mean = np.sum(ratings[u])\n",
        "        \n",
        "    if rated_by_u != 0:\n",
        "        user_u_mean = user_u_mean / rated_by_u \n",
        "    else:\n",
        "        print('Korisnik {} nije dao ni jednu ocenu'.format(v))\n",
        "    \n",
        "    print('Prosecna ocena korisnika {} je: {}'.format(u, user_u_mean))\n",
        "    numerator, denominator = 0.0, 0.0\n",
        "\n",
        "    for v in neighbors:\n",
        "        rated_by_v = np.count_nonzero(ratings[v].toarray()[0])\n",
        "        user_v_mean = 0\n",
        "        user_v_mean = np.sum(ratings[v])\n",
        "        \n",
        "        if rated_by_v != 0:\n",
        "            user_v_mean = user_v_mean / rated_by_v\n",
        "            print('Prosecna ocena korisnika {} je: {}'.format(v, user_v_mean))\n",
        "        else:\n",
        "            print('Korisnik {} nije dao ni jednu ocenu'.format(v))\n",
        "        \n",
        "        r_vi = ratings[v,i]\n",
        "        numerator += float((users_similarity[u][v]))*float((r_vi - user_v_mean))\n",
        "        denominator += float(users_similarity[u][v])\n",
        "        \n",
        "    print('-------------------------------------')\n",
        "    print(\"Ocena korisnika u za stavku i: {:.3f}\".format(user_u_mean + numerator/denominator))    \n",
        "    print('-------------------------------------')\n",
        "\n",
        "    return user_u_mean + numerator/denominator"
      ],
      "metadata": {
        "id": "2YinFJoVUnK-"
      },
      "execution_count": null,
      "outputs": []
    },
    {
      "cell_type": "code",
      "source": [
        "# Funkcija računa ocenu korisnika u za stavku i na osnovu ocena nasumično odabranih suseda\n",
        "\n",
        "import random\n",
        "\n",
        "def user_based_random_ratings_prediction(u, i, users_similarity, ratings, similarity_limit, rand_number):\n",
        "    \n",
        "    neighbors = []\n",
        "    \n",
        "    similarities = list(zip(users_similarity[u][:], range(users_similarity.shape[0])))  # id-evi korisnika\n",
        "    similarities_sorted = sort_descending(similarities)\n",
        "    similarities_sorted_dict = dict(similarities_sorted)\n",
        "    \n",
        "    keys = random.sample(list(similarities_sorted_dict), rand_number)\n",
        "    values = [similarities_sorted_dict[k] for k in keys]\n",
        "    \n",
        "    \n",
        "    #most_similar_users_dict = dict(filter(lambda elem: similarity_limit < elem[0] < 0.999, similarities_sorted_dict.items()))\n",
        "\n",
        "    print('Korisnici cija je slicnost sa ciljnim korisnikom veca od {} su:'.format(similarity_limit))\n",
        "    for key in keys:\n",
        "        print('Vrednost: {:.3f} - slicnost ciljnog korisnika id={} i korisnika id={}'.format(key, u, similarities_sorted_dict[key]))\n",
        "    \n",
        "    for key in keys:\n",
        "        neighbors.append(similarities_sorted_dict[key])\n",
        "        \n",
        "    print('Id-evi najslicnijih korisnika: ', neighbors)\n",
        "    \n",
        "    rated_by_u = np.count_nonzero(ratings[u].toarray()[0])\n",
        "    print('Broj ocena koje je dao korisnik u: ', rated_by_u)\n",
        "\n",
        "    user_u_mean = 0\n",
        "    user_u_mean = np.sum(ratings[u])\n",
        "        \n",
        "    if rated_by_u != 0:\n",
        "        user_u_mean = user_u_mean / rated_by_u \n",
        "    else:\n",
        "        print('Korisnik {} nije dao ni jednu ocenu'.format(v))\n",
        "    \n",
        "    print('Prosecna ocena korisnika {} je: {}'.format(u, user_u_mean))\n",
        "    numerator, denominator = 0.0, 0.0\n",
        "\n",
        "    for v in neighbors:\n",
        "        rated_by_v = np.count_nonzero(ratings[v].toarray()[0])\n",
        "        user_v_mean = 0\n",
        "        user_v_mean = np.sum(ratings[v])\n",
        "        \n",
        "        if rated_by_v != 0:\n",
        "            user_v_mean = user_v_mean / rated_by_v\n",
        "            print('Prosecna ocena korisnika {} je: {}'.format(v, user_v_mean))\n",
        "        else:\n",
        "            print('Korisnik {} nije dao ni jednu ocenu'.format(v))\n",
        "        \n",
        "        r_vi = ratings[v,i]\n",
        "        numerator += float((users_similarity[u][v]))*float((r_vi - user_v_mean))\n",
        "        denominator += float(users_similarity[u][v])\n",
        "        \n",
        "    print('-------------------------------------')\n",
        "    print(\"Ocena korisnika u za stavku i: {:.3f}\".format(user_u_mean + numerator/denominator))    \n",
        "    print('-------------------------------------')\n",
        "\n",
        "    return user_u_mean + numerator/denominator"
      ],
      "metadata": {
        "id": "KiKJDT3MUqZw"
      },
      "execution_count": null,
      "outputs": []
    },
    {
      "cell_type": "code",
      "source": [
        "# Redukcija matrice ocena\n",
        "ratings_csr_reduced = ratings_csr_matrix[:83, :900]\n",
        "print(\"Dimenzije redukovane matrice ocena su: \", ratings_csr_reduced.shape)\n",
        "\n",
        "# Filtriranje matrice ocena tako da ostanu korisnici koji su ocenili preko 100 artikla\n",
        "filtered_matrix = filter_matrix(ratings_csr_reduced, n = 100)\n",
        "print('Filtrirana matrica: \\n', filtered_matrix)\n",
        "\n",
        "# Podela skupa na train_and_validation i test\n",
        "filtered_ratings_csr_matrix = sps.csr_matrix(filtered_matrix)\n",
        "train_and_validation, test = split_train_test(filtered_ratings_csr_matrix, 20)"
      ],
      "metadata": {
        "id": "i3IZCGgqUsbO"
      },
      "execution_count": null,
      "outputs": []
    },
    {
      "cell_type": "code",
      "source": [
        "# Podela skupa train_and_validation na skupove train i validation\n",
        "train, validation = split_train_test(train_and_validation, 30)"
      ],
      "metadata": {
        "id": "N3GHqnHQUvDL"
      },
      "execution_count": null,
      "outputs": []
    },
    {
      "cell_type": "code",
      "source": [],
      "metadata": {
        "id": "DWNYyJ5QUxPk"
      },
      "execution_count": null,
      "outputs": []
    },
    {
      "cell_type": "code",
      "source": [
        "# Kreiranje matrice sličnosti\n",
        "similarity = cosine_similarity(train) + EPS\n",
        "print(similarity)"
      ],
      "metadata": {
        "id": "FeWWDCnbUxRx"
      },
      "execution_count": null,
      "outputs": []
    },
    {
      "cell_type": "code",
      "source": [
        "# Provera dimenzija\n",
        "print(\"Dimenzije train skupa: \", train.shape)\n",
        "print(\"Dimenzije matrice sličnosti: \", similarity.shape)"
      ],
      "metadata": {
        "id": "X1c9DsQ_U8ud"
      },
      "execution_count": null,
      "outputs": []
    },
    {
      "cell_type": "code",
      "source": [
        "# Ocena korisnika čiji je id = 9 za stavku čiji je id = 10 - random choice\n",
        "\n",
        "result_random = user_based_random_ratings_prediction(9, 10, similarity, train, 0.25, 2)"
      ],
      "metadata": {
        "id": "Xg0YMVItU_uo"
      },
      "execution_count": null,
      "outputs": []
    },
    {
      "cell_type": "code",
      "source": [
        "# Ocena korisnika čiji je id = 9 za stavku čiji je id = 10\n",
        "result = user_based_similarity_limit_ratings_prediction(9, 10, similarity, train, 0.25)"
      ],
      "metadata": {
        "id": "zi8HAVlEVFl7"
      },
      "execution_count": null,
      "outputs": []
    },
    {
      "cell_type": "code",
      "source": [],
      "metadata": {
        "id": "67k6013uVHpf"
      },
      "execution_count": null,
      "outputs": []
    },
    {
      "cell_type": "code",
      "source": [],
      "metadata": {
        "id": "guT9swZNVH5v"
      },
      "execution_count": null,
      "outputs": []
    },
    {
      "cell_type": "code",
      "source": [],
      "metadata": {
        "id": "CtTQ1w8XVH8b"
      },
      "execution_count": null,
      "outputs": []
    },
    {
      "cell_type": "code",
      "source": [],
      "metadata": {
        "id": "CTeXTNk5U0Ak"
      },
      "execution_count": null,
      "outputs": []
    },
    {
      "cell_type": "code",
      "source": [],
      "metadata": {
        "id": "VWmdFoSxUzUE"
      },
      "execution_count": null,
      "outputs": []
    },
    {
      "cell_type": "code",
      "source": [],
      "metadata": {
        "id": "kZy-9qJtUzXG"
      },
      "execution_count": null,
      "outputs": []
    },
    {
      "cell_type": "code",
      "source": [],
      "metadata": {
        "id": "_dgJDCcMUsde"
      },
      "execution_count": null,
      "outputs": []
    },
    {
      "cell_type": "code",
      "source": [],
      "metadata": {
        "id": "1SAbCzD1UqcO"
      },
      "execution_count": null,
      "outputs": []
    },
    {
      "cell_type": "code",
      "source": [],
      "metadata": {
        "id": "u2N16u2vUqer"
      },
      "execution_count": null,
      "outputs": []
    },
    {
      "cell_type": "code",
      "source": [],
      "metadata": {
        "id": "9s5J9_1rUnNX"
      },
      "execution_count": null,
      "outputs": []
    },
    {
      "cell_type": "code",
      "source": [],
      "metadata": {
        "id": "3Oa6jwASUnPr"
      },
      "execution_count": null,
      "outputs": []
    },
    {
      "cell_type": "code",
      "source": [],
      "metadata": {
        "id": "NoU0Jb1rUlLW"
      },
      "execution_count": null,
      "outputs": []
    },
    {
      "cell_type": "code",
      "source": [],
      "metadata": {
        "id": "op3KDGCCUi1d"
      },
      "execution_count": null,
      "outputs": []
    },
    {
      "cell_type": "code",
      "source": [],
      "metadata": {
        "id": "C60pO8rZUi3v"
      },
      "execution_count": null,
      "outputs": []
    },
    {
      "cell_type": "code",
      "source": [],
      "metadata": {
        "id": "psqxcJU0UgA7"
      },
      "execution_count": null,
      "outputs": []
    },
    {
      "cell_type": "code",
      "source": [],
      "metadata": {
        "id": "azi6gvS5UgDR"
      },
      "execution_count": null,
      "outputs": []
    },
    {
      "cell_type": "code",
      "source": [],
      "metadata": {
        "id": "zEOqwHjcUgFo"
      },
      "execution_count": null,
      "outputs": []
    },
    {
      "cell_type": "code",
      "source": [],
      "metadata": {
        "id": "NwJ1x6YtSRmp"
      },
      "execution_count": null,
      "outputs": []
    }
  ]
}